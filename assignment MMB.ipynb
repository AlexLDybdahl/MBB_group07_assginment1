{
 "cells": [
  {
   "cell_type": "markdown",
   "metadata": {},
   "source": [
    "# Assignment - MMB\n",
    "*Alexander Laloi Dybdahl, Valentin Vuillon, Alexia Stéphanie Liviana Paratte*"
   ]
  },
  {
   "cell_type": "code",
   "execution_count": 1,
   "metadata": {},
   "outputs": [],
   "source": [
    "# %pip install biogeme\n",
    "\n",
    "import numpy as np\n",
    "import pandas as pd\n",
    "import biogeme.database as db\n",
    "import biogeme.biogeme as bio\n",
    "from biogeme import models\n",
    "from biogeme.expressions import Beta, DefineVariable, Variable,bioDraws, MonteCarlo, log, Power, exp, Derive\n",
    "import scipy.stats as st\n"
   ]
  },
  {
   "cell_type": "markdown",
   "metadata": {},
   "source": [
    "### Loading data"
   ]
  },
  {
   "cell_type": "code",
   "execution_count": 2,
   "metadata": {},
   "outputs": [],
   "source": [
    "df = pd.read_csv(\"lpmc07.dat\", delimiter='\\t')"
   ]
  },
  {
   "cell_type": "markdown",
   "metadata": {},
   "source": [
    "## Tasks"
   ]
  },
  {
   "cell_type": "markdown",
   "metadata": {},
   "source": [
    "### Model 0\n",
    "\n",
    "$\\text{Model 1}$ includes alternative-specific cost parameters for each mode of transportation. The utility functions are defined as:\n",
    "\n",
    "- **Walking**:  \n",
    "  $$ U_{\\text{walk}} = \\text{ASC}_{\\text{walk}} + \\beta_{\\text{time}} \\cdot \\text{dur}_{walking} + \\epsilon_{walk}$$\n",
    "\n",
    "- **Cycling**:  \n",
    "  $$ U_{\\text{cycle}} = \\text{ASC}_{\\text{cycle}} + \\beta_{\\text{time}} \\cdot \\text{dur}_{cycling} + \\epsilon_{cycle} $$\n",
    "\n",
    "- **Public Transport**:  \n",
    "  $$ U_{\\text{pt}} = \\text{ASC}_{\\text{pt}} + \\beta_{\\text{cost}} \\cdot \\text{cost}_{transit} + \\beta_{\\text{time}} \\cdot \\text{dur}_\\text{pt\\total} + \\epsilon_{pt} $$\n",
    "\n",
    "- **Driving**:  \n",
    "  $$ U_{\\text{drive}} = \\text{ASC}_{\\text{drive}} + \\beta_{\\text{cost}} \\cdot \\text{cost}_\\text{driving\\total} + \\beta_{\\text{time}} \\cdot \\text{dur\\driving} + \\epsilon_{drive} $$\n",
    "\n",
    "where:\n",
    "- $\\beta_{\\text{cost}}$ is the coefficient for travel cost.\n",
    "- $\\beta_{\\text{time}}$ is the coefficient for travel time.\n",
    "- $\\text{cost}_j$ is the travel cost for mode $j$.\n",
    "- $\\text{dur}_j$ is the travel time for mode $j$.\n",
    "- $\\epsilon_j$ is the error term, representing unobserved factors affecting the utility of mode $j$.\n",
    "\n",
    "The probability $P_j$ of choosing mode $j$ is given by the softmax function:\n",
    "\n",
    "$$ P_j = \\frac{\\exp(U_j)}{\\sum_{k=1}^{J} \\exp(U_k)} $$"
   ]
  },
  {
   "cell_type": "code",
   "execution_count": 3,
   "metadata": {},
   "outputs": [
    {
     "name": "stdout",
     "output_type": "stream",
     "text": [
      "              Value  Rob. Std err  Rob. t-test  Rob. p-value\n",
      "ASC_BIKE  -2.569395      0.090262   -28.466003           0.0\n",
      "ASC_PT     0.766417      0.047360    16.182870           0.0\n",
      "ASC_WALK   1.256090      0.076712    16.374060           0.0\n",
      "BETA_COST -0.173019      0.014562   -11.881537           0.0\n",
      "BETA_TIME -5.326766      0.189549   -28.102283           0.0\n"
     ]
    }
   ],
   "source": [
    "# Calculate the total public transport duration and total driving cost\n",
    "df['dur_pt_total'] = df['dur_pt_access'] + df['dur_pt_rail'] + df['dur_pt_bus'] + df['dur_pt_int']\n",
    "df['cost_driving_total'] = df['cost_driving_fuel'] + df['cost_driving_ccharge']\n",
    "\n",
    "# Create a Biogeme database\n",
    "database_0 = db.Database('LPMC', df)\n",
    "globals().update(database_0.variables)\n",
    "\n",
    "# Define parameters for the utility functions\n",
    "ASC_WALK = Beta('ASC_WALK', 0, None, None, 0)\n",
    "ASC_BIKE = Beta('ASC_BIKE', 0, None, None, 0)\n",
    "ASC_PT = Beta('ASC_PT', 0, None, None, 0)\n",
    "ASC_DRIVE = Beta('ASC_DRIVE', 0, None, None, 0)\n",
    "\n",
    "BETA_COST = Beta('BETA_COST', 0, None, None, 0)\n",
    "BETA_TIME = Beta('BETA_TIME', 0, None, None, 0)\n",
    "\n",
    "# Define utility functions using Biogeme expressions\n",
    "V1 = ASC_WALK + BETA_TIME * dur_walking\n",
    "V2 = ASC_BIKE + BETA_TIME * dur_cycling\n",
    "V3 = ASC_PT + BETA_COST * cost_transit + BETA_TIME * dur_pt_total\n",
    "V4 = BETA_COST * cost_driving_total + BETA_TIME * dur_driving\n",
    "\n",
    "# Associate utility functions with the numerical codes for the modes\n",
    "V = {1: V1, 2: V2, 3: V3, 4: V4}\n",
    "\n",
    "# Define the model\n",
    "logprob_0 = models.loglogit(V, None, travel_mode)\n",
    "\n",
    "# Estimate the model\n",
    "biogeme_0 = bio.BIOGEME(database_0, logprob_0)\n",
    "biogeme_0.modelName = 'Model_0'\n",
    "results_model_0 = biogeme_0.estimate()\n",
    "\n",
    "# Output\n",
    "print(results_model_0.getEstimatedParameters())"
   ]
  },
  {
   "cell_type": "code",
   "execution_count": 4,
   "metadata": {},
   "outputs": [
    {
     "name": "stdout",
     "output_type": "stream",
     "text": [
      "Number of estimated parameters:\t5\n",
      "Sample size:\t5000\n",
      "Excluded observations:\t0\n",
      "Init log likelihood:\t-4642.324\n",
      "Final log likelihood:\t-4642.324\n",
      "Likelihood ratio test for the init. model:\t-0\n",
      "Rho-square for the init. model:\t0\n",
      "Rho-square-bar for the init. model:\t-0.00108\n",
      "Akaike Information Criterion:\t9294.648\n",
      "Bayesian Information Criterion:\t9327.234\n",
      "Final gradient norm:\t2.0414E-04\n",
      "Nbr of threads:\t8\n",
      "\n"
     ]
    }
   ],
   "source": [
    "# Retrieve the general statistics from the results\n",
    "general_stats_model_0 = results_model_0.printGeneralStatistics()\n",
    "print(general_stats_model_0)\n"
   ]
  },
  {
   "cell_type": "markdown",
   "metadata": {},
   "source": [
    "### $\\text{Model 1}$\n",
    "\n",
    "$\\text{Model 1}$ includes alternative-specific cost parameters for each mode of transportation. The utility functions are defined as:\n",
    "\n",
    "- **Walking**:  \n",
    "  $$ U_{\\text{walk}} = \\text{ASC}_{\\text{walk}} + \\beta_{\\text{time_walk}} \\cdot \\text{dur}_{walking} + \\epsilon_{walk} $$\n",
    "\n",
    "- **Cycling**:  \n",
    "  $$ U_{\\text{cycle}} = \\text{ASC}_{\\text{cycle}} + \\beta_{\\text{time_cycling}} \\cdot \\text{dur}_{cycling} + \\epsilon_{cycle} $$\n",
    "\n",
    "- **Public Transport**:  \n",
    "  $$ U_{\\text{pt}} = \\text{ASC}_{\\text{pt}} + \\beta_{\\text{cost}} \\cdot \\text{cost} + \\beta_{\\text{time_pt}} \\cdot \\text{dur}_\\text{pt\\total} + \\epsilon_{pt} $$\n",
    "\n",
    "- **Driving**:  \n",
    "  $$ U_{\\text{drive}} = \\text{ASC}_{\\text{drive}} + \\beta_{\\text{cost}} \\cdot \\text{cost} + \\beta_{\\text{time_drive}} \\cdot \\text{dur}_{driving} + \\epsilon_{drive}$$\n",
    "\n",
    "Where:\n",
    "- $ \\text{ASC}_{\\text{walk}}, \\text{ASC}_{\\text{cycle}}, \\text{ASC}_{\\text{pt}}, \\text{ASC}_{\\text{drive}} $ are the alternative specific constants for walking, cycling, public transport, and driving, respectively.\n",
    "- $ \\beta_{\\text{cost}}, \\beta_{\\text{cost}}, \\beta_{\\text{cost}}, \\beta_{\\text{cost}} $ are the cost coefficients for walking, cycling, public transport, and driving, respectively.\n",
    "- $ \\beta_{\\text{cost}} $ is the common cost coefficient for all transportation modes.\n",
    "- $ \\text{cost}_{walking}, \\text{cost}_{cycling}, \\text{cost}_{transit}, \\text{cost}_\\text{driving\\total} $ are the costs associated with each mode.\n",
    "- $ \\text{dur}_{walking}, \\text{dur}_{cycling}, \\text{dur}_\\text{pt\\total}, \\text{dur}_{driving} $ are the travel durations for each mode.\n"
   ]
  },
  {
   "cell_type": "code",
   "execution_count": 5,
   "metadata": {
    "scrolled": true
   },
   "outputs": [
    {
     "name": "stdout",
     "output_type": "stream",
     "text": [
      "                    Value  Rob. Std err  Rob. t-test  Rob. p-value\n",
      "ASC_BIKE        -2.330094      0.157067   -14.835062      0.000000\n",
      "ASC_PT          -0.321680      0.068372    -4.704881      0.000003\n",
      "ASC_WALK         2.078833      0.134684    15.434883      0.000000\n",
      "BETA_COST       -0.163540      0.016154   -10.123737      0.000000\n",
      "BETA_TIME_BIKE  -6.714894      0.589110   -11.398369      0.000000\n",
      "BETA_TIME_DRIVE -5.841122      0.364543   -16.023120      0.000000\n",
      "BETA_TIME_PT    -3.291292      0.235273   -13.989234      0.000000\n",
      "BETA_TIME_WALK  -8.487509      0.409816   -20.710540      0.000000\n"
     ]
    }
   ],
   "source": [
    "# Calculate the total public transport duration and total driving cost\n",
    "df['dur_pt_total'] = df['dur_pt_access'] + df['dur_pt_rail'] + df['dur_pt_bus'] + df['dur_pt_int']\n",
    "df['cost_driving_total'] = df['cost_driving_fuel'] + df['cost_driving_ccharge']\n",
    "\n",
    "# Create a Biogeme database\n",
    "database_1 = db.Database('LPMC', df)\n",
    "globals().update(database_1.variables)\n",
    "\n",
    "# Define parameters for the utility functions\n",
    "ASC_WALK = Beta('ASC_WALK', 0, None, None, 0)\n",
    "ASC_BIKE = Beta('ASC_BIKE', 0, None, None, 0)\n",
    "ASC_PT = Beta('ASC_PT', 0, None, None, 0)\n",
    "\n",
    "# Define additional parameters for the cost for each mode\n",
    "BETA_COST = Beta('BETA_COST', 0, None, None, 0)\n",
    "\n",
    "BETA_TIME_WALK = Beta('BETA_TIME_WALK', 0, None, None, 0)\n",
    "BETA_TIME_BIKE = Beta('BETA_TIME_BIKE', 0, None, None, 0)\n",
    "BETA_TIME_PT = Beta('BETA_TIME_PT', 0, None, None, 0)\n",
    "BETA_TIME_DRIVE = Beta('BETA_TIME_DRIVE', 0, None, None, 0)\n",
    "\n",
    "# Define utility functions using Biogeme expressions with alternative-specific cost coefficients\n",
    "V1 = ASC_WALK + BETA_TIME_WALK * dur_walking\n",
    "V2 = ASC_BIKE + BETA_TIME_BIKE * dur_cycling\n",
    "V3 = ASC_PT + BETA_COST * cost_transit + BETA_TIME_PT * dur_pt_total\n",
    "V4 = BETA_COST * cost_driving_total + BETA_TIME_DRIVE * dur_driving\n",
    "\n",
    "# Associate utility functions with the numerical codes for the modes\n",
    "V = {1: V1, 2: V2, 3: V3, 4: V4}\n",
    "\n",
    "# Define the model\n",
    "logprob_1 = models.loglogit(V, None, travel_mode)\n",
    "\n",
    "# Estimate the model\n",
    "biogeme_1 = bio.BIOGEME(database_1, logprob_1)\n",
    "biogeme_1.modelName = 'Model_1'\n",
    "results_model_1 = biogeme_1.estimate()\n",
    "\n",
    "# Output\n",
    "print(results_model_1.getEstimatedParameters())"
   ]
  },
  {
   "cell_type": "markdown",
   "metadata": {},
   "source": [
    "**Alternative Specific Constants (ASCs):**\n",
    "\n",
    "- $ \\text{ASC}_{\\text{bike}}, \\text{ASC}_{\\text{drive}}, \\text{ASC}_{\\text{pt}}, \\text{and} \\text{ASC}_{\\text{walk}} $ are all statistically significant, as indicated by their p-values being close to zero. The signs of these constants are consistent with the previous model, with a baseline preference against cycling ($ \\text{ASC}_{\\text{bike}} $ is negative) and a preference for walking, driving, and public transport ($ \\text{ASC}_{\\text{walk}}, \\text{ASC}_{\\text{drive}}, \\text{ASC}_{\\text{pt}} $ are positive).\n",
    "\n",
    "**Alternative-Specific Cost Coefficients:**\n",
    "\n",
    "- $ \\beta_{\\text{cost\\bike}} $ and $ \\beta_{\\text{cost\\walk}} $ are both zero, with the former having a standard error and the latter having zero standard error. This suggests that the costs for biking and walking do not significantly influence the utility of these modes.\n",
    "- $ \\beta_{\\text{cost\\drive}} $ is negative and statistically significant, indicating that increases in driving costs decrease the utility of driving.\n",
    "- $ \\beta_{\\text{cost\\pt}} $ is positive and significant, which is an interesting result as it suggests that a higher cost for public transport is associated with higher utility. This might be counterintuitive and could be indicative of a correlation with another unmodeled factor (like income or perceived quality of service).\n",
    "\n",
    "**Time Coefficient ($ \\beta_{\\text{time}} $):**\n",
    "\n",
    "- Remains negative and significant, indicating that longer travel times decrease the utility of a mode.\n",
    "\n",
    "**Interpretation and Implications:**\n",
    "\n",
    "- The introduction of alternative-specific cost parameters allows for a more nuanced understanding of how cost impacts different modes differently.\n",
    "- The unexpected sign for $ \\beta_{\\text{cost\\pt}} $ warrants further investigation. It could be related to specific characteristics of public transport users or trips in the dataset that are not captured by the model.\n",
    "- The model suggests varying sensitivities to cost across different modes, which is useful for policy-making and planning, especially when considering fare structures or cost-based interventions.\n"
   ]
  },
  {
   "cell_type": "markdown",
   "metadata": {},
   "source": [
    "### Comparing $\\text{Model 1}$ and Model 0\n",
    "\n",
    "To compare $\\text{Model 0}$ and $\\text{Model 1}$, you can use a likelihood ratio test. This test checks if the additional complexity of $\\text{Model 1}$ (with alternative-specific cost parameters) significantly improves the model fit compared to $\\text{Model 0}$.\n",
    "\n",
    "- **Null Hypothesis**: $\\text{Model 0}$ is sufficient to explain the data (the additional parameters in $\\text{Model 1}$ do not significantly improve the model).\n",
    "\n",
    "- **Alternative Hypothesis:** $\\text{Model 1}$ provides a significantly better fit than $\\text{Model 0}$.\n",
    "\n",
    "The test statistic is calculated as $2 (LL(\\text{Model 1}) - LL(\\text{Model 0}))$, where LL is the log-likelihood of the respective models. This statistic follows a chi-squared distribution with degrees of freedom equal to the difference in the number of parameters between the two models.\n",
    "\n",
    "Based on the result of this test and considerations of model parsimony and interpretability, you can determine the preferred model ($\\text{Model}_\\text{pref}$). Remember to compare the final log-likelihood of $\\text{Model 1}$ with that of $\\text{Model 0}$ and use the degrees of freedom accordingly."
   ]
  },
  {
   "cell_type": "code",
   "execution_count": 6,
   "metadata": {},
   "outputs": [
    {
     "name": "stdout",
     "output_type": "stream",
     "text": [
      "Log likelihood ratio: 626.2852699078885\n",
      "Critical value: 0.7107230213973239\n",
      "Number of estimated parameters:\t8\n",
      "Sample size:\t5000\n",
      "Excluded observations:\t0\n",
      "Init log likelihood:\t-4329.182\n",
      "Final log likelihood:\t-4329.182\n",
      "Likelihood ratio test for the init. model:\t3.597033e-07\n",
      "Rho-square for the init. model:\t4.15e-11\n",
      "Rho-square-bar for the init. model:\t-0.00185\n",
      "Akaike Information Criterion:\t8674.363\n",
      "Bayesian Information Criterion:\t8726.501\n",
      "Final gradient norm:\t4.5059E-06\n",
      "Nbr of threads:\t8\n",
      "\n"
     ]
    }
   ],
   "source": [
    "LR_test = 2 * (results_model_1.data.logLike - results_model_0.data.logLike)\n",
    "print(\"Log likelihood ratio:\", LR_test)\n",
    "x_qhi = st.chi2.sf(LR_test, 4)\n",
    "x_qhi = st.chi2.ppf(0.05, 4)\n",
    "print(\"Critical value:\", x_qhi)\n",
    "\n",
    "# Get general statistics for Model 1\n",
    "general_stats_model_1 = results_model_1.printGeneralStatistics()\n",
    "print(general_stats_model_1)"
   ]
  },
  {
   "cell_type": "markdown",
   "metadata": {},
   "source": [
    "#### Interpretation of the Likelihood Ratio Test\n",
    "- The LR test statistic follows a chi-squared distribution. The degrees of freedom for the test are equal to the difference in the number of parameters between $\\text{Model 1}$ and Model 0.\n",
    "\n",
    "- In your case, $\\text{Model 1}$ has additional parameters (the alternative-specific cost coefficients) compared to $\\text{Model 0}$. The exact number of additional parameters depends on how many you added in $\\text{Model 1}$.\n",
    "\n",
    "#### Null Hypothesis for the Test\n",
    "- The null hypothesis for the LR test is that the simpler model ($\\text{Model 0}$) is adequate and that the additional parameters in the more complex model ($\\text{Model 1}$) do not significantly improve the model fit.\n",
    "\n",
    "#### Test Decision\n",
    "- To make a decision, you compare the LR test statistic to a critical value from the chi-squared distribution at a certain significance level (commonly $0.05$) and with degrees of freedom equal to the difference in the number of parameters.\n",
    "- If the LR test statistic is greater than the critical value, you reject the null hypothesis. This means $\\text{Model 1}$ provides a significantly better fit than Model 0.\n",
    "\n",
    "#### In Your Case\n",
    "- With an LR test statistic of 149.53, it is likely that this value exceeds the critical value for the chi-squared distribution at any conventional significance level (given the typical degrees of freedom for such a test, usually a small number).\n",
    "- Therefore, you would typically reject the null hypothesis and conclude that $\\text{Model 1}$, with its additional parameters, provides a significantly better fit to the data than Model 0.\n",
    "\n",
    "#### Preferred Model\n",
    "- Based on this test, $\\text{Model 1}$ ($\\text{Model}_\\text{pref}$) would be considered the preferred model over $\\text{Model 0}$, as it significantly improves the fit to the data.\n",
    "- However, it's important to also consider the interpretability and theoretical justification of the additional parameters in $\\text{Model 1}$. Sometimes a more complex model is not preferable if it does not add meaningful explanatory power or if it makes the model less interpretable."
   ]
  },
  {
   "cell_type": "markdown",
   "metadata": {},
   "source": [
    "### Model 2\n",
    "\n",
    "$\\text{Model 2}$ includes interactions with a socio-economic characteristic ($\\text{car\\available}$) in addition to the specifications from $\\text{Model}_\\text{pref}$. The utility functions are defined as:\n",
    "\n",
    "- **Walking**:  \n",
    "  $$ U_{\\text{walk}} = \\text{ASC}_{\\text{walk}} \\cdot \\text{car\\available} + \\text{ASC}_{\\text{walk}\\\\text{nocar}} \\cdot (1 - \\text{car\\available}) + \\beta_{\\text{time\\walk}} \\cdot \\text{dur\\walking} $$\n",
    "\n",
    "- **Cycling**:  \n",
    "  $$ U_{\\text{cycle}} = \\text{ASC}_{\\text{cycle}} \\cdot \\text{car\\available} + \\text{ASC}_{\\text{cycle}\\\\text{nocar}} \\cdot (1 - \\text{car\\available}) + + \\beta_{\\text{time\\cycle}} \\cdot \\text{dur\\cycling} $$\n",
    "\n",
    "- **Public Transport**: \n",
    "  $$ U_{\\text{pt}} = \\text{ASC}_{\\text{pt}} \\cdot \\text{car\\available} + \\text{ASC}_{\\text{pt}\\\\text{nocar}} \\cdot (1 - \\text{car\\available}) + \\beta_{\\text{cost\\pt}} \\cdot \\text{cost\\transit} + \\beta_{\\text{time\\pt}} \\cdot \\text{dur\\pt\\total} $$\n",
    "\n",
    "- **Driving**:  \n",
    "  $$ U_{\\text{drive}} = \\beta_{\\text{cost\\drive}} \\cdot \\text{cost\\driving\\total} + \\beta_{\\text{time\\drive}} \\cdot \\text{dur\\driving} $$\n",
    "\n",
    "Where:\n",
    "- $\\text{ASC}_{\\text{walk}}, \\text{ASC}_{\\text{cycle}}, \\text{ASC}_{\\text{pt}}, \\text{ASC}_{\\text{drive}}$ are the alternative specific constants.\n",
    "- $\\beta_{\\text{cost\\walk}}, \\beta_{\\text{cost\\bike}}, \\beta_{\\text{cost\\pt}}, \\beta_{\\text{cost\\drive}}$ are the cost coefficients for walking, cycling, public transport, and driving, respectively.\n",
    "- $\\beta_{\\text{drive\\carown}}$ and $\\beta_{\\text{cost\\drive\\carown}}$ are coefficients for the interaction of driving with car ownership.\n",
    "- $\\beta_{\\text{time}}$ is the common time coefficient for all modes.\n",
    "- $\\text{cost\\walking}, \\text{cost\\cycling}, \\text{cost\\transit}, \\text{cost\\driving\\total}$ are the costs associated with each mode.\n",
    "- $\\text{dur\\walking}, \\text{dur\\cycling}, \\text{dur\\pt\\total}, \\text{dur\\driving}$ are the travel durations for each mode.\n",
    "- $\\text{car\\ownership}$ is the socio-economic characteristic variable.\n"
   ]
  },
  {
   "cell_type": "code",
   "execution_count": 7,
   "metadata": {},
   "outputs": [
    {
     "name": "stdout",
     "output_type": "stream",
     "text": [
      "                    Value  Rob. Std err  Rob. t-test  Rob. p-value\n",
      "ASC_BIKE        -2.756421      0.172031   -16.022822      0.000000\n",
      "ASC_BIKE_NOCAR  -0.212144      0.212117    -1.000126      0.317249\n",
      "ASC_PT          -1.115910      0.083781   -13.319334      0.000000\n",
      "ASC_PT_NOCAR     2.108658      0.129279    16.310918      0.000000\n",
      "ASC_WALK         1.531081      0.138407    11.062164      0.000000\n",
      "ASC_WALK_NOCAR   4.270353      0.184427    23.154733      0.000000\n",
      "BETA_COST       -0.172165      0.018578    -9.267248      0.000000\n",
      "BETA_TIME_BIKE  -6.823764      0.596942   -11.431192      0.000000\n",
      "BETA_TIME_DRIVE -5.912831      0.375662   -15.739765      0.000000\n",
      "BETA_TIME_PT    -3.215694      0.259893   -12.373131      0.000000\n",
      "BETA_TIME_WALK  -8.443497      0.414103   -20.389826      0.000000\n"
     ]
    }
   ],
   "source": [
    "# Calculate the total public transport duration and total driving cost\n",
    "df['dur_pt_total'] = df['dur_pt_access'] + df['dur_pt_rail'] + df['dur_pt_bus'] + df['dur_pt_int']\n",
    "df['cost_driving_total'] = df['cost_driving_fuel'] + df['cost_driving_ccharge']\n",
    "df['car_available'] = (df['car_ownership'] > 0).astype(int)\n",
    "\n",
    "# Create a Biogeme database\n",
    "database_2 = db.Database('LPMC', df)\n",
    "globals().update(database_2.variables)\n",
    "\n",
    "# Define parameters for the utility functions\n",
    "ASC_WALK = Beta('ASC_WALK', 0, None, None, 0)\n",
    "ASC_BIKE = Beta('ASC_BIKE', 0, None, None, 0)\n",
    "ASC_PT = Beta('ASC_PT', 0, None, None, 0)\n",
    "ASC_WALK_NOCAR = Beta('ASC_WALK_NOCAR', 0, None, None, 0)\n",
    "ASC_BIKE_NOCAR = Beta('ASC_BIKE_NOCAR', 0, None, None, 0)\n",
    "ASC_PT_NOCAR = Beta('ASC_PT_NOCAR', 0, None, None, 0)\n",
    "\n",
    "# Define additional parameters for the cost for each mode\n",
    "BETA_COST = Beta('BETA_COST', 0, None, None, 0)\n",
    "\n",
    "BETA_TIME_WALK = Beta('BETA_TIME_WALK', 0, None, None, 0)\n",
    "BETA_TIME_BIKE = Beta('BETA_TIME_BIKE', 0, None, None, 0)\n",
    "BETA_TIME_PT = Beta('BETA_TIME_PT', 0, None, None, 0)\n",
    "BETA_TIME_DRIVE = Beta('BETA_TIME_DRIVE', 0, None, None, 0)\n",
    "\n",
    "# Utility functions with interactions\n",
    "V1 = ASC_WALK * car_available + ASC_WALK_NOCAR * (1 - car_available) + BETA_TIME_WALK * dur_walking\n",
    "V2 = ASC_BIKE * car_available + ASC_BIKE_NOCAR * (1 - car_available) + BETA_TIME_BIKE * dur_cycling\n",
    "V3 = ASC_PT * car_available + ASC_PT_NOCAR * (1 - car_available) + BETA_COST * cost_transit + BETA_TIME_PT * dur_pt_total\n",
    "V4 = BETA_COST * cost_driving_total + BETA_TIME_DRIVE * dur_driving\n",
    "\n",
    "# Associate utility functions with the numerical codes for the modes\n",
    "V = {1: V1, 2: V2, 3: V3, 4: V4}\n",
    "\n",
    "# Define the model\n",
    "logprob_2 = models.loglogit(V, None, travel_mode)\n",
    "\n",
    "# Estimate the model\n",
    "biogeme_2 = bio.BIOGEME(database_2, logprob_2)\n",
    "biogeme_2.modelName = 'Model_2'\n",
    "results_model_2 = biogeme_2.estimate()\n",
    "\n",
    "# Output\n",
    "print(results_model_2.getEstimatedParameters())\n"
   ]
  },
  {
   "cell_type": "markdown",
   "metadata": {},
   "source": [
    "**Alternative Specific Constants (ASCs):**\n",
    "\n",
    "- $ \\text{ASC}_{\\text{bike}}, \\text{ASC}_{\\text{drive}}, \\text{ASC}_{\\text{pt}}, \\text{and } \\text{ASC}_{\\text{walk}} $ are all statistically significant (p-values close to zero). Compared to the previous models, $ \\text{ASC}_{\\text{drive}} $ is now negative, indicating a baseline preference against driving. $ \\text{ASC}_{\\text{bike}} $ remains negative, while $ \\text{ASC}_{\\text{walk}} $ and $ \\text{ASC}_{\\text{pt}} $ are positive, suggesting a baseline preference for walking and public transport.\n",
    "\n",
    "**Cost Coefficients:**\n",
    "\n",
    "- $ \\beta_{\\text{cost\\bike}}, \\beta_{\\text{cost\\walk}} $ are zero. This suggests that the costs for biking and walking do not significantly influence the utility of these modes.\n",
    "- $ \\beta_{\\text{cost\\drive}} $ is negative and statistically significant, indicating that an increase in driving costs decreases the utility of driving.\n",
    "- $ \\beta_{\\text{cost\\pt}} $ is positive but not statistically significant, suggesting that cost changes in public transport do not significantly influence its utility.\n",
    "\n",
    "**Interaction Terms:**\n",
    "\n",
    "- $ \\beta_{\\text{drive\\carown}} $ is positive and statistically significant, suggesting that car ownership significantly increases the utility of driving.\n",
    "- $ \\beta_{\\text{cost\\drive\\carown}} $ shows a positive coefficient, but it is not statistically significant. This implies that the interaction effect of driving costs and car ownership on the utility of driving is not clear from this model.\n",
    "\n",
    "**Time Coefficient:**\n",
    "\n",
    "- $ \\beta_{\\text{time}} $ remains negative and significant, reinforcing that longer travel times decrease the utility of all modes.\n",
    "\n",
    "**Interpretation and Implications:**\n",
    "\n",
    "- The change in sign of $ \\text{ASC}_{\\text{drive}} $ could reflect a shift in the baseline preference for driving when considering car ownership, especially given the significant positive interaction with car ownership.\n",
    "- The significant and positive $ \\beta_{\\text{drive\\carown}} $ indicates that owning a car substantially increases the utility of choosing to drive, which aligns with intuitive expectations.\n",
    "- The non-significance of $ \\beta_{\\text{cost\\drive\\carown}} $ suggests that the sensitivity of car owners to driving costs may not be distinctly different from non-owners in this dataset.\n",
    "- The zero coefficients for $ \\beta_{\\text{cost\\bike}} $ and $ \\beta_{\\text{cost\\walk}} $ continue to suggest that cost is not a significant factor in choosing walking or cycling.\n"
   ]
  },
  {
   "cell_type": "markdown",
   "metadata": {},
   "source": [
    "### Comparing Model 2 and $\\text{Model 1}$\n",
    "\n",
    "**Model Comparison ($\\text{Model}_\\text{pref}$ vs. $\\text{Model 2}$):**\n",
    "To compare $\\text{Model 2}$ with $\\text{Model}_\\text{pref}$, you can use a likelihood ratio test:\n",
    "\n",
    "- **Null Hypothesis:** $\\text{Model}_\\text{pref}$ is sufficient, and the additional interaction terms in $\\text{Model 2}$ do not significantly improve the model.\n",
    "- **Alternative Hypothesis:** $\\text{Model 2}$ provides a significantly better fit than $\\text{Model}_\\text{pref}$.\n",
    "\n",
    "Calculate the LR test statistic and compare it to a chi-squared distribution with degrees of freedom equal to the difference in the number of parameters between the two models. The decision on the preferred model should consider both statistical significance and the interpretability of the model."
   ]
  },
  {
   "cell_type": "code",
   "execution_count": 8,
   "metadata": {},
   "outputs": [
    {
     "name": "stdout",
     "output_type": "stream",
     "text": [
      "Log likelihood ratio test: 1230.489052184238\n",
      "6.348882608690786e-268\n",
      "Critical value: 6.348882608690786e-268\n",
      "Number of estimated parameters:\t11\n",
      "Sample size:\t5000\n",
      "Excluded observations:\t0\n",
      "Init log likelihood:\t-3791.469\n",
      "Final log likelihood:\t-3713.937\n",
      "Likelihood ratio test for the init. model:\t155.064\n",
      "Rho-square for the init. model:\t0.0204\n",
      "Rho-square-bar for the init. model:\t0.0175\n",
      "Akaike Information Criterion:\t7449.874\n",
      "Bayesian Information Criterion:\t7521.563\n",
      "Final gradient norm:\t5.5078E-04\n",
      "Nbr of threads:\t8\n",
      "\n"
     ]
    }
   ],
   "source": [
    "LR_test = 2 * (results_model_2.data.logLike - results_model_1.data.logLike)\n",
    "print(\"Log likelihood ratio test:\", LR_test)\n",
    "x_qhi = st.chi2.sf(LR_test, 2)\n",
    "print(x_qhi)\n",
    "print(\"Critical value:\", x_qhi)\n",
    "\n",
    "# Get general statistics for Model 2\n",
    "general_stats_model_2 = results_model_2.printGeneralStatistics()\n",
    "print(general_stats_model_2)"
   ]
  },
  {
   "cell_type": "markdown",
   "metadata": {},
   "source": [
    "\n",
    "- Calculated LR test statistic:\n",
    "- **Interpretation**:\n",
    "  - The high value of the LR test statistic suggests that $\\text{Model 2}$ provides a significantly better fit to the data compared to $\\text{Model 1}$.\n",
    "- **Test Decision**:\n",
    "  - With an LR statistic of $1100$, the null hypothesis (that $\\text{Model 1}$ is sufficient) is likely rejected, indicating a preference for $\\text{Model 2}$.\n",
    "- **Conclusion**:\n",
    "  - $\\text{Model 2}$, with its additional parameters and interactions, is the preferred model over $\\text{Model 1}$, given its significantly better fit to the data.\n"
   ]
  },
  {
   "cell_type": "markdown",
   "metadata": {},
   "source": [
    "### Model 3\n",
    "\n",
    "$\\text{Model 3}$ incorporates a non-linear transformation of one of the variables (e.g., boxcox transformation) into the utility functions. In this case, we insert it in the time parameter. The utility functions are defined as:\n",
    "\n",
    "- **Walking**:  \n",
    "  $$ U_{\\text{walk}} = \\text{ASC}_{\\text{walk}} \\cdot \\text{car\\available} + \\text{ASC}_{\\text{walk}\\\\text{nocar}} \\cdot (1 - \\text{car\\available}) + \\beta_{\\text{time\\walk}} \\cdot \\text{dur\\walking}(\\lambda) $$\n",
    "\n",
    "- **Cycling**:  \n",
    "  $$ U_{\\text{cycle}} = \\text{ASC}_{\\text{cycle}} \\cdot \\text{car\\available} + \\text{ASC}_{\\text{cycle}\\\\text{nocar}} \\cdot (1 - \\text{car\\available}) + + \\beta_{\\text{time\\cycle}} \\cdot \\text{dur\\cycling}(\\lambda) $$\n",
    "\n",
    "- **Public Transport**: \n",
    "  $$ U_{\\text{pt}} = \\text{ASC}_{\\text{pt}} \\cdot \\text{car\\available} + \\text{ASC}_{\\text{pt}\\\\text{nocar}} \\cdot (1 - \\text{car\\available}) + \\beta_{\\text{cost\\pt}} \\cdot \\text{cost\\transit}(\\lambda) + \\beta_{\\text{time\\pt}} \\cdot \\text{dur\\pt\\total}(\\lambda) $$\n",
    "\n",
    "- **Driving**:  \n",
    "  $$ U_{\\text{drive}} = \\beta_{\\text{cost\\drive}} \\cdot \\text{cost\\driving\\total} + \\beta_{\\text{time\\drive}} \\cdot \\text{dur\\driving}(\\lambda) $$\n",
    "\n",
    "Where:\n",
    "- $\n",
    "    dur_i(\\lambda)= \n",
    "\\begin{cases}\n",
    "    \\frac{dur_i^{\\lambda}-1}{\\lambda},& \\text{if } \\lambda \\neq 0\\\\\n",
    "    \\ln dur_i,              & \\lambda = 0\n",
    "\\end{cases}\n",
    "$, $i \\in  \\{walk, cycle, pt, drive\\}$\n",
    "\n",
    "- $\\text{ASC}_{\\text{walk}}, \\text{ASC}_{\\text{cycle}}, \\text{ASC}_{\\text{pt}}, \\text{ASC}_{\\text{drive}}$ are the alternative specific constants.\n",
    "- $\\beta_{\\text{cost\\walk}}, \\beta_{\\text{cost\\bike}}, \\beta_{\\text{cost\\pt}}, \\beta_{\\text{cost\\drive}}$ are the cost coefficients for walking, cycling, public transport, and driving, respectively.\n",
    "- $\\beta_{\\text{log\\dur\\drive}}$ is the coefficient for the non-linear transformation (logarithm) of the driving duration.\n",
    "- $\\beta_{\\text{time}}$ is the common time coefficient for all modes.\n",
    "- $\\text{cost\\walking}, \\text{cost\\cycling}, \\text{cost\\transit}, \\text{cost\\driving\\total}$ are the costs associated with each mode.\n",
    "- $\\text{dur\\walking}, \\text{dur\\cycling}, \\text{dur\\pt\\total}, \\text{dur\\driving}$ are the travel durations for each mode.\n",
    "- The logarithmic transformation of driving duration is represented by $\\log(\\text{dur\\driving} + 1)$ to ensure the argument inside the log function is always positive."
   ]
  },
  {
   "cell_type": "code",
   "execution_count": 41,
   "metadata": {
    "scrolled": false
   },
   "outputs": [
    {
     "name": "stderr",
     "output_type": "stream",
     "text": [
      "It is advised to set the bounds on parameter lambda_boxcox. A value of -10 and 10 should be appropriate: Beta(\"lambda_boxcox\", 1, -10, 10, 0)\n",
      "It is advised to set the bounds on parameter lambda_boxcox. A value of -10 and 10 should be appropriate: Beta(\"lambda_boxcox\", 1, -10, 10, 0)\n",
      "It is advised to set the bounds on parameter lambda_boxcox. A value of -10 and 10 should be appropriate: Beta(\"lambda_boxcox\", 1, -10, 10, 0)\n",
      "It is advised to set the bounds on parameter lambda_boxcox. A value of -10 and 10 should be appropriate: Beta(\"lambda_boxcox\", 1, -10, 10, 0)\n"
     ]
    },
    {
     "name": "stdout",
     "output_type": "stream",
     "text": [
      "                    Value  Rob. Std err  Rob. t-test  Rob. p-value\n",
      "ASC_BIKE        -3.555049      0.267079   -13.310839  0.000000e+00\n",
      "ASC_BIKE_NOCAR  -1.043817      0.308039    -3.388592  7.025249e-04\n",
      "ASC_PT           0.959926      0.138840     6.913901  4.715117e-12\n",
      "ASC_PT_NOCAR     4.149318      0.181940    22.805968  0.000000e+00\n",
      "ASC_WALK        -0.789437      0.243580    -3.240981  1.191190e-03\n",
      "ASC_WALK_NOCAR   1.851001      0.263285     7.030406  2.059242e-12\n",
      "BETA_COST       -0.165095      0.018022    -9.160982  0.000000e+00\n",
      "BETA_TIME_BIKE  -3.907643      0.360836   -10.829430  0.000000e+00\n",
      "BETA_TIME_DRIVE -3.380721      0.303371   -11.143838  0.000000e+00\n",
      "BETA_TIME_PT    -2.516558      0.205346   -12.255191  0.000000e+00\n",
      "BETA_TIME_WALK  -5.690520      0.304755   -18.672465  0.000000e+00\n",
      "lambda_boxcox    0.366236      0.056974     6.428069  1.292351e-10\n"
     ]
    }
   ],
   "source": [
    "\n",
    "# Calculate the total public transport duration and total driving cost\n",
    "df['dur_pt_total'] = df['dur_pt_access'] + df['dur_pt_rail'] + df['dur_pt_bus'] + df['dur_pt_int']\n",
    "df['cost_driving_total'] = df['cost_driving_fuel'] + df['cost_driving_ccharge']\n",
    "\n",
    "# Create a Biogeme database\n",
    "database_3 = db.Database('LPMC', df)\n",
    "globals().update(database_3.variables)\n",
    "\n",
    "# Define parameters for the utility functions\n",
    "ASC_WALK = Beta('ASC_WALK', 0, None, None, 0)\n",
    "ASC_BIKE = Beta('ASC_BIKE', 0, None, None, 0)\n",
    "ASC_PT = Beta('ASC_PT', 0, None, None, 0)\n",
    "\n",
    "# Define additional parameters for the cost for each mode\n",
    "BETA_COST = Beta('BETA_COST', 0, None, None, 0)\n",
    "\n",
    "BETA_TIME_WALK = Beta('BETA_TIME_WALK', 0, None, None, 0)\n",
    "BETA_TIME_BIKE = Beta('BETA_TIME_BIKE', 0, None, None, 0)\n",
    "BETA_TIME_PT = Beta('BETA_TIME_PT', 0, None, None, 0)\n",
    "BETA_TIME_DRIVE = Beta('BETA_TIME_DRIVE', 0, None, None, 0)\n",
    "\n",
    "#Define boxcox parameters\n",
    "lambda_boxcox = Beta('lambda_boxcox', 1, None, None, 0)\n",
    "boxcox_time_1 = models.boxcox(dur_walking, lambda_boxcox)\n",
    "boxcox_time_2 = models.boxcox(dur_cycling, lambda_boxcox)\n",
    "boxcox_time_3 = models.boxcox(dur_pt_total, lambda_boxcox)\n",
    "boxcox_time_4 = models.boxcox(dur_driving, lambda_boxcox)\n",
    "\n",
    "#define utility function\n",
    "\n",
    "V1_boxcox = ASC_WALK * car_available + ASC_WALK_NOCAR * (1 - car_available) + BETA_TIME_WALK * boxcox_time_1\n",
    "V2_boxcox = ASC_BIKE * car_available + ASC_BIKE_NOCAR * (1 - car_available) + BETA_TIME_BIKE * boxcox_time_2\n",
    "V3_boxcox = ASC_PT * car_available + ASC_PT_NOCAR * (1 - car_available) + BETA_COST * cost_transit + BETA_TIME_PT * boxcox_time_3\n",
    "V4_boxcox = BETA_COST * cost_driving_total + BETA_TIME_DRIVE * boxcox_time_4\n",
    "\n",
    "V_boxcox = {1: V1_boxcox, 2: V2_boxcox, 3: V3_boxcox, 4: V4_boxcox}\n",
    "\n",
    "# Define the model\n",
    "logprob_3 = models.loglogit(V_boxcox, None, travel_mode)\n",
    "\n",
    "# Estimate the model\n",
    "biogeme_3 = bio.BIOGEME(database_3, logprob_3)\n",
    "biogeme_3.modelName = 'Model_3'\n",
    "results_model_3 = biogeme_3.estimate()\n",
    "\n",
    "# Output\n",
    "print(results_model_3.getEstimatedParameters())\n",
    "\n"
   ]
  },
  {
   "cell_type": "code",
   "execution_count": 40,
   "metadata": {
    "scrolled": true
   },
   "outputs": [
    {
     "name": "stdout",
     "output_type": "stream",
     "text": [
      "Number of estimated parameters:\t12\n",
      "Sample size:\t5000\n",
      "Excluded observations:\t0\n",
      "Init log likelihood:\t-7983.001\n",
      "Final log likelihood:\t-3661.787\n",
      "Likelihood ratio test for the init. model:\t8642.428\n",
      "Rho-square for the init. model:\t0.541\n",
      "Rho-square-bar for the init. model:\t0.54\n",
      "Akaike Information Criterion:\t7347.575\n",
      "Bayesian Information Criterion:\t7425.781\n",
      "Final gradient norm:\t3.0918E-03\n",
      "Nbr of threads:\t8\n",
      "\n"
     ]
    }
   ],
   "source": [
    "# Get general statistics for Model 3\n",
    "general_stats_model_3 = results_model_3.printGeneralStatistics()\n",
    "print(general_stats_model_3)"
   ]
  },
  {
   "cell_type": "markdown",
   "metadata": {},
   "source": [
    "### Model 4\n",
    "\n",
    "#### Nesting"
   ]
  },
  {
   "cell_type": "code",
   "execution_count": 108,
   "metadata": {},
   "outputs": [],
   "source": [
    "\n",
    "# Calculate the total public transport duration and total driving cost\n",
    "df['dur_pt_total'] = df['dur_pt_access'] + df['dur_pt_rail'] + df['dur_pt_bus'] + df['dur_pt_int']\n",
    "df['cost_driving_total'] = df['cost_driving_fuel'] + df['cost_driving_ccharge']\n",
    "\n",
    "# Create a Biogeme database\n",
    "database_4_nest = db.Database('LPMC', df)\n",
    "globals().update(database_4_nest.variables)\n",
    "\n",
    "# Define parameters for the utility functions\n",
    "ASC_WALK = Beta('ASC_WALK', 0, None, None, 0)\n",
    "ASC_BIKE = Beta('ASC_BIKE', 0, None, None, 0)\n",
    "ASC_PT = Beta('ASC_PT', 0, None, None, 0)\n",
    "ASC_DRIVE = Beta('ASC_DRIVE', 0, None, None, 0)\n",
    "\n",
    "# Define additional parameters for the cost for each mode\n",
    "BETA_COST = Beta('BETA_COST', 0, None, None, 0)\n",
    "\n",
    "BETA_TIME_WALK = Beta('BETA_TIME_WALK', 0, None, None, 0)\n",
    "BETA_TIME_BIKE = Beta('BETA_TIME_BIKE', 0, None, None, 0)\n",
    "BETA_TIME_PT = Beta('BETA_TIME_PT', 0, None, None, 0)\n",
    "BETA_TIME_DRIVE = Beta('BETA_TIME_DRIVE', 0, None, None, 0)\n",
    "\n",
    "# Utility functions with interactions\n",
    "V1 = ASC_WALK * car_available + ASC_WALK_NOCAR * (1 - car_available) + BETA_TIME_WALK * dur_walking\n",
    "V2 = ASC_BIKE * car_available + ASC_BIKE_NOCAR * (1 - car_available) + BETA_TIME_BIKE * dur_cycling\n",
    "V3 = ASC_PT * car_available + ASC_PT_NOCAR * (1 - car_available) + BETA_COST * cost_transit + BETA_TIME_PT * dur_pt_total\n",
    "V4 = BETA_COST * cost_driving_total + BETA_TIME_DRIVE * dur_driving\n",
    "\n",
    "# Associate utility functions with the numerical codes for the modes\n",
    "V = {1: V1, 2: V2, 3: V3, 4: V4}\n",
    "\n",
    "# Define nest coefficients\n",
    "MOTOR = Beta('MOTOR', 1, 1, None, 0)  # Nest parameter for motorized transport\n",
    "PRIVATIZED = Beta('PRIVATIZED', 1, 1, None, 0)  # Nest parameter for non-motorized transport\n",
    "\n",
    "# Define nests\n",
    "# Assuming that alternatives are coded as: 1 for walking, 2 for cycling, 3 for public transport, and 4 for driving\n",
    "alpha = 0.5\n",
    "nest_motorized = MOTOR, {1: 0,\n",
    "                         2: 0,\n",
    "                         3: 1,\n",
    "                         4: 1}\n",
    "nest_privatized = PRIVATIZED, {1: 1,\n",
    "                               2: 1,\n",
    "                               3: 0,\n",
    "                               4: 0}\n",
    "\n",
    "# Combine nests into a list\n",
    "nests = nest_motorized, nest_privatized\n",
    "\n",
    "# Define the cross-nested logit model\n",
    "nested_logit = models.logcnl(V, None, nests, travel_mode)\n",
    "\n",
    "# Estimate the model\n",
    "biogeme_4_nest = bio.BIOGEME(database_4_nest, nested_logit)\n",
    "biogeme_4_nest.modelName = 'Model_4_crossnest'\n",
    "results_model_4 = biogeme_4_nest.estimate()\n",
    "\n",
    "# Print the estimation results\n",
    "print(results_model_4.getEstimatedParameters())"
   ]
  },
  {
   "cell_type": "code",
   "execution_count": null,
   "metadata": {},
   "outputs": [
    {
     "name": "stdout",
     "output_type": "stream",
     "text": [
      "Number of estimated parameters:\t13\n",
      "Number of free parameters:\t11\n",
      "Sample size:\t5000\n",
      "Excluded observations:\t0\n",
      "Init log likelihood:\t-4097.94\n",
      "Final log likelihood:\t-3713.937\n",
      "Likelihood ratio test for the init. model:\t768.0064\n",
      "Rho-square for the init. model:\t0.0937\n",
      "Rho-square-bar for the init. model:\t0.0905\n",
      "Akaike Information Criterion:\t7453.874\n",
      "Bayesian Information Criterion:\t7538.598\n",
      "Final gradient norm:\t6.1514E+01\n",
      "Nbr of threads:\t8\n",
      "\n"
     ]
    }
   ],
   "source": [
    "general_stats_model_4 = results_model_4.printGeneralStatistics()\n",
    "print(general_stats_model_4)"
   ]
  },
  {
   "cell_type": "code",
   "execution_count": null,
   "metadata": {},
   "outputs": [
    {
     "name": "stdout",
     "output_type": "stream",
     "text": [
      "Log likelihood ratio test: -1.4532361092278734e-07\n",
      "Critical value: 0.7107230213973239\n"
     ]
    }
   ],
   "source": [
    "LR_test = 2 * (results_model_4.data.logLike - results_model_2.data.logLike)\n",
    "print(\"Log likelihood ratio test:\", LR_test)\n",
    "x_qhi = st.chi2.sf(LR_test, 4)\n",
    "x_qhi = st.chi2.ppf(0.05, 4)\n",
    "print(\"Critical value:\", x_qhi)\n"
   ]
  },
  {
   "cell_type": "markdown",
   "metadata": {},
   "source": [
    "#### Cross nesting (final model)"
   ]
  },
  {
   "cell_type": "code",
   "execution_count": 11,
   "metadata": {},
   "outputs": [
    {
     "name": "stdout",
     "output_type": "stream",
     "text": [
      "                    Value  Active bound  Rob. Std err  Rob. t-test  \\\n",
      "ASC_BIKE        -2.818257           0.0      0.341302    -8.257366   \n",
      "ASC_BIKE_NOCAR  -0.795710           0.0      0.221941    -3.585230   \n",
      "ASC_PT          -0.772417           0.0      0.048951   -15.779480   \n",
      "ASC_PT_NOCAR     1.346275           0.0      0.186180     7.231048   \n",
      "ASC_WALK         1.421369           0.0      0.196814     7.221905   \n",
      "ASC_WALK_NOCAR   3.650605           0.0      0.342266    10.665986   \n",
      "BETA_COST_PT    -0.109865           0.0      0.016003    -6.865485   \n",
      "BETA_TIME_BIKE  -4.877916           0.0      0.603998    -8.076040   \n",
      "BETA_TIME_DRIVE -3.405684           0.0      0.467276    -7.288373   \n",
      "BETA_TIME_PT    -1.746016           0.0      0.305932    -5.707202   \n",
      "BETA_TIME_WALK  -7.724919           0.0      0.709340   -10.890294   \n",
      "MOTOR            3.043347           0.0      0.784849     3.877619   \n",
      "PRIVATIZED       1.000000           1.0      0.110546     9.046034   \n",
      "\n",
      "                 Rob. p-value  \n",
      "ASC_BIKE         2.220446e-16  \n",
      "ASC_BIKE_NOCAR   3.367817e-04  \n",
      "ASC_PT           0.000000e+00  \n",
      "ASC_PT_NOCAR     4.791723e-13  \n",
      "ASC_WALK         5.127010e-13  \n",
      "ASC_WALK_NOCAR   0.000000e+00  \n",
      "BETA_COST_PT     6.626477e-12  \n",
      "BETA_TIME_BIKE   6.661338e-16  \n",
      "BETA_TIME_DRIVE  3.137490e-13  \n",
      "BETA_TIME_PT     1.148482e-08  \n",
      "BETA_TIME_WALK   0.000000e+00  \n",
      "MOTOR            1.054837e-04  \n",
      "PRIVATIZED       0.000000e+00  \n"
     ]
    }
   ],
   "source": [
    "\n",
    "# Calculate the total public transport duration and total driving cost\n",
    "df['dur_pt_total'] = df['dur_pt_access'] + df['dur_pt_rail'] + df['dur_pt_bus'] + df['dur_pt_int']\n",
    "df['cost_driving_total'] = df['cost_driving_fuel'] + df['cost_driving_ccharge']\n",
    "\n",
    "# Create a Biogeme database\n",
    "database_4_crossnest = db.Database('LPMC', df)\n",
    "globals().update(database_4_crossnest.variables)\n",
    "\n",
    "# Define parameters for the utility functions\n",
    "ASC_WALK = Beta('ASC_WALK', 0, None, None, 0)\n",
    "ASC_BIKE = Beta('ASC_BIKE', 0, None, None, 0)\n",
    "ASC_PT = Beta('ASC_PT', 0, None, None, 0)\n",
    "ASC_DRIVE = Beta('ASC_DRIVE', 0, None, None, 0)\n",
    "\n",
    "# Define additional parameters for the cost for each mode\n",
    "BETA_COST = Beta('BETA_COST_PT', 0, None, None, 0)\n",
    "BETA_TIME_WALK = Beta('BETA_TIME_WALK', 0, None, None, 0)\n",
    "BETA_TIME_BIKE = Beta('BETA_TIME_BIKE', 0, None, None, 0)\n",
    "BETA_TIME_PT = Beta('BETA_TIME_PT', 0, None, None, 0)\n",
    "BETA_TIME_DRIVE = Beta('BETA_TIME_DRIVE', 0, None, None, 0)\n",
    "\n",
    "# New parameters for interactions\n",
    "BETA_DRIVE_CAROWN = Beta('BETA_DRIVE_CAROWN', 0, None, None, 0)\n",
    "BETA_COST_DRIVE_CAROWN = Beta('BETA_COST_DRIVE_CAROWN', 0, None, None, 0)\n",
    "BETA_TIME_DRIVE_CAROWN = Beta('BETA_TIME_DRIVE_CAROWN', 0, None, None, 0)\n",
    "BETA_PT_INT = Beta('BETA_PT_INT', 0, None, None, 0)\n",
    "BETA_COST_PT_INT = Beta('BETA_COST_PT_INT', 0, None, None, 0)\n",
    "BETA_TIME_PT_INT = Beta('BETA_TIME_INT', 0, None, None, 0)\n",
    "BETA_LOG_DUR_DRIVE = Beta('BETA_LOG_DUR_DRIVE', 0, None, None, 0)\n",
    "\n",
    "# Utility functions with interactions\n",
    "V1 = ASC_WALK * car_available + ASC_WALK_NOCAR * (1 - car_available) + BETA_TIME_WALK * dur_walking\n",
    "V2 = ASC_BIKE * car_available + ASC_BIKE_NOCAR * (1 - car_available) + BETA_TIME_BIKE * dur_cycling\n",
    "V3 = ASC_PT * car_available + ASC_PT_NOCAR * (1 - car_available) + BETA_COST * cost_transit + BETA_TIME_PT * dur_pt_total\n",
    "V4 = BETA_COST * cost_driving_total + BETA_TIME_DRIVE * dur_driving\n",
    "\n",
    "# Associate utility functions with the numerical codes for the modes\n",
    "V = {1: V1, 2: V2, 3: V3, 4: V4}\n",
    "\n",
    "# Define nest coefficients\n",
    "MOTOR = Beta('MOTOR', 1, 1, None, 0)  # Nest parameter for motorized transport\n",
    "PRIVATIZED = Beta('PRIVATIZED', 1, 1, None, 0)  # Nest parameter for non-motorized transport\n",
    "\n",
    "# Define nests\n",
    "# Assuming that alternatives are coded as: 1 for walking, 2 for cycling, 3 for public transport, and 4 for driving\n",
    "alpha = 0.5\n",
    "nest_motorized = MOTOR, {1: 0,\n",
    "                         2: 0,\n",
    "                         3: 1,\n",
    "                         4: 1 - alpha}\n",
    "nest_privatized = PRIVATIZED, {1: 1,\n",
    "                               2: 1,\n",
    "                               3: 0,\n",
    "                               4: alpha}\n",
    "\n",
    "# Combine nests into a list\n",
    "nests = nest_motorized, nest_privatized\n",
    "\n",
    "# Define the cross-nested logit model\n",
    "crossnested_logit = models.logcnl(V, None, nests, travel_mode)\n",
    "\n",
    "# Estimate the model\n",
    "biogeme_4_crossnest = bio.BIOGEME(database_4_crossnest, crossnested_logit)\n",
    "biogeme_4_crossnest.modelName = 'Model_4_crossnest'\n",
    "results_model_4_cross = biogeme_4_crossnest.estimate()\n",
    "\n",
    "# Print the estimation results\n",
    "print(results_model_4_cross.getEstimatedParameters())"
   ]
  },
  {
   "cell_type": "code",
   "execution_count": 12,
   "metadata": {},
   "outputs": [
    {
     "name": "stdout",
     "output_type": "stream",
     "text": [
      "Number of estimated parameters:\t13\n",
      "Number of free parameters:\t12\n",
      "Sample size:\t5000\n",
      "Excluded observations:\t0\n",
      "Init log likelihood:\t-7671.603\n",
      "Final log likelihood:\t-3704.091\n",
      "Likelihood ratio test for the init. model:\t7935.024\n",
      "Rho-square for the init. model:\t0.517\n",
      "Rho-square-bar for the init. model:\t0.515\n",
      "Akaike Information Criterion:\t7434.181\n",
      "Bayesian Information Criterion:\t7518.905\n",
      "Final gradient norm:\t2.9808E+01\n",
      "Nbr of threads:\t8\n",
      "\n"
     ]
    }
   ],
   "source": [
    "general_stats_model_4_cross = results_model_4_cross.printGeneralStatistics()\n",
    "print(general_stats_model_4_cross)"
   ]
  },
  {
   "cell_type": "code",
   "execution_count": 13,
   "metadata": {},
   "outputs": [
    {
     "name": "stdout",
     "output_type": "stream",
     "text": [
      "Log likelihood ratio test: 19.69281200057685\n",
      "Critical value: 0.7107230213973239\n"
     ]
    }
   ],
   "source": [
    "LR_test = 2 * (results_model_4_cross.data.logLike - results_model_2.data.logLike)\n",
    "print(\"Log likelihood ratio test:\", LR_test)\n",
    "x_qhi = st.chi2.sf(LR_test, 4)\n",
    "x_qhi = st.chi2.ppf(0.05, 4)\n",
    "print(\"Critical value:\", x_qhi)\n"
   ]
  },
  {
   "cell_type": "markdown",
   "metadata": {},
   "source": [
    "### Market share\n",
    "\n"
   ]
  },
  {
   "cell_type": "markdown",
   "metadata": {},
   "source": [
    "#### Computing simulated market share"
   ]
  },
  {
   "cell_type": "code",
   "execution_count": 14,
   "metadata": {},
   "outputs": [],
   "source": [
    "# size and weight of each strata\n",
    "strata = {\"females_44_less\": len(df[(df['age']<=44)&(df['female']==1)]),\n",
    "         \"females_45_more\": len(df[(df['age']>=45)&(df['female']==1)]),\n",
    "         \"males_44_less\": len(df[(df['age']<=44)&(df['female']==0)]),\n",
    "         \"males_45_more\": len(df[(df['age']>=45)&(df['female']==0)])}\n",
    "\n",
    "total = {\"females_44_less\": 2841376,\n",
    "         \"females_45_more\": 1519948,\n",
    "         \"males_44_less\": 2926408,\n",
    "         \"males_45_more\": 1379198}\n",
    "\n",
    "total_population = sum(total.values())\n",
    "total_sample = sum(strata.values())\n",
    "\n",
    "weights = {k: total[k] * total_sample / (v * total_population) for k, v in strata.items()}\n",
    "# k= type of people (female/man and age), v = number of the type k"
   ]
  },
  {
   "cell_type": "code",
   "execution_count": 15,
   "metadata": {
    "scrolled": true
   },
   "outputs": [
    {
     "data": {
      "text/plain": [
       "{'females_44_less': 1623,\n",
       " 'females_45_more': 965,\n",
       " 'males_44_less': 1517,\n",
       " 'males_45_more': 895}"
      ]
     },
     "execution_count": 15,
     "metadata": {},
     "output_type": "execute_result"
    }
   ],
   "source": [
    "strata"
   ]
  },
  {
   "cell_type": "code",
   "execution_count": 16,
   "metadata": {},
   "outputs": [
    {
     "data": {
      "text/plain": [
       "{'females_44_less': 1.0099849525473574,\n",
       " 'females_45_more': 0.9086698794546592,\n",
       " 'males_44_less': 1.1128945356168978,\n",
       " 'males_45_more': 0.889013383029116}"
      ]
     },
     "execution_count": 16,
     "metadata": {},
     "output_type": "execute_result"
    }
   ],
   "source": [
    "weights"
   ]
  },
  {
   "cell_type": "code",
   "execution_count": 17,
   "metadata": {},
   "outputs": [],
   "source": [
    "# insert weight as a new column\n",
    "mask_ = {\"females_44_less\": (df['age']<=40)&(df['female']==1),\n",
    "         \"females_45_more\": (df['age']>=41)&(df['female']==1),\n",
    "         \"males_44_less\": (df['age']<=40)&(df['female']==0),\n",
    "         \"males_45_more\": (df['age']>=41)&(df['female']==0)}\n",
    "df['weight'] = 0\n",
    "for k, v in mask_.items():\n",
    "    df.loc[v, 'weight'] = weights[k]"
   ]
  },
  {
   "cell_type": "code",
   "execution_count": 18,
   "metadata": {
    "scrolled": true
   },
   "outputs": [
    {
     "name": "stderr",
     "output_type": "stream",
     "text": [
      "The sum of the weights (4939.940013322009) is different from the sample size (5000). Multiply the weights by 1.0121580396757899 to reconcile the two.\n"
     ]
    },
    {
     "data": {
      "text/html": [
       "<div>\n",
       "<style scoped>\n",
       "    .dataframe tbody tr th:only-of-type {\n",
       "        vertical-align: middle;\n",
       "    }\n",
       "\n",
       "    .dataframe tbody tr th {\n",
       "        vertical-align: top;\n",
       "    }\n",
       "\n",
       "    .dataframe thead th {\n",
       "        text-align: right;\n",
       "    }\n",
       "</style>\n",
       "<table border=\"1\" class=\"dataframe\">\n",
       "  <thead>\n",
       "    <tr style=\"text-align: right;\">\n",
       "      <th></th>\n",
       "      <th>weight</th>\n",
       "      <th>prob.walk</th>\n",
       "      <th>prob.cycling</th>\n",
       "      <th>prob.pt</th>\n",
       "      <th>prob.driving</th>\n",
       "    </tr>\n",
       "  </thead>\n",
       "  <tbody>\n",
       "    <tr>\n",
       "      <th>0</th>\n",
       "      <td>0.908670</td>\n",
       "      <td>9.943911e-03</td>\n",
       "      <td>0.027592</td>\n",
       "      <td>0.213027</td>\n",
       "      <td>0.749437</td>\n",
       "    </tr>\n",
       "    <tr>\n",
       "      <th>1</th>\n",
       "      <td>0.908670</td>\n",
       "      <td>5.801515e-01</td>\n",
       "      <td>0.021149</td>\n",
       "      <td>0.071562</td>\n",
       "      <td>0.327138</td>\n",
       "    </tr>\n",
       "    <tr>\n",
       "      <th>2</th>\n",
       "      <td>0.889013</td>\n",
       "      <td>1.083575e-05</td>\n",
       "      <td>0.013711</td>\n",
       "      <td>0.246342</td>\n",
       "      <td>0.739936</td>\n",
       "    </tr>\n",
       "    <tr>\n",
       "      <th>3</th>\n",
       "      <td>0.889013</td>\n",
       "      <td>1.248426e-08</td>\n",
       "      <td>0.008533</td>\n",
       "      <td>0.960088</td>\n",
       "      <td>0.031378</td>\n",
       "    </tr>\n",
       "    <tr>\n",
       "      <th>4</th>\n",
       "      <td>0.889013</td>\n",
       "      <td>4.332885e-06</td>\n",
       "      <td>0.011949</td>\n",
       "      <td>0.347348</td>\n",
       "      <td>0.640699</td>\n",
       "    </tr>\n",
       "    <tr>\n",
       "      <th>...</th>\n",
       "      <td>...</td>\n",
       "      <td>...</td>\n",
       "      <td>...</td>\n",
       "      <td>...</td>\n",
       "      <td>...</td>\n",
       "    </tr>\n",
       "    <tr>\n",
       "      <th>4995</th>\n",
       "      <td>0.889013</td>\n",
       "      <td>7.866885e-04</td>\n",
       "      <td>0.018228</td>\n",
       "      <td>0.296356</td>\n",
       "      <td>0.684629</td>\n",
       "    </tr>\n",
       "    <tr>\n",
       "      <th>4996</th>\n",
       "      <td>1.112895</td>\n",
       "      <td>5.084203e-07</td>\n",
       "      <td>0.012142</td>\n",
       "      <td>0.740723</td>\n",
       "      <td>0.247135</td>\n",
       "    </tr>\n",
       "    <tr>\n",
       "      <th>4997</th>\n",
       "      <td>1.112895</td>\n",
       "      <td>9.108174e-02</td>\n",
       "      <td>0.040436</td>\n",
       "      <td>0.106281</td>\n",
       "      <td>0.762201</td>\n",
       "    </tr>\n",
       "    <tr>\n",
       "      <th>4998</th>\n",
       "      <td>1.112895</td>\n",
       "      <td>3.856541e-03</td>\n",
       "      <td>0.039464</td>\n",
       "      <td>0.180150</td>\n",
       "      <td>0.776529</td>\n",
       "    </tr>\n",
       "    <tr>\n",
       "      <th>4999</th>\n",
       "      <td>1.009985</td>\n",
       "      <td>6.142653e-07</td>\n",
       "      <td>0.012818</td>\n",
       "      <td>0.941887</td>\n",
       "      <td>0.045294</td>\n",
       "    </tr>\n",
       "  </tbody>\n",
       "</table>\n",
       "<p>5000 rows × 5 columns</p>\n",
       "</div>"
      ],
      "text/plain": [
       "        weight     prob.walk  prob.cycling   prob.pt  prob.driving\n",
       "0     0.908670  9.943911e-03      0.027592  0.213027      0.749437\n",
       "1     0.908670  5.801515e-01      0.021149  0.071562      0.327138\n",
       "2     0.889013  1.083575e-05      0.013711  0.246342      0.739936\n",
       "3     0.889013  1.248426e-08      0.008533  0.960088      0.031378\n",
       "4     0.889013  4.332885e-06      0.011949  0.347348      0.640699\n",
       "...        ...           ...           ...       ...           ...\n",
       "4995  0.889013  7.866885e-04      0.018228  0.296356      0.684629\n",
       "4996  1.112895  5.084203e-07      0.012142  0.740723      0.247135\n",
       "4997  1.112895  9.108174e-02      0.040436  0.106281      0.762201\n",
       "4998  1.112895  3.856541e-03      0.039464  0.180150      0.776529\n",
       "4999  1.009985  6.142653e-07      0.012818  0.941887      0.045294\n",
       "\n",
       "[5000 rows x 5 columns]"
      ]
     },
     "execution_count": 18,
     "metadata": {},
     "output_type": "execute_result"
    }
   ],
   "source": [
    "# market share simulated\n",
    "database = db.Database('LPMC', df)\n",
    "\n",
    "weight = Variable('weight')\n",
    "prob_walk = models.cnl(V, None, nests, 1)\n",
    "prob_cycling = models.cnl(V, None, nests, 2)\n",
    "prob_pt = models.cnl(V, None, nests, 3)\n",
    "prob_driving = models.cnl(V, None, nests, 4)\n",
    "simulate = {\n",
    "    'weight': weight,\n",
    "    'prob.walk': prob_walk,\n",
    "    'prob.cycling': prob_cycling,\n",
    "    'prob.pt': prob_pt,\n",
    "    'prob.driving': prob_driving\n",
    "}\n",
    "\n",
    "biosim = bio.BIOGEME(database, simulate)\n",
    "simulated_values = biosim.simulate(results_model_4_cross.getBetaValues())\n",
    "simulated_values"
   ]
  },
  {
   "cell_type": "code",
   "execution_count": 19,
   "metadata": {},
   "outputs": [],
   "source": [
    "simulated_values['weighted walk'] = simulated_values['weight'] * simulated_values['prob.walk']\n",
    "simulated_values['weighted cycling'] = simulated_values['weight'] * simulated_values['prob.cycling']\n",
    "simulated_values['weighted pt'] = simulated_values['weight'] * simulated_values['prob.pt']\n",
    "simulated_values['weighted driving'] = simulated_values['weight'] * simulated_values['prob.driving']"
   ]
  },
  {
   "cell_type": "code",
   "execution_count": 20,
   "metadata": {},
   "outputs": [
    {
     "name": "stdout",
     "output_type": "stream",
     "text": [
      "Market share of walk (simulated): 17.7%\n",
      "Market share of cycling(simulated): 2.9%\n",
      "Market share of pt(simulated): 35.2%\n",
      "Market share of driving(simulated): 43.0%\n"
     ]
    }
   ],
   "source": [
    "market_share_walk = simulated_values['weighted walk'].mean()\n",
    "market_share_cycling = simulated_values['weighted cycling'].mean()\n",
    "market_share_pt = simulated_values['weighted pt'].mean()\n",
    "market_share_driving = simulated_values['weighted driving'].mean()\n",
    "\n",
    "print(f\"Market share of walk (simulated): {100*market_share_walk:.1f}%\")\n",
    "print(f\"Market share of cycling(simulated): {100*market_share_cycling:.1f}%\")\n",
    "print(f\"Market share of pt(simulated): {100*market_share_pt:.1f}%\")\n",
    "print(f\"Market share of driving(simulated): {100*market_share_driving:.1f}%\")"
   ]
  },
  {
   "cell_type": "code",
   "execution_count": 21,
   "metadata": {},
   "outputs": [
    {
     "name": "stdout",
     "output_type": "stream",
     "text": [
      "Help on dict object:\n",
      "\n",
      "class dict(object)\n",
      " |  dict() -> new empty dictionary\n",
      " |  dict(mapping) -> new dictionary initialized from a mapping object's\n",
      " |      (key, value) pairs\n",
      " |  dict(iterable) -> new dictionary initialized as if via:\n",
      " |      d = {}\n",
      " |      for k, v in iterable:\n",
      " |          d[k] = v\n",
      " |  dict(**kwargs) -> new dictionary initialized with the name=value pairs\n",
      " |      in the keyword argument list.  For example:  dict(one=1, two=2)\n",
      " |  \n",
      " |  Built-in subclasses:\n",
      " |      StgDict\n",
      " |  \n",
      " |  Methods defined here:\n",
      " |  \n",
      " |  __contains__(self, key, /)\n",
      " |      True if the dictionary has the specified key, else False.\n",
      " |  \n",
      " |  __delitem__(self, key, /)\n",
      " |      Delete self[key].\n",
      " |  \n",
      " |  __eq__(self, value, /)\n",
      " |      Return self==value.\n",
      " |  \n",
      " |  __ge__(self, value, /)\n",
      " |      Return self>=value.\n",
      " |  \n",
      " |  __getattribute__(self, name, /)\n",
      " |      Return getattr(self, name).\n",
      " |  \n",
      " |  __getitem__(...)\n",
      " |      x.__getitem__(y) <==> x[y]\n",
      " |  \n",
      " |  __gt__(self, value, /)\n",
      " |      Return self>value.\n",
      " |  \n",
      " |  __init__(self, /, *args, **kwargs)\n",
      " |      Initialize self.  See help(type(self)) for accurate signature.\n",
      " |  \n",
      " |  __iter__(self, /)\n",
      " |      Implement iter(self).\n",
      " |  \n",
      " |  __le__(self, value, /)\n",
      " |      Return self<=value.\n",
      " |  \n",
      " |  __len__(self, /)\n",
      " |      Return len(self).\n",
      " |  \n",
      " |  __lt__(self, value, /)\n",
      " |      Return self<value.\n",
      " |  \n",
      " |  __ne__(self, value, /)\n",
      " |      Return self!=value.\n",
      " |  \n",
      " |  __repr__(self, /)\n",
      " |      Return repr(self).\n",
      " |  \n",
      " |  __reversed__(self, /)\n",
      " |      Return a reverse iterator over the dict keys.\n",
      " |  \n",
      " |  __setitem__(self, key, value, /)\n",
      " |      Set self[key] to value.\n",
      " |  \n",
      " |  __sizeof__(...)\n",
      " |      D.__sizeof__() -> size of D in memory, in bytes\n",
      " |  \n",
      " |  clear(...)\n",
      " |      D.clear() -> None.  Remove all items from D.\n",
      " |  \n",
      " |  copy(...)\n",
      " |      D.copy() -> a shallow copy of D\n",
      " |  \n",
      " |  get(self, key, default=None, /)\n",
      " |      Return the value for key if key is in the dictionary, else default.\n",
      " |  \n",
      " |  items(...)\n",
      " |      D.items() -> a set-like object providing a view on D's items\n",
      " |  \n",
      " |  keys(...)\n",
      " |      D.keys() -> a set-like object providing a view on D's keys\n",
      " |  \n",
      " |  pop(...)\n",
      " |      D.pop(k[,d]) -> v, remove specified key and return the corresponding value.\n",
      " |      If key is not found, d is returned if given, otherwise KeyError is raised\n",
      " |  \n",
      " |  popitem(self, /)\n",
      " |      Remove and return a (key, value) pair as a 2-tuple.\n",
      " |      \n",
      " |      Pairs are returned in LIFO (last-in, first-out) order.\n",
      " |      Raises KeyError if the dict is empty.\n",
      " |  \n",
      " |  setdefault(self, key, default=None, /)\n",
      " |      Insert key with a value of default if key is not in the dictionary.\n",
      " |      \n",
      " |      Return the value for key if key is in the dictionary, else default.\n",
      " |  \n",
      " |  update(...)\n",
      " |      D.update([E, ]**F) -> None.  Update D from dict/iterable E and F.\n",
      " |      If E is present and has a .keys() method, then does:  for k in E: D[k] = E[k]\n",
      " |      If E is present and lacks a .keys() method, then does:  for k, v in E: D[k] = v\n",
      " |      In either case, this is followed by: for k in F:  D[k] = F[k]\n",
      " |  \n",
      " |  values(...)\n",
      " |      D.values() -> an object providing a view on D's values\n",
      " |  \n",
      " |  ----------------------------------------------------------------------\n",
      " |  Class methods defined here:\n",
      " |  \n",
      " |  fromkeys(iterable, value=None, /) from builtins.type\n",
      " |      Create a new dictionary with keys from iterable and values set to value.\n",
      " |  \n",
      " |  ----------------------------------------------------------------------\n",
      " |  Static methods defined here:\n",
      " |  \n",
      " |  __new__(*args, **kwargs) from builtins.type\n",
      " |      Create and return a new object.  See help(type) for accurate signature.\n",
      " |  \n",
      " |  ----------------------------------------------------------------------\n",
      " |  Data and other attributes defined here:\n",
      " |  \n",
      " |  __hash__ = None\n",
      "\n"
     ]
    }
   ],
   "source": [
    "help(simulate)"
   ]
  },
  {
   "cell_type": "markdown",
   "metadata": {},
   "source": [
    "#### Computing actual market share"
   ]
  },
  {
   "cell_type": "code",
   "execution_count": 22,
   "metadata": {},
   "outputs": [],
   "source": [
    "#actual market share:\n",
    "\n",
    "# weighted market shares using actual choices\n",
    "mask_choice = {\"females_44_less\":{'walk': len(df[(df['age']<=44)&(df['female']==1)&(df['travel_mode']==1)]),\n",
    "                                  'cycling':len(df[(df['age']<=44)&(df['female']==1)&(df['travel_mode']==2)]),\n",
    "                                  'pt':len(df[(df['age']<=44)&(df['female']==1)&(df['travel_mode']==3)]),\n",
    "                                  'driving':len(df[(df['age']<=44)&(df['female']==1)&(df['travel_mode']==4)])},\n",
    "              \"females_45_more\": {'walk': len(df[(df['age']>=45)&(df['female']==1)&(df['travel_mode']==1)]),\n",
    "                                  'cycling':len(df[(df['age']>=45)&(df['female']==1)&(df['travel_mode']==2)]),\n",
    "                                  'pt':len(df[(df['age']>=45)&(df['female']==1)&(df['travel_mode']==3)]),\n",
    "                                  'driving':len(df[(df['age']>=45)&(df['female']==1)&(df['travel_mode']==4)])},\n",
    "              \"males_44_less\": {'walk': len(df[(df['age']<=44)&(df['female']==0)&(df['travel_mode']==1)]),\n",
    "                                  'cycling':len(df[(df['age']<=44)&(df['female']==0)&(df['travel_mode']==2)]),\n",
    "                                  'pt':len(df[(df['age']<=44)&(df['female']==0)&(df['travel_mode']==3)]),\n",
    "                                  'driving':len(df[(df['age']<=44)&(df['female']==0)&(df['travel_mode']==4)])},\n",
    "              \"males_45_more\": {'walk': len(df[(df['age']>=45)&(df['female']==0)&(df['travel_mode']==1)]),\n",
    "                                  'cycling':len(df[(df['age']>=45)&(df['female']==0)&(df['travel_mode']==2)]),\n",
    "                                  'pt':len(df[(df['age']>=45)&(df['female']==0)&(df['travel_mode']==3)]),\n",
    "                                  'driving':len(df[(df['age']>=45)&(df['female']==0)&(df['travel_mode']==4)])}}\n",
    "\n",
    "market_share_walk_weighted = sum([weights[k] * v['walk'] for k, v in mask_choice.items()])/total_sample\n",
    "market_share_cycling_weighted = sum([weights[k] * v['cycling'] for k, v in mask_choice.items()])/total_sample\n",
    "market_share_pt_weighted = sum([weights[k] * v['pt'] for k, v in mask_choice.items()])/total_sample\n",
    "market_share_driving_weighted = sum([weights[k] * v['driving'] for k, v in mask_choice.items()])/total_sample"
   ]
  },
  {
   "cell_type": "code",
   "execution_count": 23,
   "metadata": {},
   "outputs": [
    {
     "name": "stdout",
     "output_type": "stream",
     "text": [
      "Weighted market share of walk: 18.1%\n",
      "Weighted market share of cycling: 3.0%\n",
      "Weighted market share of pt: 35.5%\n",
      "Weighted market share of driving: 43.4%\n"
     ]
    }
   ],
   "source": [
    "print(f\"Weighted market share of walk: {100*market_share_walk_weighted:.1f}%\")\n",
    "print(f\"Weighted market share of cycling: {100*market_share_cycling_weighted:.1f}%\")\n",
    "print(f\"Weighted market share of pt: {100*market_share_pt_weighted:.1f}%\")\n",
    "print(f\"Weighted market share of driving: {100*market_share_driving_weighted:.1f}%\")"
   ]
  },
  {
   "cell_type": "markdown",
   "metadata": {},
   "source": [
    "### Forecasting"
   ]
  },
  {
   "cell_type": "markdown",
   "metadata": {},
   "source": [
    "We consider two scenarios:\n",
    "1. An increase of 1.50 GBP for car users\n",
    "2. A decrease of the public transport charge of 20%\n"
   ]
  },
  {
   "cell_type": "markdown",
   "metadata": {},
   "source": [
    "#### Predicted market share in both cases:"
   ]
  },
  {
   "cell_type": "code",
   "execution_count": 24,
   "metadata": {},
   "outputs": [
    {
     "name": "stderr",
     "output_type": "stream",
     "text": [
      "The sum of the weights (4939.940013322009) is different from the sample size (5000). Multiply the weights by 1.0121580396757899 to reconcile the two.\n"
     ]
    },
    {
     "name": "stdout",
     "output_type": "stream",
     "text": [
      "Scenario 1: increase car cost by 1.5 pounds\n",
      "Market share of walk: 18.46%\n",
      "Market share of cycling: 3.08%\n",
      "Market share of pt: 38.81%\n",
      "Market share of driving: 38.45%\n"
     ]
    }
   ],
   "source": [
    "#predicted market share in case of increase of car costs:\n",
    "\n",
    "V4_s1 = (BETA_COST * (cost_driving_total + 1.5) + BETA_TIME_DRIVE * dur_driving)\n",
    "V_s1 = {1: V1, 2: V2, 3: V3, 4: V4_s1}\n",
    "prob_walk = models.cnl(V_s1, None, nests, 1)\n",
    "prob_cycling = models.cnl(V_s1, None, nests, 2)\n",
    "prob_pt = models.cnl(V_s1, None, nests, 3)\n",
    "prob_driving_scenario1 = models.cnl(V_s1, None, nests, 4)\n",
    "simulate = {\n",
    "    'weight': weight,\n",
    "    'prob.walk': prob_walk,\n",
    "    'prob.cycling': prob_cycling,\n",
    "    'prob.pt': prob_pt,\n",
    "    'prob.driving': prob_driving_scenario1\n",
    "}\n",
    "\n",
    "biosim_s1 = bio.BIOGEME(database, simulate) #using database defined in market share\n",
    "simulated_values_s1 = biosim_s1.simulate(results_model_4_cross.getBetaValues())\n",
    "\n",
    "simulated_values_s1['weighted walk'] = simulated_values_s1['weight'] * simulated_values_s1['prob.walk']\n",
    "simulated_values_s1['weighted cycling'] = simulated_values_s1['weight'] * simulated_values_s1['prob.cycling']\n",
    "simulated_values_s1['weighted pt'] = simulated_values_s1['weight'] * simulated_values_s1['prob.pt']\n",
    "simulated_values_s1['weighted driving'] = simulated_values_s1['weight'] * simulated_values_s1['prob.driving']\n",
    "\n",
    "market_share_walk_s1 = simulated_values_s1['weighted walk'].mean()\n",
    "market_share_cycling_s1 = simulated_values_s1['weighted cycling'].mean()\n",
    "market_share_pt_s1 = simulated_values_s1['weighted pt'].mean()\n",
    "market_share_driving_s1 = simulated_values_s1['weighted driving'].mean()\n",
    "\n",
    "print('Scenario 1: increase car cost by 1.5 pounds')\n",
    "print(f\"Market share of walk: {100*market_share_walk_s1:.2f}%\")\n",
    "print(f\"Market share of cycling: {100*market_share_cycling_s1:.2f}%\")\n",
    "print(f\"Market share of pt: {100*market_share_pt_s1:.2f}%\")\n",
    "print(f\"Market share of driving: {100*market_share_driving_s1:.2f}%\")"
   ]
  },
  {
   "cell_type": "code",
   "execution_count": 25,
   "metadata": {},
   "outputs": [
    {
     "name": "stderr",
     "output_type": "stream",
     "text": [
      "The sum of the weights (4939.940013322009) is different from the sample size (5000). Multiply the weights by 1.0121580396757899 to reconcile the two.\n"
     ]
    },
    {
     "name": "stdout",
     "output_type": "stream",
     "text": [
      "Scenario 2: decrease public transport costs by 20%\n",
      "Market share of walk: 17.34%\n",
      "Market share of cycling: 2.73%\n",
      "Market share of pt: 39.03%\n",
      "Market share of driving: 39.69%\n"
     ]
    }
   ],
   "source": [
    "#predicted market share in case of decrease in public transport\n",
    "\n",
    "V3_s2 = ASC_PT * car_available + ASC_PT_NOCAR * (1 - car_available) + BETA_COST * cost_transit*0.08 + BETA_TIME_PT * dur_pt_total\n",
    "V_s2 = {1: V1, 2: V2, 3: V3_s2, 4: V4}\n",
    "prob_walk = models.cnl(V_s2, None, nests, 1)\n",
    "prob_cycling = models.cnl(V_s2, None, nests, 2)\n",
    "prob_pt = models.cnl(V_s2, None, nests, 3)\n",
    "prob_driving_scenario1 = models.cnl(V_s2, None, nests, 4)\n",
    "simulate = {\n",
    "    'weight': weight,\n",
    "    'prob.walk': prob_walk,\n",
    "    'prob.cycling': prob_cycling,\n",
    "    'prob.pt': prob_pt,\n",
    "    'prob.driving': prob_driving_scenario1\n",
    "}\n",
    "\n",
    "biosim_s2 = bio.BIOGEME(database, simulate) #using database defined in market share\n",
    "simulated_values_s2 = biosim_s2.simulate(results_model_4_cross.getBetaValues())\n",
    "\n",
    "simulated_values_s2['weighted walk'] = simulated_values_s2['weight'] * simulated_values_s2['prob.walk']\n",
    "simulated_values_s2['weighted cycling'] = simulated_values_s2['weight'] * simulated_values_s2['prob.cycling']\n",
    "simulated_values_s2['weighted pt'] = simulated_values_s2['weight'] * simulated_values_s2['prob.pt']\n",
    "simulated_values_s2['weighted driving'] = simulated_values_s2['weight'] * simulated_values_s2['prob.driving']\n",
    "\n",
    "market_share_walk_s2 = simulated_values_s2['weighted walk'].mean()\n",
    "market_share_cycling_s2 = simulated_values_s2['weighted cycling'].mean()\n",
    "market_share_pt_s2 = simulated_values_s2['weighted pt'].mean()\n",
    "market_share_driving_s2 = simulated_values_s2['weighted driving'].mean()\n",
    "\n",
    "print('Scenario 2: decrease public transport costs by 20%')\n",
    "print(f\"Market share of walk: {100*market_share_walk_s2:.2f}%\")\n",
    "print(f\"Market share of cycling: {100*market_share_cycling_s2:.2f}%\")\n",
    "print(f\"Market share of pt: {100*market_share_pt_s2:.2f}%\")\n",
    "print(f\"Market share of driving: {100*market_share_driving_s2:.2f}%\")"
   ]
  },
  {
   "cell_type": "markdown",
   "metadata": {},
   "source": [
    "When wanting to decrease the share of car, we should consider the first scenario, as the simulated market share of driving is **39.13%**. In the second scenario, the car market share is **39.35%**, thus higher."
   ]
  },
  {
   "cell_type": "markdown",
   "metadata": {},
   "source": [
    "### Highest pt revenue \n",
    "\n",
    "We want to check in which scenario the public transportation revenue is the highest. To do so, we need to compute the revenue in all 3 cases (no changes, increase in car costs, decrease in pt costs)."
   ]
  },
  {
   "cell_type": "code",
   "execution_count": 26,
   "metadata": {},
   "outputs": [],
   "source": [
    "database = db.Database('LPMC', df)\n",
    "weight = Variable('weight')"
   ]
  },
  {
   "cell_type": "code",
   "execution_count": 27,
   "metadata": {},
   "outputs": [
    {
     "name": "stderr",
     "output_type": "stream",
     "text": [
      "The sum of the weights (4939.940013322009) is different from the sample size (5000). Multiply the weights by 1.0121580396757899 to reconcile the two.\n"
     ]
    },
    {
     "name": "stdout",
     "output_type": "stream",
     "text": [
      "Public transport revenues (no changes in policy): 3439.7231182317623\n"
     ]
    }
   ],
   "source": [
    "#no change in policy\n",
    "\n",
    "prob_walk = models.cnl(V, None, nests, 1)\n",
    "prob_cycling = models.cnl(V, None, nests, 2)\n",
    "prob_pt = models.cnl(V, None, nests, 3)\n",
    "prob_driving_scenario1 = models.cnl(V, None, nests, 4)\n",
    "\n",
    "simulate = {\n",
    "    'weight': weight,\n",
    "    'revenues PT': prob_pt * cost_transit\n",
    "\n",
    "}\n",
    "\n",
    "biosim = bio.BIOGEME(database, simulate)\n",
    "simulated_values = biosim.simulate(results_model_4_cross.getBetaValues())\n",
    "\n",
    "print(f\"Public transport revenues (no changes in policy): {simulated_values['revenues PT'].sum()}\")\n"
   ]
  },
  {
   "cell_type": "code",
   "execution_count": 28,
   "metadata": {},
   "outputs": [
    {
     "name": "stderr",
     "output_type": "stream",
     "text": [
      "The sum of the weights (4939.940013322009) is different from the sample size (5000). Multiply the weights by 1.0121580396757899 to reconcile the two.\n"
     ]
    },
    {
     "name": "stdout",
     "output_type": "stream",
     "text": [
      "Public transport revenues (scenario 1 policy): 3707.2283303215536\n"
     ]
    }
   ],
   "source": [
    "#scenario 1 (increase in car costs)\n",
    "\n",
    "prob_walk = models.cnl(V_s1, None, nests, 1)\n",
    "prob_cycling = models.cnl(V_s1, None, nests, 2)\n",
    "prob_pt = models.cnl(V_s1, None, nests, 3)\n",
    "prob_driving_scenario1 = models.cnl(V_s1, None, nests, 4)\n",
    "\n",
    "simulate = {\n",
    "    'weight': weight,\n",
    "    'revenues PT': prob_pt * cost_transit\n",
    "\n",
    "}\n",
    "\n",
    "biosim = bio.BIOGEME(database, simulate)\n",
    "simulated_values = biosim.simulate(results_model_4_cross.getBetaValues())\n",
    "\n",
    "print(f\"Public transport revenues (scenario 1 policy): {simulated_values['revenues PT'].sum()}\")"
   ]
  },
  {
   "cell_type": "code",
   "execution_count": 29,
   "metadata": {},
   "outputs": [
    {
     "name": "stderr",
     "output_type": "stream",
     "text": [
      "The sum of the weights (4939.940013322009) is different from the sample size (5000). Multiply the weights by 1.0121580396757899 to reconcile the two.\n"
     ]
    },
    {
     "name": "stdout",
     "output_type": "stream",
     "text": [
      "Public transport revenues (scenario 2 policy): 3972.936209182659\n"
     ]
    }
   ],
   "source": [
    "#scenario 2 (decrease in pt costs)\n",
    "\n",
    "prob_walk = models.cnl(V_s2, None, nests, 1)\n",
    "prob_cycling = models.cnl(V_s2, None, nests, 2)\n",
    "prob_pt = models.cnl(V_s2, None, nests, 3)\n",
    "prob_driving_scenario1 = models.cnl(V_s2, None, nests, 4)\n",
    "\n",
    "simulate = {\n",
    "    'weight': weight,\n",
    "    'revenues PT': prob_pt * cost_transit\n",
    "\n",
    "}\n",
    "\n",
    "biosim = bio.BIOGEME(database, simulate)\n",
    "simulated_values = biosim.simulate(results_model_4_cross.getBetaValues())\n",
    "\n",
    "print(f\"Public transport revenues (scenario 2 policy): {simulated_values['revenues PT'].sum()}\")"
   ]
  },
  {
   "cell_type": "markdown",
   "metadata": {},
   "source": [
    "The **second scenario** gives the highest revenues for public transport."
   ]
  },
  {
   "cell_type": "markdown",
   "metadata": {},
   "source": [
    "### Average value of time"
   ]
  },
  {
   "cell_type": "markdown",
   "metadata": {},
   "source": [
    "We want to compute the average VOT for both car and public transportation (in GBP/hour). To do so, we use the following formula:\n",
    "\n",
    "$$ \\text{(VOT)}_\\text{i} = \\frac{\\partial  \\text{(Utility)}_i}{\\partial \\text{(duration)}_i} : \\frac{\\partial  \\text{(Utility)}_i}{\\partial \\text{(cost)}_i} , i \\in \\{car,pt\\} $$\n"
   ]
  },
  {
   "cell_type": "code",
   "execution_count": 30,
   "metadata": {},
   "outputs": [
    {
     "name": "stderr",
     "output_type": "stream",
     "text": [
      "The sum of the weights (4939.940013322009) is different from the sample size (5000). Multiply the weights by 1.0121580396757899 to reconcile the two.\n"
     ]
    }
   ],
   "source": [
    "V_pt = models.cnl(V, None, nests, 3)\n",
    "V_driving = models.cnl(V, None, nests, 4)\n",
    "\n",
    "#idk why it doesn't work without defining both of the utilities upper ????\n",
    "\n",
    "vot_pt = Derive(V_pt, 'dur_pt_total') / Derive(V_pt, 'cost_transit')\n",
    "vot_car = Derive(V_driving, 'dur_driving') / Derive(V_driving, 'cost_driving_total')\n",
    "\n",
    "simulate = {\n",
    "    'weight': weight,\n",
    "    'WTP PT time': vot_pt,\n",
    "    'WTP CAR time': vot_car,\n",
    "}\n",
    "\n",
    "biosim = bio.BIOGEME(database, simulate)\n",
    "simulated_values = biosim.simulate(results_model_4_cross.getBetaValues())\n",
    "\n"
   ]
  },
  {
   "cell_type": "code",
   "execution_count": 31,
   "metadata": {},
   "outputs": [
    {
     "name": "stdout",
     "output_type": "stream",
     "text": [
      "Average value of time for public transport: 15.701478138210675  GBP/hour\n",
      "Average value of time for car: 30.626441118746396 GBP/hour\n"
     ]
    }
   ],
   "source": [
    "print(f\"Average value of time for public transport: {(simulated_values['weight']*simulated_values['WTP PT time']).mean()}  GBP/hour\")\n",
    "print(f\"Average value of time for car: {(simulated_values['weight']*simulated_values['WTP CAR time']).mean()} GBP/hour\")"
   ]
  },
  {
   "cell_type": "markdown",
   "metadata": {},
   "source": [
    "### Direct and cross aggregate elasticities"
   ]
  },
  {
   "cell_type": "markdown",
   "metadata": {},
   "source": [
    "Now we need to compute the direct and cross elasticites of car costs and public transport costs. \n",
    "\n",
    "The **direct price elasticity** for the car is the percent change in pt change resulting from a 1% change in car costs. The formula is given by:\n",
    "\n",
    "$$ E^{car}_{pt} =  \\frac{(cost_{transit})}{(cost_{driving\\total})} \\cdot \\frac{\\partial  (cost_{driving\\total})}{\\partial (cost_{transit})}$$\n",
    "\n",
    "The **cross price elasticity** is given by the following formula:\n",
    "\n"
   ]
  },
  {
   "cell_type": "code",
   "execution_count": 32,
   "metadata": {},
   "outputs": [
    {
     "name": "stderr",
     "output_type": "stream",
     "text": [
      "The sum of the weights (4939.940013322009) is different from the sample size (5000). Multiply the weights by 1.0121580396757899 to reconcile the two.\n"
     ]
    }
   ],
   "source": [
    "prob_pt = models.cnl(V, None, nests, 3)\n",
    "prob_driving = models.cnl(V, None, nests, 4)\n",
    "\n",
    "#direct elasticities \n",
    "direct_elas_pt_cost = Derive(prob_pt, 'cost_transit') * cost_transit / prob_pt\n",
    "direct_elas_driving_cost = Derive(prob_driving, 'cost_driving_total') * cost_driving_total / prob_driving\n",
    "\n",
    "simulate = {\n",
    "    'weight': weight,\n",
    "    'prob.driving': prob_driving,\n",
    "    'prob.pt': prob_pt,\n",
    "    'direct_elas_pt_cost': direct_elas_pt_cost,\n",
    "    'direct_elas_driving_cost': direct_elas_driving_cost\n",
    "}\n",
    "\n",
    "biosim = bio.BIOGEME(database, simulate)\n",
    "simulated_values = biosim.simulate(results_model_4_cross.getBetaValues())"
   ]
  },
  {
   "cell_type": "code",
   "execution_count": 33,
   "metadata": {},
   "outputs": [],
   "source": [
    "simulated_values['numerator_pt_cost'] = simulated_values['weight'] * simulated_values['prob.pt'] * simulated_values['direct_elas_pt_cost']\n",
    "simulated_values['numerator_driving_cost'] = simulated_values['weight'] * simulated_values['prob.driving'] * simulated_values['direct_elas_driving_cost']\n",
    "simulated_values['denominator_pt_cost'] = simulated_values['weight'] * simulated_values['prob.pt']\n",
    "simulated_values['denominator_driving_cost'] = simulated_values['weight'] * simulated_values['prob.driving']"
   ]
  },
  {
   "cell_type": "code",
   "execution_count": 34,
   "metadata": {
    "scrolled": true
   },
   "outputs": [
    {
     "name": "stdout",
     "output_type": "stream",
     "text": [
      "Elasticity of public transport cost: -0.11246527140957648\n",
      "Elasticity of public driving cost: -0.0719100080042679\n"
     ]
    }
   ],
   "source": [
    "#aggregate elasticities\n",
    "\n",
    "agg_elast_pt_cost = simulated_values['numerator_pt_cost'].sum()/simulated_values['denominator_pt_cost'].sum()\n",
    "agg_elast_driving_cost = simulated_values['numerator_driving_cost'].sum()/simulated_values['denominator_driving_cost'].sum()\n",
    "\n",
    "print(f\"Elasticity of public transport cost: {agg_elast_pt_cost}\")\n",
    "print(f\"Elasticity of public driving cost: {agg_elast_driving_cost}\")"
   ]
  }
 ],
 "metadata": {
  "kernelspec": {
   "display_name": "Python 3 (ipykernel)",
   "language": "python",
   "name": "python3"
  },
  "language_info": {
   "codemirror_mode": {
    "name": "ipython",
    "version": 3
   },
   "file_extension": ".py",
   "mimetype": "text/x-python",
   "name": "python",
   "nbconvert_exporter": "python",
   "pygments_lexer": "ipython3",
   "version": "3.8.18"
  }
 },
 "nbformat": 4,
 "nbformat_minor": 2
}
