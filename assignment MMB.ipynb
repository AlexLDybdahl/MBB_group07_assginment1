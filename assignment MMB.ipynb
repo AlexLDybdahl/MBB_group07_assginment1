{
 "cells": [
  {
   "cell_type": "markdown",
   "metadata": {},
   "source": [
    "# Assignment - MMB\n",
    "*Alexander Laloi Dybdahl, Valentin Vuillon, Alexia Stéphanie Liviana Paratte*"
   ]
  },
  {
   "cell_type": "code",
   "execution_count": 54,
   "metadata": {},
   "outputs": [],
   "source": [
    "# %pip install biogeme\n",
    "\n",
    "import numpy as np\n",
    "import pandas as pd\n",
    "import biogeme.database as db\n",
    "import biogeme.biogeme as bio\n",
    "from biogeme import models\n",
    "from biogeme.expressions import Beta, DefineVariable, Variable,bioDraws, MonteCarlo, log, Power, exp, Derive\n",
    "import scipy.stats as st\n"
   ]
  },
  {
   "cell_type": "markdown",
   "metadata": {},
   "source": [
    "### Loading data"
   ]
  },
  {
   "cell_type": "code",
   "execution_count": 55,
   "metadata": {},
   "outputs": [],
   "source": [
    "df = pd.read_csv(\"lpmc07.dat\", delimiter='\\t')"
   ]
  },
  {
   "cell_type": "markdown",
   "metadata": {},
   "source": [
    "## Tasks"
   ]
  },
  {
   "cell_type": "markdown",
   "metadata": {},
   "source": [
    "### Model 0\n",
    "\n",
    "$\\text{Model 1}$ includes alternative-specific cost parameters for each mode of transportation. The utility functions are defined as:\n",
    "\n",
    "- **Walking**:  \n",
    "  $$ U_{\\text{walk}} = \\text{ASC}_{\\text{walk}} + \\beta_{\\text{time}} \\cdot \\text{dur}_{walking} + \\epsilon_{walk}$$\n",
    "\n",
    "- **Cycling**:  \n",
    "  $$ U_{\\text{cycle}} = \\text{ASC}_{\\text{cycle}} + \\beta_{\\text{time}} \\cdot \\text{dur}_{cycling} + \\epsilon_{cycle} $$\n",
    "\n",
    "- **Public Transport**:  \n",
    "  $$ U_{\\text{pt}} = \\text{ASC}_{\\text{pt}} + \\beta_{\\text{cost}} \\cdot \\text{cost}_{transit} + \\beta_{\\text{time}} \\cdot \\text{dur}_\\text{pt\\total} + \\epsilon_{pt} $$\n",
    "\n",
    "- **Driving**:  \n",
    "  $$ U_{\\text{drive}} = \\text{ASC}_{\\text{drive}} + \\beta_{\\text{cost}} \\cdot \\text{cost}_\\text{driving\\total} + \\beta_{\\text{time}} \\cdot \\text{dur\\driving} + \\epsilon_{drive} $$\n",
    "\n",
    "where:\n",
    "- $\\beta_{\\text{cost}}$ is the coefficient for travel cost.\n",
    "- $\\beta_{\\text{time}}$ is the coefficient for travel time.\n",
    "- $\\text{cost}_j$ is the travel cost for mode $j$.\n",
    "- $\\text{dur}_j$ is the travel time for mode $j$.\n",
    "- $\\epsilon_j$ is the error term, representing unobserved factors affecting the utility of mode $j$.\n",
    "\n",
    "The probability $P_j$ of choosing mode $j$ is given by the softmax function:\n",
    "\n",
    "$$ P_j = \\frac{\\exp(U_j)}{\\sum_{k=1}^{J} \\exp(U_k)} $$"
   ]
  },
  {
   "cell_type": "code",
   "execution_count": 56,
   "metadata": {},
   "outputs": [
    {
     "name": "stdout",
     "output_type": "stream",
     "text": [
      "              Value  Rob. Std err  Rob. t-test  Rob. p-value\n",
      "ASC_BIKE  -2.569395      0.090262   -28.466003           0.0\n",
      "ASC_PT     0.766417      0.047360    16.182870           0.0\n",
      "ASC_WALK   1.256090      0.076712    16.374060           0.0\n",
      "BETA_COST -0.173019      0.014562   -11.881537           0.0\n",
      "BETA_TIME -5.326766      0.189549   -28.102283           0.0\n"
     ]
    }
   ],
   "source": [
    "# Calculate the total public transport duration and total driving cost\n",
    "df['dur_pt_total'] = df['dur_pt_access'] + df['dur_pt_rail'] + df['dur_pt_bus'] + df['dur_pt_int']\n",
    "df['cost_driving_total'] = df['cost_driving_fuel'] + df['cost_driving_ccharge']\n",
    "\n",
    "# Create a Biogeme database\n",
    "database_0 = db.Database('LPMC', df)\n",
    "globals().update(database_0.variables)\n",
    "\n",
    "# Define parameters for the utility functions\n",
    "ASC_WALK = Beta('ASC_WALK', 0, None, None, 0)\n",
    "ASC_BIKE = Beta('ASC_BIKE', 0, None, None, 0)\n",
    "ASC_PT = Beta('ASC_PT', 0, None, None, 0)\n",
    "ASC_DRIVE = Beta('ASC_DRIVE', 0, None, None, 0)\n",
    "\n",
    "BETA_COST = Beta('BETA_COST', 0, None, None, 0)\n",
    "BETA_TIME = Beta('BETA_TIME', 0, None, None, 0)\n",
    "\n",
    "# Define utility functions using Biogeme expressions\n",
    "V1 = ASC_WALK + BETA_TIME * dur_walking\n",
    "V2 = ASC_BIKE + BETA_TIME * dur_cycling\n",
    "V3 = ASC_PT + BETA_COST * cost_transit + BETA_TIME * dur_pt_total\n",
    "V4 = BETA_COST * cost_driving_total + BETA_TIME * dur_driving\n",
    "\n",
    "# Associate utility functions with the numerical codes for the modes\n",
    "V = {1: V1, 2: V2, 3: V3, 4: V4}\n",
    "\n",
    "# Define the model\n",
    "logprob_0 = models.loglogit(V, None, travel_mode)\n",
    "\n",
    "# Estimate the model\n",
    "biogeme_0 = bio.BIOGEME(database_0, logprob_0)\n",
    "biogeme_0.modelName = 'Model_0'\n",
    "results_model_0 = biogeme_0.estimate()\n",
    "\n",
    "# Output\n",
    "print(results_model_0.getEstimatedParameters())"
   ]
  },
  {
   "cell_type": "code",
   "execution_count": 57,
   "metadata": {},
   "outputs": [
    {
     "name": "stdout",
     "output_type": "stream",
     "text": [
      "Null log-likelihood: -4642.324197885901\n",
      "Final log-likelihood: -4642.324197885901\n",
      "Model 0 - AIC: 9294.648395771803 BIC: 9327.234361728884\n"
     ]
    }
   ],
   "source": [
    "# Retrieve the general statistics from the results\n",
    "general_stats = results_model_0.getGeneralStatistics()\n",
    "\n",
    "# Extract the null and final log-likelihood from the general statistics\n",
    "null_log_likelihood = general_stats['Init log likelihood'][0]\n",
    "final_log_likelihood = general_stats['Final log likelihood'][0]\n",
    "\n",
    "# Print the null and final log-likelihoods\n",
    "print(f\"Null log-likelihood: {null_log_likelihood}\")\n",
    "print(f\"Final log-likelihood: {final_log_likelihood}\")\n",
    "\n",
    "\n",
    "# Get general statistics for Model 2\n",
    "general_stats_model_0 = results_model_0.getGeneralStatistics()\n",
    "\n",
    "# Extract AIC and BIC for Model 2\n",
    "aic_model_0 = general_stats_model_0['Akaike Information Criterion'][0]\n",
    "bic_model_0 = general_stats_model_0['Bayesian Information Criterion'][0]\n",
    "\n",
    "print(\"Model 0 - AIC:\", aic_model_0, \"BIC:\", bic_model_0)\n"
   ]
  },
  {
   "cell_type": "markdown",
   "metadata": {},
   "source": [
    "### $\\text{Model 1}$\n",
    "\n",
    "$\\text{Model 1}$ includes alternative-specific cost parameters for each mode of transportation. The utility functions are defined as:\n",
    "\n",
    "- **Walking**:  \n",
    "  $$ U_{\\text{walk}} = \\text{ASC}_{\\text{walk}} + \\beta_{\\text{time}} \\cdot \\text{dur}_{walking} + \\epsilon_{walk} $$\n",
    "\n",
    "- **Cycling**:  \n",
    "  $$ U_{\\text{cycle}} = \\text{ASC}_{\\text{cycle}} + \\beta_{\\text{time}} \\cdot \\text{dur}_{cycling} + \\epsilon_{cycle} $$\n",
    "\n",
    "- **Public Transport**:  \n",
    "  $$ U_{\\text{pt}} = \\text{ASC}_{\\text{pt}} + \\beta_{\\text{cost\\pt}} \\cdot \\text{cost}_{transit} + \\beta_{\\text{time\\pt}} \\cdot \\text{dur}_\\text{pt\\total} + \\epsilon_{pt} $$\n",
    "\n",
    "- **Driving**:  \n",
    "  $$ U_{\\text{drive}} = \\text{ASC}_{\\text{drive}} + \\beta_{\\text{cost\\drive}} \\cdot \\text{cost}_\\text{driving\\total} + \\beta_{\\text{time\\drive}} \\cdot \\text{dur}_{driving} + \\epsilon_{drive}$$\n",
    "\n",
    "Where:\n",
    "- $ \\text{ASC}_{\\text{walk}}, \\text{ASC}_{\\text{cycle}}, \\text{ASC}_{\\text{pt}}, \\text{ASC}_{\\text{drive}} $ are the alternative specific constants for walking, cycling, public transport, and driving, respectively.\n",
    "- $ \\beta_{\\text{cost\\walk}}, \\beta_{\\text{cost\\bike}}, \\beta_{\\text{cost\\pt}}, \\beta_{\\text{cost\\drive}} $ are the cost coefficients for walking, cycling, public transport, and driving, respectively.\n",
    "- $ \\beta_{\\text{time}} $ is the common time coefficient for all modes.\n",
    "- $ \\text{cost}_{walking}, \\text{cost}_{cycling}, \\text{cost}_{transit}, \\text{cost}_\\text{driving\\total} $ are the costs associated with each mode.\n",
    "- $ \\text{dur}_{walking}, \\text{dur}_{cycling}, \\text{dur}_\\text{pt\\total}, \\text{dur}_{driving} $ are the travel durations for each mode.\n"
   ]
  },
  {
   "cell_type": "code",
   "execution_count": 58,
   "metadata": {},
   "outputs": [
    {
     "name": "stdout",
     "output_type": "stream",
     "text": [
      "                    Value  Rob. Std err  Rob. t-test  Rob. p-value\n",
      "ASC_BIKE        -2.078612      0.117914   -17.628249  0.000000e+00\n",
      "ASC_PT          -0.284570      0.070229    -4.052060  5.076861e-05\n",
      "ASC_WALK         1.958969      0.119761    16.357305  0.000000e+00\n",
      "BETA_COST_DRIVE -0.145310      0.016925    -8.585682  0.000000e+00\n",
      "BETA_COST_PT    -0.224938      0.031119    -7.228330  4.889422e-13\n",
      "BETA_TIME       -8.262760      0.362284   -22.807435  0.000000e+00\n",
      "BETA_TIME_DRIVE -6.427560      0.420150   -15.298234  0.000000e+00\n",
      "BETA_TIME_PT    -3.471928      0.240770   -14.420131  0.000000e+00\n"
     ]
    }
   ],
   "source": [
    "# Calculate the total public transport duration and total driving cost\n",
    "df['dur_pt_total'] = df['dur_pt_access'] + df['dur_pt_rail'] + df['dur_pt_bus'] + df['dur_pt_int']\n",
    "df['cost_driving_total'] = df['cost_driving_fuel'] + df['cost_driving_ccharge']\n",
    "\n",
    "# Create a Biogeme database\n",
    "database_1 = db.Database('LPMC', df)\n",
    "globals().update(database_1.variables)\n",
    "\n",
    "# Define parameters for the utility functions\n",
    "ASC_WALK = Beta('ASC_WALK', 0, None, None, 0)\n",
    "ASC_BIKE = Beta('ASC_BIKE', 0, None, None, 0)\n",
    "ASC_PT = Beta('ASC_PT', 0, None, None, 0)\n",
    "\n",
    "# Define additional parameters for the cost for each mode\n",
    "BETA_COST = Beta('BETA_COST_PT', 0, None, None, 0)\n",
    "BETA_TIME_WALK = Beta('BETA_TIME_WALK', 0, None, None, 0)\n",
    "BETA_TIME_BIKE = Beta('BETA_TIME_BIKE', 0, None, None, 0)\n",
    "BETA_TIME_PT = Beta('BETA_TIME_PT', 0, None, None, 0)\n",
    "BETA_TIME_DRIVE = Beta('BETA_TIME_DRIVE', 0, None, None, 0)\n",
    "\n",
    "# Define utility functions using Biogeme expressions with alternative-specific cost coefficients\n",
    "V1 = ASC_WALK + BETA_TIME_WALK * dur_walking\n",
    "V2 = ASC_BIKE + BETA_TIME_BIKE * dur_cycling\n",
    "V3 = ASC_PT + BETA_COST * cost_transit + BETA_TIME_PT * dur_pt_total\n",
    "V4 = BETA_COST * cost_driving_total + BETA_TIME_DRIVE * dur_driving\n",
    "\n",
    "# Associate utility functions with the numerical codes for the modes\n",
    "V = {1: V1, 2: V2, 3: V3, 4: V4}\n",
    "\n",
    "# Define the model\n",
    "logprob_1 = models.loglogit(V, None, travel_mode)\n",
    "\n",
    "# Estimate the model\n",
    "biogeme_1 = bio.BIOGEME(database_1, logprob_1)\n",
    "biogeme_1.modelName = 'Model_1'\n",
    "results_model_1 = biogeme_1.estimate()\n",
    "\n",
    "# Output\n",
    "print(results_model_1.getEstimatedParameters())"
   ]
  },
  {
   "cell_type": "markdown",
   "metadata": {},
   "source": [
    "**Alternative Specific Constants (ASCs):**\n",
    "\n",
    "- $ \\text{ASC}_{\\text{bike}}, \\text{ASC}_{\\text{drive}}, \\text{ASC}_{\\text{pt}}, \\text{and} \\text{ASC}_{\\text{walk}} $ are all statistically significant, as indicated by their p-values being close to zero. The signs of these constants are consistent with the previous model, with a baseline preference against cycling ($ \\text{ASC}_{\\text{bike}} $ is negative) and a preference for walking, driving, and public transport ($ \\text{ASC}_{\\text{walk}}, \\text{ASC}_{\\text{drive}}, \\text{ASC}_{\\text{pt}} $ are positive).\n",
    "\n",
    "**Alternative-Specific Cost Coefficients:**\n",
    "\n",
    "- $ \\beta_{\\text{cost\\bike}} $ and $ \\beta_{\\text{cost\\walk}} $ are both zero, with the former having a standard error and the latter having zero standard error. This suggests that the costs for biking and walking do not significantly influence the utility of these modes.\n",
    "- $ \\beta_{\\text{cost\\drive}} $ is negative and statistically significant, indicating that increases in driving costs decrease the utility of driving.\n",
    "- $ \\beta_{\\text{cost\\pt}} $ is positive and significant, which is an interesting result as it suggests that a higher cost for public transport is associated with higher utility. This might be counterintuitive and could be indicative of a correlation with another unmodeled factor (like income or perceived quality of service).\n",
    "\n",
    "**Time Coefficient ($ \\beta_{\\text{time}} $):**\n",
    "\n",
    "- Remains negative and significant, indicating that longer travel times decrease the utility of a mode.\n",
    "\n",
    "**Interpretation and Implications:**\n",
    "\n",
    "- The introduction of alternative-specific cost parameters allows for a more nuanced understanding of how cost impacts different modes differently.\n",
    "- The unexpected sign for $ \\beta_{\\text{cost\\pt}} $ warrants further investigation. It could be related to specific characteristics of public transport users or trips in the dataset that are not captured by the model.\n",
    "- The model suggests varying sensitivities to cost across different modes, which is useful for policy-making and planning, especially when considering fare structures or cost-based interventions.\n"
   ]
  },
  {
   "cell_type": "markdown",
   "metadata": {},
   "source": [
    "### Comparing $\\text{Model 1}$ and Model 0\n",
    "\n",
    "To compare $\\text{Model 0}$ and $\\text{Model 1}$, you can use a likelihood ratio test. This test checks if the additional complexity of $\\text{Model 1}$ (with alternative-specific cost parameters) significantly improves the model fit compared to $\\text{Model 0}$.\n",
    "\n",
    "- **Null Hypothesis**: $\\text{Model 0}$ is sufficient to explain the data (the additional parameters in $\\text{Model 1}$ do not significantly improve the model).\n",
    "\n",
    "- **Alternative Hypothesis:** $\\text{Model 1}$ provides a significantly better fit than $\\text{Model 0}$.\n",
    "\n",
    "The test statistic is calculated as $2 (LL(\\text{Model 1}) - LL(\\text{Model 0}))$, where LL is the log-likelihood of the respective models. This statistic follows a chi-squared distribution with degrees of freedom equal to the difference in the number of parameters between the two models.\n",
    "\n",
    "Based on the result of this test and considerations of model parsimony and interpretability, you can determine the preferred model ($\\text{Model}_\\text{pref}$). Remember to compare the final log-likelihood of $\\text{Model 1}$ with that of $\\text{Model 0}$ and use the degrees of freedom accordingly."
   ]
  },
  {
   "cell_type": "code",
   "execution_count": 59,
   "metadata": {},
   "outputs": [
    {
     "name": "stdout",
     "output_type": "stream",
     "text": [
      "622.9741083818626\n",
      "0.7107230213973239\n",
      "Model 1 - AIC: 8677.67428738994 BIC: 8729.81183292127\n"
     ]
    }
   ],
   "source": [
    "LR_test = 2 * (results_model_1.data.logLike - results_model_0.data.logLike)\n",
    "print(LR_test)\n",
    "x_qhi = st.chi2.sf(LR_test, 4)\n",
    "x_qhi = st.chi2.ppf(0.05, 4)\n",
    "print(x_qhi)\n",
    "\n",
    "# Get general statistics for Model 1\n",
    "general_stats_model_1 = results_model_1.getGeneralStatistics()\n",
    "\n",
    "# Extract AIC and BIC for Model 1\n",
    "aic_model_1 = general_stats_model_1['Akaike Information Criterion'][0]\n",
    "bic_model_1 = general_stats_model_1['Bayesian Information Criterion'][0]\n",
    "\n",
    "print(\"Model 1 - AIC:\", aic_model_1, \"BIC:\", bic_model_1)"
   ]
  },
  {
   "cell_type": "markdown",
   "metadata": {},
   "source": [
    "#### Interpretation of the Likelihood Ratio Test\n",
    "- The LR test statistic follows a chi-squared distribution. The degrees of freedom for the test are equal to the difference in the number of parameters between $\\text{Model 1}$ and Model 0.\n",
    "\n",
    "- In your case, $\\text{Model 1}$ has additional parameters (the alternative-specific cost coefficients) compared to $\\text{Model 0}$. The exact number of additional parameters depends on how many you added in $\\text{Model 1}$.\n",
    "\n",
    "#### Null Hypothesis for the Test\n",
    "- The null hypothesis for the LR test is that the simpler model ($\\text{Model 0}$) is adequate and that the additional parameters in the more complex model ($\\text{Model 1}$) do not significantly improve the model fit.\n",
    "\n",
    "#### Test Decision\n",
    "- To make a decision, you compare the LR test statistic to a critical value from the chi-squared distribution at a certain significance level (commonly $0.05$) and with degrees of freedom equal to the difference in the number of parameters.\n",
    "- If the LR test statistic is greater than the critical value, you reject the null hypothesis. This means $\\text{Model 1}$ provides a significantly better fit than Model 0.\n",
    "\n",
    "#### In Your Case\n",
    "- With an LR test statistic of 149.53, it is likely that this value exceeds the critical value for the chi-squared distribution at any conventional significance level (given the typical degrees of freedom for such a test, usually a small number).\n",
    "- Therefore, you would typically reject the null hypothesis and conclude that $\\text{Model 1}$, with its additional parameters, provides a significantly better fit to the data than Model 0.\n",
    "\n",
    "#### Preferred Model\n",
    "- Based on this test, $\\text{Model 1}$ ($\\text{Model}_\\text{pref}$) would be considered the preferred model over $\\text{Model 0}$, as it significantly improves the fit to the data.\n",
    "- However, it's important to also consider the interpretability and theoretical justification of the additional parameters in $\\text{Model 1}$. Sometimes a more complex model is not preferable if it does not add meaningful explanatory power or if it makes the model less interpretable."
   ]
  },
  {
   "cell_type": "markdown",
   "metadata": {},
   "source": [
    "### Model 2\n",
    "\n",
    "$\\text{Model 2}$ includes interactions with a socio-economic characteristic ($\\text{car\\available}$) in addition to the specifications from $\\text{Model}_\\text{pref}$. The utility functions are defined as:\n",
    "\n",
    "- **Walking**:  \n",
    "  $$ U_{\\text{walk}} = \\text{ASC}_{\\text{walk}} \\cdot \\text{car\\available} + \\text{ASC}_{\\text{walk}\\\\text{nocar}} \\cdot (1 - \\text{car\\available}) + \\beta_{\\text{time\\walk}} \\cdot \\text{dur\\walking} $$\n",
    "\n",
    "- **Cycling**:  \n",
    "  $$ U_{\\text{cycle}} = \\text{ASC}_{\\text{cycle}} \\cdot \\text{car\\available} + \\text{ASC}_{\\text{cycle}\\\\text{nocar}} \\cdot (1 - \\text{car\\available}) + + \\beta_{\\text{time\\cycle}} \\cdot \\text{dur\\cycling} $$\n",
    "\n",
    "- **Public Transport**: \n",
    "  $$ U_{\\text{pt}} = \\text{ASC}_{\\text{pt}} \\cdot \\text{car\\available} + \\text{ASC}_{\\text{pt}\\\\text{nocar}} \\cdot (1 - \\text{car\\available}) + \\beta_{\\text{cost\\pt}} \\cdot \\text{cost\\transit} + \\beta_{\\text{time\\pt}} \\cdot \\text{dur\\pt\\total} $$\n",
    "\n",
    "- **Driving**:  \n",
    "  $$ U_{\\text{drive}} = \\beta_{\\text{cost\\drive}} \\cdot \\text{cost\\driving\\total} + \\beta_{\\text{time\\drive}} \\cdot \\text{dur\\driving} $$\n",
    "\n",
    "Where:\n",
    "- $\\text{ASC}_{\\text{walk}}, \\text{ASC}_{\\text{cycle}}, \\text{ASC}_{\\text{pt}}, \\text{ASC}_{\\text{drive}}$ are the alternative specific constants.\n",
    "- $\\beta_{\\text{cost\\walk}}, \\beta_{\\text{cost\\bike}}, \\beta_{\\text{cost\\pt}}, \\beta_{\\text{cost\\drive}}$ are the cost coefficients for walking, cycling, public transport, and driving, respectively.\n",
    "- $\\beta_{\\text{drive\\carown}}$ and $\\beta_{\\text{cost\\drive\\carown}}$ are coefficients for the interaction of driving with car ownership.\n",
    "- $\\beta_{\\text{time}}$ is the common time coefficient for all modes.\n",
    "- $\\text{cost\\walking}, \\text{cost\\cycling}, \\text{cost\\transit}, \\text{cost\\driving\\total}$ are the costs associated with each mode.\n",
    "- $\\text{dur\\walking}, \\text{dur\\cycling}, \\text{dur\\pt\\total}, \\text{dur\\driving}$ are the travel durations for each mode.\n",
    "- $\\text{car\\ownership}$ is the socio-economic characteristic variable.\n"
   ]
  },
  {
   "cell_type": "code",
   "execution_count": 60,
   "metadata": {},
   "outputs": [
    {
     "name": "stdout",
     "output_type": "stream",
     "text": [
      "                    Value  Rob. Std err  Rob. t-test  Rob. p-value\n",
      "ASC_BIKE        -2.765097      0.171711   -16.103199  0.000000e+00\n",
      "ASC_BIKE_NOCAR  -0.221148      0.212788    -1.039291  2.986695e-01\n",
      "ASC_PT          -1.089678      0.084431   -12.906206  0.000000e+00\n",
      "ASC_PT_NOCAR     2.147007      0.131360    16.344479  0.000000e+00\n",
      "ASC_WALK         1.516452      0.138595    10.941586  0.000000e+00\n",
      "ASC_WALK_NOCAR   4.256731      0.184915    23.019919  0.000000e+00\n",
      "BETA_COST_DRIVE -0.148269      0.019510    -7.599684  2.975398e-14\n",
      "BETA_COST_PT    -0.244411      0.034187    -7.149238  8.726353e-13\n",
      "BETA_TIME_BIKE  -7.145362      0.616826   -11.584078  0.000000e+00\n",
      "BETA_TIME_DRIVE -6.431380      0.455203   -14.128612  0.000000e+00\n",
      "BETA_TIME_PT    -3.289803      0.265536   -12.389309  0.000000e+00\n",
      "BETA_TIME_WALK  -8.537017      0.416196   -20.512007  0.000000e+00\n"
     ]
    }
   ],
   "source": [
    "# Calculate the total public transport duration and total driving cost\n",
    "df['dur_pt_total'] = df['dur_pt_access'] + df['dur_pt_rail'] + df['dur_pt_bus'] + df['dur_pt_int']\n",
    "df['cost_driving_total'] = df['cost_driving_fuel'] + df['cost_driving_ccharge']\n",
    "df['car_available'] = (df['car_ownership'] > 0).astype(int)\n",
    "\n",
    "# Create a Biogeme database\n",
    "database_2 = db.Database('LPMC', df)\n",
    "globals().update(database_2.variables)\n",
    "\n",
    "# car_available = database.DefineVariable('car_available', 'car_available')\n",
    "\n",
    "\n",
    "# Define parameters for the utility functions\n",
    "ASC_WALK = Beta('ASC_WALK', 0, None, None, 0)\n",
    "ASC_BIKE = Beta('ASC_BIKE', 0, None, None, 0)\n",
    "ASC_PT = Beta('ASC_PT', 0, None, None, 0)\n",
    "ASC_WALK_NOCAR = Beta('ASC_WALK_NOCAR', 0, None, None, 0)\n",
    "ASC_BIKE_NOCAR = Beta('ASC_BIKE_NOCAR', 0, None, None, 0)\n",
    "ASC_PT_NOCAR = Beta('ASC_PT_NOCAR', 0, None, None, 0)\n",
    "\n",
    "# Define additional parameters for the cost for each mode\n",
    "BETA_COST_PT = Beta('BETA_COST_PT', 0, None, None, 0)\n",
    "BETA_COST_DRIVE = Beta('BETA_COST_DRIVE', 0, None, None, 0)\n",
    "BETA_TIME_WALK = Beta('BETA_TIME_WALK', 0, None, None, 0)\n",
    "BETA_TIME_BIKE = Beta('BETA_TIME_BIKE', 0, None, None, 0)\n",
    "BETA_TIME_PT = Beta('BETA_TIME_PT', 0, None, None, 0)\n",
    "BETA_TIME_DRIVE = Beta('BETA_TIME_DRIVE', 0, None, None, 0)\n",
    "\n",
    "# New parameters for interactions\n",
    "BETA_PT_INT = Beta('BETA_PT_INT', 0, None, None, 0)\n",
    "BETA_COST_PT_INT = Beta('BETA_COST_PT_INT', 0, None, None, 0)\n",
    "BETA_TIME_PT_INT = Beta('BETA_TIME_INT', 0, None, None, 0)\n",
    "\n",
    "# Utility functions with interactions\n",
    "V1 = ASC_WALK * car_available + ASC_WALK_NOCAR * (1 - car_available) + BETA_TIME_WALK * dur_walking\n",
    "V2 = ASC_BIKE * car_available + ASC_BIKE_NOCAR * (1 - car_available) + BETA_TIME_BIKE * dur_cycling\n",
    "V3 = ASC_PT * car_available + ASC_PT_NOCAR * (1 - car_available) + BETA_COST_PT * cost_transit + BETA_TIME_PT * dur_pt_total\n",
    "V4 = BETA_COST_DRIVE * cost_driving_total + BETA_TIME_DRIVE * dur_driving\n",
    "\n",
    "# Associate utility functions with the numerical codes for the modes\n",
    "V = {1: V1, 2: V2, 3: V3, 4: V4}\n",
    "\n",
    "# Define the model\n",
    "logprob_2 = models.loglogit(V, None, travel_mode)\n",
    "\n",
    "# Estimate the model\n",
    "biogeme_2 = bio.BIOGEME(database_2, logprob_2)\n",
    "biogeme_2.modelName = 'Model_2'\n",
    "results_model_2 = biogeme_2.estimate()\n",
    "\n",
    "# Output\n",
    "print(results_model_2.getEstimatedParameters())\n"
   ]
  },
  {
   "cell_type": "markdown",
   "metadata": {},
   "source": [
    "**Alternative Specific Constants (ASCs):**\n",
    "\n",
    "- $ \\text{ASC}_{\\text{bike}}, \\text{ASC}_{\\text{drive}}, \\text{ASC}_{\\text{pt}}, \\text{and } \\text{ASC}_{\\text{walk}} $ are all statistically significant (p-values close to zero). Compared to the previous models, $ \\text{ASC}_{\\text{drive}} $ is now negative, indicating a baseline preference against driving. $ \\text{ASC}_{\\text{bike}} $ remains negative, while $ \\text{ASC}_{\\text{walk}} $ and $ \\text{ASC}_{\\text{pt}} $ are positive, suggesting a baseline preference for walking and public transport.\n",
    "\n",
    "**Cost Coefficients:**\n",
    "\n",
    "- $ \\beta_{\\text{cost\\bike}}, \\beta_{\\text{cost\\walk}} $ are zero. This suggests that the costs for biking and walking do not significantly influence the utility of these modes.\n",
    "- $ \\beta_{\\text{cost\\drive}} $ is negative and statistically significant, indicating that an increase in driving costs decreases the utility of driving.\n",
    "- $ \\beta_{\\text{cost\\pt}} $ is positive but not statistically significant, suggesting that cost changes in public transport do not significantly influence its utility.\n",
    "\n",
    "**Interaction Terms:**\n",
    "\n",
    "- $ \\beta_{\\text{drive\\carown}} $ is positive and statistically significant, suggesting that car ownership significantly increases the utility of driving.\n",
    "- $ \\beta_{\\text{cost\\drive\\carown}} $ shows a positive coefficient, but it is not statistically significant. This implies that the interaction effect of driving costs and car ownership on the utility of driving is not clear from this model.\n",
    "\n",
    "**Time Coefficient:**\n",
    "\n",
    "- $ \\beta_{\\text{time}} $ remains negative and significant, reinforcing that longer travel times decrease the utility of all modes.\n",
    "\n",
    "**Interpretation and Implications:**\n",
    "\n",
    "- The change in sign of $ \\text{ASC}_{\\text{drive}} $ could reflect a shift in the baseline preference for driving when considering car ownership, especially given the significant positive interaction with car ownership.\n",
    "- The significant and positive $ \\beta_{\\text{drive\\carown}} $ indicates that owning a car substantially increases the utility of choosing to drive, which aligns with intuitive expectations.\n",
    "- The non-significance of $ \\beta_{\\text{cost\\drive\\carown}} $ suggests that the sensitivity of car owners to driving costs may not be distinctly different from non-owners in this dataset.\n",
    "- The zero coefficients for $ \\beta_{\\text{cost\\bike}} $ and $ \\beta_{\\text{cost\\walk}} $ continue to suggest that cost is not a significant factor in choosing walking or cycling.\n"
   ]
  },
  {
   "cell_type": "markdown",
   "metadata": {},
   "source": [
    "### Comparing Model 2 and $\\text{Model 1}$\n",
    "\n",
    "**Model Comparison ($\\text{Model}_\\text{pref}$ vs. $\\text{Model 2}$):**\n",
    "To compare $\\text{Model 2}$ with $\\text{Model}_\\text{pref}$, you can use a likelihood ratio test:\n",
    "\n",
    "- **Null Hypothesis:** $\\text{Model}_\\text{pref}$ is sufficient, and the additional interaction terms in $\\text{Model 2}$ do not significantly improve the model.\n",
    "- **Alternative Hypothesis:** $\\text{Model 2}$ provides a significantly better fit than $\\text{Model}_\\text{pref}$.\n",
    "\n",
    "Calculate the LR test statistic and compare it to a chi-squared distribution with degrees of freedom equal to the difference in the number of parameters between the two models. The decision on the preferred model should consider both statistical significance and the interpretability of the model."
   ]
  },
  {
   "cell_type": "code",
   "execution_count": 61,
   "metadata": {},
   "outputs": [
    {
     "name": "stdout",
     "output_type": "stream",
     "text": [
      "1240.800679728026\n",
      "3.660629929098881e-270\n",
      "Model 2 - AIC: 7444.873607661914 BIC: 7523.079925958909\n"
     ]
    }
   ],
   "source": [
    "LR_test = 2 * (results_model_2.data.logLike - results_model_1.data.logLike)\n",
    "print(LR_test)\n",
    "x_qhi = st.chi2.sf(LR_test, 2)\n",
    "print(x_qhi)\n",
    "\n",
    "# Get general statistics for Model 2\n",
    "general_stats_model_2 = results_model_2.getGeneralStatistics()\n",
    "\n",
    "# Extract AIC and BIC for Model 2\n",
    "aic_model_2 = general_stats_model_2['Akaike Information Criterion'][0]\n",
    "bic_model_2 = general_stats_model_2['Bayesian Information Criterion'][0]\n",
    "\n",
    "print(\"Model 2 - AIC:\", aic_model_2, \"BIC:\", bic_model_2)"
   ]
  },
  {
   "cell_type": "markdown",
   "metadata": {},
   "source": [
    "\n",
    "- Calculated LR test statistic:\n",
    "- **Interpretation**:\n",
    "  - The high value of the LR test statistic suggests that $\\text{Model 2}$ provides a significantly better fit to the data compared to $\\text{Model 1}$.\n",
    "- **Test Decision**:\n",
    "  - With an LR statistic of $1100$, the null hypothesis (that $\\text{Model 1}$ is sufficient) is likely rejected, indicating a preference for $\\text{Model 2}$.\n",
    "- **Conclusion**:\n",
    "  - $\\text{Model 2}$, with its additional parameters and interactions, is the preferred model over $\\text{Model 1}$, given its significantly better fit to the data.\n"
   ]
  },
  {
   "cell_type": "markdown",
   "metadata": {},
   "source": [
    "### Model 3\n",
    "\n",
    "$\\text{Model 3}$ incorporates a non-linear transformation of one of the variables (e.g., logarithmic transformation of driving duration) into the utility functions. The utility functions are defined as:\n",
    "\n",
    "- **Walking**:  \n",
    "  $$ U_{\\text{walk}} = \\text{ASC}_{\\text{walk}} \\cdot \\text{car\\available} + \\text{ASC}_{\\text{walk}\\\\text{nocar}} \\cdot (1 - \\text{car\\available}) + \\beta_{\\text{time\\walk}} \\cdot \\text{dur\\walking} $$\n",
    "\n",
    "- **Cycling**:  \n",
    "  $$ U_{\\text{cycle}} = \\text{ASC}_{\\text{cycle}} \\cdot \\text{car\\available} + \\text{ASC}_{\\text{cycle}\\\\text{nocar}} \\cdot (1 - \\text{car\\available}) + + \\beta_{\\text{time\\cycle}} \\cdot \\text{dur\\cycling} $$\n",
    "\n",
    "- **Public Transport**: \n",
    "  $$ U_{\\text{pt}} = \\text{ASC}_{\\text{pt}} \\cdot \\text{car\\available} + \\text{ASC}_{\\text{pt}\\\\text{nocar}} \\cdot (1 - \\text{car\\available}) + \\beta_{\\text{cost\\pt}} \\cdot \\text{cost\\transit} + \\beta_{\\text{time\\pt}} \\cdot \\text{dur\\pt\\total} $$\n",
    "\n",
    "- **Driving**:  \n",
    "  $$ U_{\\text{drive}} = \\beta_{\\text{cost\\drive}} \\cdot \\text{cost\\driving\\total} + \\beta_{\\text{time\\drive}} \\cdot \\text{dur\\driving} $$\n",
    "\n",
    "Where:\n",
    "- $\\text{ASC}_{\\text{walk}}, \\text{ASC}_{\\text{cycle}}, \\text{ASC}_{\\text{pt}}, \\text{ASC}_{\\text{drive}}$ are the alternative specific constants.\n",
    "- $\\beta_{\\text{cost\\walk}}, \\beta_{\\text{cost\\bike}}, \\beta_{\\text{cost\\pt}}, \\beta_{\\text{cost\\drive}}$ are the cost coefficients for walking, cycling, public transport, and driving, respectively.\n",
    "- $\\beta_{\\text{log\\dur\\drive}}$ is the coefficient for the non-linear transformation (logarithm) of the driving duration.\n",
    "- $\\beta_{\\text{time}}$ is the common time coefficient for all modes.\n",
    "- $\\text{cost\\walking}, \\text{cost\\cycling}, \\text{cost\\transit}, \\text{cost\\driving\\total}$ are the costs associated with each mode.\n",
    "- $\\text{dur\\walking}, \\text{dur\\cycling}, \\text{dur\\pt\\total}, \\text{dur\\driving}$ are the travel durations for each mode.\n",
    "- The logarithmic transformation of driving duration is represented by $\\log(\\text{dur\\driving} + 1)$ to ensure the argument inside the log function is always positive."
   ]
  },
  {
   "cell_type": "code",
   "execution_count": 62,
   "metadata": {
    "scrolled": false
   },
   "outputs": [
    {
     "name": "stdout",
     "output_type": "stream",
     "text": [
      "                    Value  Rob. Std err  Rob. t-test  Rob. p-value\n",
      "ASC_BIKE        -2.765097      0.171711   -16.103199  0.000000e+00\n",
      "ASC_BIKE_NOCAR  -0.221148      0.212788    -1.039291  2.986695e-01\n",
      "ASC_PT          -1.089678      0.084431   -12.906206  0.000000e+00\n",
      "ASC_PT_NOCAR     2.147007      0.131360    16.344479  0.000000e+00\n",
      "ASC_WALK         1.516452      0.138595    10.941586  0.000000e+00\n",
      "ASC_WALK_NOCAR   4.256731      0.184915    23.019919  0.000000e+00\n",
      "BETA_COST_DRIVE -0.148269      0.019510    -7.599684  2.975398e-14\n",
      "BETA_COST_PT    -0.244411      0.034187    -7.149238  8.726353e-13\n",
      "BETA_TIME_BIKE  -7.145362      0.616826   -11.584078  0.000000e+00\n",
      "BETA_TIME_DRIVE -6.431380      0.455203   -14.128612  0.000000e+00\n",
      "BETA_TIME_PT    -3.289803      0.265536   -12.389309  0.000000e+00\n",
      "BETA_TIME_WALK  -8.537017      0.416196   -20.512007  0.000000e+00\n"
     ]
    }
   ],
   "source": [
    "\n",
    "# Calculate the total public transport duration and total driving cost\n",
    "df['dur_pt_total'] = df['dur_pt_access'] + df['dur_pt_rail'] + df['dur_pt_bus'] + df['dur_pt_int']\n",
    "df['cost_driving_total'] = df['cost_driving_fuel'] + df['cost_driving_ccharge']\n",
    "\n",
    "# Create a Biogeme database\n",
    "database_3 = db.Database('LPMC', df)\n",
    "globals().update(database_3.variables)\n",
    "\n",
    "# Create a new transformed variable for time\n",
    "# log_dur_walking = database.DefineVariable('log_dur_walking', log(dur_driving))\n",
    "# log_dur_cycling = database.DefineVariable('log_dur_cycling', log(dur_cycling))\n",
    "# log_dur_pt = database.DefineVariable('log_dur_pt', log(dur_pt_total))\n",
    "# log_dur_driving = database.DefineVariable('log_dur_driving', log(dur_driving))\n",
    "\n",
    "\n",
    "# Define parameters for the utility functions\n",
    "ASC_WALK = Beta('ASC_WALK', 0, None, None, 0)\n",
    "ASC_BIKE = Beta('ASC_BIKE', 0, None, None, 0)\n",
    "ASC_PT = Beta('ASC_PT', 0, None, None, 0)\n",
    "\n",
    "# Define additional parameters for the cost for each mode\n",
    "BETA_COST_PT = Beta('BETA_COST_PT', 0, None, None, 0)\n",
    "BETA_COST_DRIVE = Beta('BETA_COST_DRIVE', 0, None, None, 0)\n",
    "BETA_TIME_WALK = Beta('BETA_TIME_WALK', 0, None, None, 0)\n",
    "BETA_TIME_BIKE = Beta('BETA_TIME_BIKE', 0, None, None, 0)\n",
    "BETA_TIME_PT = Beta('BETA_TIME_PT', 0, None, None, 0)\n",
    "BETA_TIME_DRIVE = Beta('BETA_TIME_DRIVE', 0, None, None, 0)\n",
    "\n",
    "# Utility functions with interactions\n",
    "V1 = ASC_WALK * car_available + ASC_WALK_NOCAR * (1 - car_available) + BETA_TIME_WALK * log(dur_walking)\n",
    "V2 = ASC_BIKE * car_available + ASC_BIKE_NOCAR * (1 - car_available) + BETA_TIME_BIKE * log(dur_cycling)\n",
    "V3 = ASC_PT * car_available + ASC_PT_NOCAR * (1 - car_available) + BETA_COST_PT * cost_transit + BETA_TIME_PT * log(dur_pt_total)\n",
    "V4 = BETA_COST_DRIVE * cost_driving_total + BETA_TIME_DRIVE * log(dur_driving)\n",
    "\n",
    "# Define the model\n",
    "logprob_3 = models.loglogit(V, None, travel_mode)\n",
    "\n",
    "# Estimate the model\n",
    "biogeme_3 = bio.BIOGEME(database_3, logprob_3)\n",
    "biogeme_3.modelName = 'Model_3'\n",
    "results_model_3 = biogeme_3.estimate()\n",
    "\n",
    "# Output\n",
    "print(results_model_3.getEstimatedParameters())\n"
   ]
  },
  {
   "cell_type": "code",
   "execution_count": 63,
   "metadata": {
    "scrolled": false
   },
   "outputs": [
    {
     "name": "stdout",
     "output_type": "stream",
     "text": [
      "Model 3 - AIC: 7444.873607661914 BIC: 7523.079925958909\n"
     ]
    }
   ],
   "source": [
    "# Get general statistics for Model 3\n",
    "general_stats_model_3 = results_model_3.getGeneralStatistics()\n",
    "\n",
    "# Extract AIC and BIC for Model 3\n",
    "aic_model_3 = general_stats_model_3['Akaike Information Criterion'][0]\n",
    "bic_model_3 = general_stats_model_3['Bayesian Information Criterion'][0]\n",
    "\n",
    "print(\"Model 3 - AIC:\", aic_model_3, \"BIC:\", bic_model_3)"
   ]
  },
  {
   "cell_type": "markdown",
   "metadata": {},
   "source": [
    "### Model 4\n",
    "\n",
    "#### Nesting"
   ]
  },
  {
   "cell_type": "code",
   "execution_count": 64,
   "metadata": {},
   "outputs": [
    {
     "name": "stdout",
     "output_type": "stream",
     "text": [
      "                    Value  Active bound  Rob. Std err  Rob. t-test  \\\n",
      "ASC_BIKE        -2.765256           0.0      1.305785    -2.117696   \n",
      "ASC_BIKE_NOCAR  -0.221335           0.0      0.925658    -0.239111   \n",
      "ASC_PT          -1.089678           0.0      0.533578    -2.042212   \n",
      "ASC_PT_NOCAR     2.146997           0.0      1.089670     1.970318   \n",
      "ASC_WALK         1.516470           0.0      0.370156     4.096837   \n",
      "ASC_WALK_NOCAR   4.256735           0.0      1.228199     3.465833   \n",
      "BETA_COST_DRIVE -0.148264           0.0      0.072802    -2.036551   \n",
      "BETA_COST_PT    -0.244412           0.0      0.136601    -1.789244   \n",
      "BETA_TIME_BIKE  -7.144897           0.0      2.008336    -3.557620   \n",
      "BETA_TIME_DRIVE -6.431577           0.0      3.122766    -2.059577   \n",
      "BETA_TIME_PT    -3.289899           0.0      1.567907    -2.098275   \n",
      "BETA_TIME_WALK  -8.537144           0.0      1.879144    -4.543101   \n",
      "MOTOR            1.000000           1.0      0.500707     1.997178   \n",
      "PRIVATIZED       1.000000           1.0      0.492149     2.031906   \n",
      "\n",
      "                 Rob. p-value  \n",
      "ASC_BIKE             0.034201  \n",
      "ASC_BIKE_NOCAR       0.811020  \n",
      "ASC_PT               0.041131  \n",
      "ASC_PT_NOCAR         0.048802  \n",
      "ASC_WALK             0.000042  \n",
      "ASC_WALK_NOCAR       0.000529  \n",
      "BETA_COST_DRIVE      0.041695  \n",
      "BETA_COST_PT         0.073575  \n",
      "BETA_TIME_BIKE       0.000374  \n",
      "BETA_TIME_DRIVE      0.039439  \n",
      "BETA_TIME_PT         0.035881  \n",
      "BETA_TIME_WALK       0.000006  \n",
      "MOTOR                0.045806  \n",
      "PRIVATIZED           0.042163  \n"
     ]
    }
   ],
   "source": [
    "\n",
    "# Calculate the total public transport duration and total driving cost\n",
    "df['dur_pt_total'] = df['dur_pt_access'] + df['dur_pt_rail'] + df['dur_pt_bus'] + df['dur_pt_int']\n",
    "df['cost_driving_total'] = df['cost_driving_fuel'] + df['cost_driving_ccharge']\n",
    "\n",
    "# Create a Biogeme database\n",
    "database_4_nest = db.Database('LPMC', df)\n",
    "globals().update(database_4_nest.variables)\n",
    "\n",
    "# Define parameters for the utility functions\n",
    "ASC_WALK = Beta('ASC_WALK', 0, None, None, 0)\n",
    "ASC_BIKE = Beta('ASC_BIKE', 0, None, None, 0)\n",
    "ASC_PT = Beta('ASC_PT', 0, None, None, 0)\n",
    "ASC_DRIVE = Beta('ASC_DRIVE', 0, None, None, 0)\n",
    "\n",
    "# Define additional parameters for the cost for each mode\n",
    "BETA_COST_PT = Beta('BETA_COST_PT', 0, None, None, 0)\n",
    "BETA_COST_DRIVE = Beta('BETA_COST_DRIVE', 0, None, None, 0)\n",
    "BETA_TIME_WALK = Beta('BETA_TIME_WALK', 0, None, None, 0)\n",
    "BETA_TIME_BIKE = Beta('BETA_TIME_BIKE', 0, None, None, 0)\n",
    "BETA_TIME_PT = Beta('BETA_TIME_PT', 0, None, None, 0)\n",
    "BETA_TIME_DRIVE = Beta('BETA_TIME_DRIVE', 0, None, None, 0)\n",
    "\n",
    "# New parameters for interactions\n",
    "BETA_DRIVE_CAROWN = Beta('BETA_DRIVE_CAROWN', 0, None, None, 0)\n",
    "BETA_COST_DRIVE_CAROWN = Beta('BETA_COST_DRIVE_CAROWN', 0, None, None, 0)\n",
    "BETA_TIME_DRIVE_CAROWN = Beta('BETA_TIME_DRIVE_CAROWN', 0, None, None, 0)\n",
    "BETA_PT_INT = Beta('BETA_PT_INT', 0, None, None, 0)\n",
    "BETA_COST_PT_INT = Beta('BETA_COST_PT_INT', 0, None, None, 0)\n",
    "BETA_TIME_PT_INT = Beta('BETA_TIME_INT', 0, None, None, 0)\n",
    "BETA_LOG_DUR_DRIVE = Beta('BETA_LOG_DUR_DRIVE', 0, None, None, 0)\n",
    "\n",
    "# Utility functions with interactions\n",
    "V1 = ASC_WALK * car_available + ASC_WALK_NOCAR * (1 - car_available) + BETA_TIME_WALK * dur_walking\n",
    "V2 = ASC_BIKE * car_available + ASC_BIKE_NOCAR * (1 - car_available) + BETA_TIME_BIKE * dur_cycling\n",
    "V3 = ASC_PT * car_available + ASC_PT_NOCAR * (1 - car_available) + BETA_COST_PT * cost_transit + BETA_TIME_PT * dur_pt_total\n",
    "V4 = BETA_COST_DRIVE * cost_driving_total + BETA_TIME_DRIVE * dur_driving\n",
    "\n",
    "# Associate utility functions with the numerical codes for the modes\n",
    "V = {1: V1, 2: V2, 3: V3, 4: V4}\n",
    "\n",
    "# Define nest coefficients\n",
    "MOTOR = Beta('MOTOR', 1, 1, None, 0)  # Nest parameter for motorized transport\n",
    "PRIVATIZED = Beta('PRIVATIZED', 1, 1, None, 0)  # Nest parameter for non-motorized transport\n",
    "\n",
    "# Define nests\n",
    "# Assuming that alternatives are coded as: 1 for walking, 2 for cycling, 3 for public transport, and 4 for driving\n",
    "alpha = 0.5\n",
    "nest_motorized = MOTOR, {1: 0,\n",
    "                         2: 0,\n",
    "                         3: 1,\n",
    "                         4: 1}\n",
    "nest_privatized = PRIVATIZED, {1: 1,\n",
    "                               2: 1,\n",
    "                               3: 0,\n",
    "                               4: 0}\n",
    "\n",
    "# Combine nests into a list\n",
    "nests = nest_motorized, nest_privatized\n",
    "\n",
    "# Define the cross-nested logit model\n",
    "nested_logit = models.logcnl(V, None, nests, travel_mode)\n",
    "\n",
    "# Estimate the model\n",
    "biogeme_4_nest = bio.BIOGEME(database_4_nest, nested_logit)\n",
    "biogeme_4_nest.modelName = 'Model_4_crossnest'\n",
    "results_model_4 = biogeme_4_nest.estimate()\n",
    "\n",
    "# Print the estimation results\n",
    "print(results_model_4.getEstimatedParameters())"
   ]
  },
  {
   "cell_type": "code",
   "execution_count": 65,
   "metadata": {},
   "outputs": [
    {
     "name": "stdout",
     "output_type": "stream",
     "text": [
      "Model 4 - AIC: 7448.873609982187 BIC: 7540.114314662014\n"
     ]
    }
   ],
   "source": [
    "general_stats_model_4 = results_model_4.getGeneralStatistics()\n",
    "\n",
    "# Extract AIC and BIC for Model 4\n",
    "aic_model_4 = general_stats_model_4['Akaike Information Criterion'][0]\n",
    "bic_model_4 = general_stats_model_4['Bayesian Information Criterion'][0]\n",
    "\n",
    "print(\"Model 4 - AIC:\", aic_model_4, \"BIC:\", bic_model_4)"
   ]
  },
  {
   "cell_type": "code",
   "execution_count": 66,
   "metadata": {},
   "outputs": [
    {
     "name": "stdout",
     "output_type": "stream",
     "text": [
      "-2.320272869837936e-06\n",
      "0.7107230213973239\n",
      "Final log-likelihood: -3710.4368049910936\n"
     ]
    }
   ],
   "source": [
    "LR_test = 2 * (results_model_4.data.logLike - results_model_2.data.logLike)\n",
    "print(LR_test)\n",
    "x_qhi = st.chi2.sf(LR_test, 4)\n",
    "x_qhi = st.chi2.ppf(0.05, 4)\n",
    "print(x_qhi)\n",
    "\n",
    "final_log_likelihood = general_stats_model_4['Final log likelihood'][0]\n",
    "print(f\"Final log-likelihood: {final_log_likelihood}\")"
   ]
  },
  {
   "cell_type": "markdown",
   "metadata": {},
   "source": [
    "#### Cross nesting (final model)"
   ]
  },
  {
   "cell_type": "code",
   "execution_count": 67,
   "metadata": {},
   "outputs": [
    {
     "name": "stdout",
     "output_type": "stream",
     "text": [
      "                    Value  Active bound  Rob. Std err  Rob. t-test  \\\n",
      "ASC_BIKE        -2.820926           0.0      0.350035    -8.058984   \n",
      "ASC_BIKE_NOCAR  -0.793036           0.0      0.222066    -3.571177   \n",
      "ASC_PT          -0.782374           0.0      0.053516   -14.619435   \n",
      "ASC_PT_NOCAR     1.380713           0.0      0.210729     6.552086   \n",
      "ASC_WALK         1.423345           0.0      0.201890     7.050100   \n",
      "ASC_WALK_NOCAR   3.657405           0.0      0.357735    10.223770   \n",
      "BETA_COST_DRIVE -0.101204           0.0      0.016399    -6.171277   \n",
      "BETA_COST_PT    -0.132512           0.0      0.032740    -4.047360   \n",
      "BETA_TIME_BIKE  -5.118386           0.0      0.677172    -7.558470   \n",
      "BETA_TIME_DRIVE -3.793959           0.0      0.651975    -5.819179   \n",
      "BETA_TIME_PT    -1.901095           0.0      0.369025    -5.151672   \n",
      "BETA_TIME_WALK  -7.811722           0.0      0.745762   -10.474814   \n",
      "MOTOR            2.687172           0.0      0.749789     3.583904   \n",
      "PRIVATIZED       1.000000           1.0      0.114506     8.733195   \n",
      "\n",
      "                 Rob. p-value  \n",
      "ASC_BIKE         6.661338e-16  \n",
      "ASC_BIKE_NOCAR   3.553811e-04  \n",
      "ASC_PT           0.000000e+00  \n",
      "ASC_PT_NOCAR     5.673884e-11  \n",
      "ASC_WALK         1.787903e-12  \n",
      "ASC_WALK_NOCAR   0.000000e+00  \n",
      "BETA_COST_DRIVE  6.774079e-10  \n",
      "BETA_COST_PT     5.179844e-05  \n",
      "BETA_TIME_BIKE   4.085621e-14  \n",
      "BETA_TIME_DRIVE  5.913730e-09  \n",
      "BETA_TIME_PT     2.581746e-07  \n",
      "BETA_TIME_WALK   0.000000e+00  \n",
      "MOTOR            3.384971e-04  \n",
      "PRIVATIZED       0.000000e+00  \n"
     ]
    }
   ],
   "source": [
    "\n",
    "# Calculate the total public transport duration and total driving cost\n",
    "df['dur_pt_total'] = df['dur_pt_access'] + df['dur_pt_rail'] + df['dur_pt_bus'] + df['dur_pt_int']\n",
    "df['cost_driving_total'] = df['cost_driving_fuel'] + df['cost_driving_ccharge']\n",
    "\n",
    "# Create a Biogeme database\n",
    "database_4_crossnest = db.Database('LPMC', df)\n",
    "globals().update(database_4_crossnest.variables)\n",
    "\n",
    "# Define parameters for the utility functions\n",
    "ASC_WALK = Beta('ASC_WALK', 0, None, None, 0)\n",
    "ASC_BIKE = Beta('ASC_BIKE', 0, None, None, 0)\n",
    "ASC_PT = Beta('ASC_PT', 0, None, None, 0)\n",
    "ASC_DRIVE = Beta('ASC_DRIVE', 0, None, None, 0)\n",
    "\n",
    "# Define additional parameters for the cost for each mode\n",
    "BETA_COST_PT = Beta('BETA_COST_PT', 0, None, None, 0)\n",
    "BETA_COST_DRIVE = Beta('BETA_COST_DRIVE', 0, None, None, 0)\n",
    "BETA_TIME_WALK = Beta('BETA_TIME_WALK', 0, None, None, 0)\n",
    "BETA_TIME_BIKE = Beta('BETA_TIME_BIKE', 0, None, None, 0)\n",
    "BETA_TIME_PT = Beta('BETA_TIME_PT', 0, None, None, 0)\n",
    "BETA_TIME_DRIVE = Beta('BETA_TIME_DRIVE', 0, None, None, 0)\n",
    "\n",
    "# New parameters for interactions\n",
    "BETA_DRIVE_CAROWN = Beta('BETA_DRIVE_CAROWN', 0, None, None, 0)\n",
    "BETA_COST_DRIVE_CAROWN = Beta('BETA_COST_DRIVE_CAROWN', 0, None, None, 0)\n",
    "BETA_TIME_DRIVE_CAROWN = Beta('BETA_TIME_DRIVE_CAROWN', 0, None, None, 0)\n",
    "BETA_PT_INT = Beta('BETA_PT_INT', 0, None, None, 0)\n",
    "BETA_COST_PT_INT = Beta('BETA_COST_PT_INT', 0, None, None, 0)\n",
    "BETA_TIME_PT_INT = Beta('BETA_TIME_INT', 0, None, None, 0)\n",
    "BETA_LOG_DUR_DRIVE = Beta('BETA_LOG_DUR_DRIVE', 0, None, None, 0)\n",
    "\n",
    "# Utility functions with interactions\n",
    "V1 = ASC_WALK * car_available + ASC_WALK_NOCAR * (1 - car_available) + BETA_TIME_WALK * dur_walking\n",
    "V2 = ASC_BIKE * car_available + ASC_BIKE_NOCAR * (1 - car_available) + BETA_TIME_BIKE * dur_cycling\n",
    "V3 = ASC_PT * car_available + ASC_PT_NOCAR * (1 - car_available) + BETA_COST_PT * cost_transit + BETA_TIME_PT * dur_pt_total\n",
    "V4 = BETA_COST_DRIVE * cost_driving_total + BETA_TIME_DRIVE * dur_driving\n",
    "\n",
    "# Associate utility functions with the numerical codes for the modes\n",
    "V = {1: V1, 2: V2, 3: V3, 4: V4}\n",
    "\n",
    "# Define nest coefficients\n",
    "MOTOR = Beta('MOTOR', 1, 1, None, 0)  # Nest parameter for motorized transport\n",
    "PRIVATIZED = Beta('PRIVATIZED', 1, 1, None, 0)  # Nest parameter for non-motorized transport\n",
    "\n",
    "# Define nests\n",
    "# Assuming that alternatives are coded as: 1 for walking, 2 for cycling, 3 for public transport, and 4 for driving\n",
    "alpha = 0.5\n",
    "nest_motorized = MOTOR, {1: 0,\n",
    "                         2: 0,\n",
    "                         3: 1,\n",
    "                         4: 1 - alpha}\n",
    "nest_privatized = PRIVATIZED, {1: 1,\n",
    "                               2: 1,\n",
    "                               3: 0,\n",
    "                               4: alpha}\n",
    "\n",
    "# Combine nests into a list\n",
    "nests = nest_motorized, nest_privatized\n",
    "\n",
    "# Define the cross-nested logit model\n",
    "crossnested_logit = models.logcnl(V, None, nests, travel_mode)\n",
    "\n",
    "# Estimate the model\n",
    "biogeme_4_crossnest = bio.BIOGEME(database_4_crossnest, crossnested_logit)\n",
    "biogeme_4_crossnest.modelName = 'Model_4_crossnest'\n",
    "results_model_4_cross = biogeme_4_crossnest.estimate()\n",
    "\n",
    "# Print the estimation results\n",
    "print(results_model_4_cross.getEstimatedParameters())"
   ]
  },
  {
   "cell_type": "code",
   "execution_count": 68,
   "metadata": {},
   "outputs": [
    {
     "name": "stdout",
     "output_type": "stream",
     "text": [
      "Model 4 - AIC: 7434.847225129276 BIC: 7526.087929809103\n"
     ]
    }
   ],
   "source": [
    "general_stats_model_4_cross = results_model_4_cross.getGeneralStatistics()\n",
    "\n",
    "# Extract AIC and BIC for Model 4\n",
    "aic_model_4 = general_stats_model_4_cross['Akaike Information Criterion'][0]\n",
    "bic_model_4 = general_stats_model_4_cross['Bayesian Information Criterion'][0]\n",
    "\n",
    "print(\"Model 4 - AIC:\", aic_model_4, \"BIC:\", bic_model_4)"
   ]
  },
  {
   "cell_type": "code",
   "execution_count": 69,
   "metadata": {},
   "outputs": [
    {
     "name": "stdout",
     "output_type": "stream",
     "text": [
      "14.026382532638308\n",
      "0.7107230213973239\n",
      "Final log-likelihood: -3710.4368049910936\n"
     ]
    }
   ],
   "source": [
    "LR_test = 2 * (results_model_4_cross.data.logLike - results_model_2.data.logLike)\n",
    "print(LR_test)\n",
    "x_qhi = st.chi2.sf(LR_test, 4)\n",
    "x_qhi = st.chi2.ppf(0.05, 4)\n",
    "print(x_qhi)\n",
    "\n",
    "\n",
    "final_log_likelihood = general_stats_model_4['Final log likelihood'][0]\n",
    "print(f\"Final log-likelihood: {final_log_likelihood}\")"
   ]
  },
  {
   "cell_type": "markdown",
   "metadata": {},
   "source": [
    "### Market share\n",
    "\n"
   ]
  },
  {
   "cell_type": "markdown",
   "metadata": {},
   "source": [
    "#### Computing simulated market share"
   ]
  },
  {
   "cell_type": "code",
   "execution_count": 70,
   "metadata": {},
   "outputs": [],
   "source": [
    "# size and weight of each strata\n",
    "strata = {\"females_44_less\": len(df[(df['age']<=44)&(df['female']==1)]),\n",
    "         \"females_45_more\": len(df[(df['age']>=45)&(df['female']==1)]),\n",
    "         \"males_44_less\": len(df[(df['age']<=44)&(df['female']==0)]),\n",
    "         \"males_45_more\": len(df[(df['age']>=45)&(df['female']==0)])}\n",
    "\n",
    "total = {\"females_44_less\": 2841376,\n",
    "         \"females_45_more\": 1519948,\n",
    "         \"males_44_less\": 2926408,\n",
    "         \"males_45_more\": 1379198}\n",
    "\n",
    "total_population = sum(total.values())\n",
    "total_sample = sum(strata.values())\n",
    "\n",
    "weights = {k: total[k] * total_sample / (v * total_population) for k, v in strata.items()}\n",
    "# k= type of people (female/man and age), v = number of the type k"
   ]
  },
  {
   "cell_type": "code",
   "execution_count": 71,
   "metadata": {
    "scrolled": true
   },
   "outputs": [
    {
     "data": {
      "text/plain": [
       "{'females_44_less': 1623,\n",
       " 'females_45_more': 965,\n",
       " 'males_44_less': 1517,\n",
       " 'males_45_more': 895}"
      ]
     },
     "execution_count": 71,
     "metadata": {},
     "output_type": "execute_result"
    }
   ],
   "source": [
    "strata"
   ]
  },
  {
   "cell_type": "code",
   "execution_count": 72,
   "metadata": {},
   "outputs": [
    {
     "data": {
      "text/plain": [
       "{'females_44_less': 1.0099849525473574,\n",
       " 'females_45_more': 0.9086698794546592,\n",
       " 'males_44_less': 1.1128945356168978,\n",
       " 'males_45_more': 0.889013383029116}"
      ]
     },
     "execution_count": 72,
     "metadata": {},
     "output_type": "execute_result"
    }
   ],
   "source": [
    "weights"
   ]
  },
  {
   "cell_type": "code",
   "execution_count": 73,
   "metadata": {},
   "outputs": [
    {
     "name": "stderr",
     "output_type": "stream",
     "text": [
      "C:\\Users\\Alexander\\AppData\\Local\\Temp\\ipykernel_16688\\1433649319.py:8: FutureWarning: Setting an item of incompatible dtype is deprecated and will raise in a future error of pandas. Value '1.0099849525473574' has dtype incompatible with int64, please explicitly cast to a compatible dtype first.\n",
      "  df.loc[v, 'weight'] = weights[k]\n"
     ]
    }
   ],
   "source": [
    "# insert weight as a new column\n",
    "mask_ = {\"females_44_less\": (df['age']<=40)&(df['female']==1),\n",
    "         \"females_45_more\": (df['age']>=41)&(df['female']==1),\n",
    "         \"males_44_less\": (df['age']<=40)&(df['female']==0),\n",
    "         \"males_45_more\": (df['age']>=41)&(df['female']==0)}\n",
    "df['weight'] = 0\n",
    "for k, v in mask_.items():\n",
    "    df.loc[v, 'weight'] = weights[k]"
   ]
  },
  {
   "cell_type": "code",
   "execution_count": 74,
   "metadata": {
    "scrolled": true
   },
   "outputs": [
    {
     "name": "stderr",
     "output_type": "stream",
     "text": [
      "The sum of the weights (4939.940013322009) is different from the sample size (5000). Multiply the weights by 1.0121580396757899 to reconcile the two.\n"
     ]
    },
    {
     "data": {
      "text/html": [
       "<div>\n",
       "<style scoped>\n",
       "    .dataframe tbody tr th:only-of-type {\n",
       "        vertical-align: middle;\n",
       "    }\n",
       "\n",
       "    .dataframe tbody tr th {\n",
       "        vertical-align: top;\n",
       "    }\n",
       "\n",
       "    .dataframe thead th {\n",
       "        text-align: right;\n",
       "    }\n",
       "</style>\n",
       "<table border=\"1\" class=\"dataframe\">\n",
       "  <thead>\n",
       "    <tr style=\"text-align: right;\">\n",
       "      <th></th>\n",
       "      <th>weight</th>\n",
       "      <th>prob.walk</th>\n",
       "      <th>prob.cycling</th>\n",
       "      <th>prob.pt</th>\n",
       "      <th>prob.driving</th>\n",
       "    </tr>\n",
       "  </thead>\n",
       "  <tbody>\n",
       "    <tr>\n",
       "      <th>0</th>\n",
       "      <td>0.908670</td>\n",
       "      <td>9.625385e-03</td>\n",
       "      <td>0.026963</td>\n",
       "      <td>0.217447</td>\n",
       "      <td>0.745965</td>\n",
       "    </tr>\n",
       "    <tr>\n",
       "      <th>1</th>\n",
       "      <td>0.908670</td>\n",
       "      <td>5.805455e-01</td>\n",
       "      <td>0.021086</td>\n",
       "      <td>0.070765</td>\n",
       "      <td>0.327603</td>\n",
       "    </tr>\n",
       "    <tr>\n",
       "      <th>2</th>\n",
       "      <td>0.889013</td>\n",
       "      <td>1.035598e-05</td>\n",
       "      <td>0.013373</td>\n",
       "      <td>0.252117</td>\n",
       "      <td>0.734500</td>\n",
       "    </tr>\n",
       "    <tr>\n",
       "      <th>3</th>\n",
       "      <td>0.889013</td>\n",
       "      <td>1.100807e-08</td>\n",
       "      <td>0.007808</td>\n",
       "      <td>0.966047</td>\n",
       "      <td>0.026145</td>\n",
       "    </tr>\n",
       "    <tr>\n",
       "      <th>4</th>\n",
       "      <td>0.889013</td>\n",
       "      <td>4.091040e-06</td>\n",
       "      <td>0.011597</td>\n",
       "      <td>0.340034</td>\n",
       "      <td>0.648366</td>\n",
       "    </tr>\n",
       "    <tr>\n",
       "      <th>...</th>\n",
       "      <td>...</td>\n",
       "      <td>...</td>\n",
       "      <td>...</td>\n",
       "      <td>...</td>\n",
       "      <td>...</td>\n",
       "    </tr>\n",
       "    <tr>\n",
       "      <th>4995</th>\n",
       "      <td>0.889013</td>\n",
       "      <td>7.461476e-04</td>\n",
       "      <td>0.017494</td>\n",
       "      <td>0.299258</td>\n",
       "      <td>0.682502</td>\n",
       "    </tr>\n",
       "    <tr>\n",
       "      <th>4996</th>\n",
       "      <td>1.112895</td>\n",
       "      <td>4.906209e-07</td>\n",
       "      <td>0.011756</td>\n",
       "      <td>0.713683</td>\n",
       "      <td>0.274561</td>\n",
       "    </tr>\n",
       "    <tr>\n",
       "      <th>4997</th>\n",
       "      <td>1.112895</td>\n",
       "      <td>9.176208e-02</td>\n",
       "      <td>0.040845</td>\n",
       "      <td>0.106866</td>\n",
       "      <td>0.760527</td>\n",
       "    </tr>\n",
       "    <tr>\n",
       "      <th>4998</th>\n",
       "      <td>1.112895</td>\n",
       "      <td>3.935201e-03</td>\n",
       "      <td>0.040662</td>\n",
       "      <td>0.187782</td>\n",
       "      <td>0.767621</td>\n",
       "    </tr>\n",
       "    <tr>\n",
       "      <th>4999</th>\n",
       "      <td>1.009985</td>\n",
       "      <td>5.573194e-07</td>\n",
       "      <td>0.012089</td>\n",
       "      <td>0.946728</td>\n",
       "      <td>0.041182</td>\n",
       "    </tr>\n",
       "  </tbody>\n",
       "</table>\n",
       "<p>5000 rows × 5 columns</p>\n",
       "</div>"
      ],
      "text/plain": [
       "        weight     prob.walk  prob.cycling   prob.pt  prob.driving\n",
       "0     0.908670  9.625385e-03      0.026963  0.217447      0.745965\n",
       "1     0.908670  5.805455e-01      0.021086  0.070765      0.327603\n",
       "2     0.889013  1.035598e-05      0.013373  0.252117      0.734500\n",
       "3     0.889013  1.100807e-08      0.007808  0.966047      0.026145\n",
       "4     0.889013  4.091040e-06      0.011597  0.340034      0.648366\n",
       "...        ...           ...           ...       ...           ...\n",
       "4995  0.889013  7.461476e-04      0.017494  0.299258      0.682502\n",
       "4996  1.112895  4.906209e-07      0.011756  0.713683      0.274561\n",
       "4997  1.112895  9.176208e-02      0.040845  0.106866      0.760527\n",
       "4998  1.112895  3.935201e-03      0.040662  0.187782      0.767621\n",
       "4999  1.009985  5.573194e-07      0.012089  0.946728      0.041182\n",
       "\n",
       "[5000 rows x 5 columns]"
      ]
     },
     "execution_count": 74,
     "metadata": {},
     "output_type": "execute_result"
    }
   ],
   "source": [
    "# market share simulated\n",
    "database = db.Database('LPMC', df)\n",
    "\n",
    "weight = Variable('weight')\n",
    "prob_walk = models.cnl(V, None, nests, 1)\n",
    "prob_cycling = models.cnl(V, None, nests, 2)\n",
    "prob_pt = models.cnl(V, None, nests, 3)\n",
    "prob_driving = models.cnl(V, None, nests, 4)\n",
    "simulate = {\n",
    "    'weight': weight,\n",
    "    'prob.walk': prob_walk,\n",
    "    'prob.cycling': prob_cycling,\n",
    "    'prob.pt': prob_pt,\n",
    "    'prob.driving': prob_driving\n",
    "}\n",
    "\n",
    "biosim = bio.BIOGEME(database, simulate)\n",
    "simulated_values = biosim.simulate(results_model_4_cross.getBetaValues())\n",
    "simulated_values"
   ]
  },
  {
   "cell_type": "code",
   "execution_count": 75,
   "metadata": {},
   "outputs": [],
   "source": [
    "simulated_values['weighted walk'] = simulated_values['weight'] * simulated_values['prob.walk']\n",
    "simulated_values['weighted cycling'] = simulated_values['weight'] * simulated_values['prob.cycling']\n",
    "simulated_values['weighted pt'] = simulated_values['weight'] * simulated_values['prob.pt']\n",
    "simulated_values['weighted driving'] = simulated_values['weight'] * simulated_values['prob.driving']"
   ]
  },
  {
   "cell_type": "code",
   "execution_count": 76,
   "metadata": {},
   "outputs": [
    {
     "name": "stdout",
     "output_type": "stream",
     "text": [
      "Market share of walk (simulated): 17.7%\n",
      "Market share of cycling(simulated): 2.9%\n",
      "Market share of pt(simulated): 35.2%\n",
      "Market share of driving(simulated): 43.0%\n"
     ]
    }
   ],
   "source": [
    "market_share_walk = simulated_values['weighted walk'].mean()\n",
    "market_share_cycling = simulated_values['weighted cycling'].mean()\n",
    "market_share_pt = simulated_values['weighted pt'].mean()\n",
    "market_share_driving = simulated_values['weighted driving'].mean()\n",
    "\n",
    "print(f\"Market share of walk (simulated): {100*market_share_walk:.1f}%\")\n",
    "print(f\"Market share of cycling(simulated): {100*market_share_cycling:.1f}%\")\n",
    "print(f\"Market share of pt(simulated): {100*market_share_pt:.1f}%\")\n",
    "print(f\"Market share of driving(simulated): {100*market_share_driving:.1f}%\")"
   ]
  },
  {
   "cell_type": "code",
   "execution_count": 77,
   "metadata": {},
   "outputs": [
    {
     "name": "stdout",
     "output_type": "stream",
     "text": [
      "Help on dict object:\n",
      "\n",
      "class dict(object)\n",
      " |  dict() -> new empty dictionary\n",
      " |  dict(mapping) -> new dictionary initialized from a mapping object's\n",
      " |      (key, value) pairs\n",
      " |  dict(iterable) -> new dictionary initialized as if via:\n",
      " |      d = {}\n",
      " |      for k, v in iterable:\n",
      " |          d[k] = v\n",
      " |  dict(**kwargs) -> new dictionary initialized with the name=value pairs\n",
      " |      in the keyword argument list.  For example:  dict(one=1, two=2)\n",
      " |  \n",
      " |  Built-in subclasses:\n",
      " |      StgDict\n",
      " |  \n",
      " |  Methods defined here:\n",
      " |  \n",
      " |  __contains__(self, key, /)\n",
      " |      True if the dictionary has the specified key, else False.\n",
      " |  \n",
      " |  __delitem__(self, key, /)\n",
      " |      Delete self[key].\n",
      " |  \n",
      " |  __eq__(self, value, /)\n",
      " |      Return self==value.\n",
      " |  \n",
      " |  __ge__(self, value, /)\n",
      " |      Return self>=value.\n",
      " |  \n",
      " |  __getattribute__(self, name, /)\n",
      " |      Return getattr(self, name).\n",
      " |  \n",
      " |  __getitem__(...)\n",
      " |      x.__getitem__(y) <==> x[y]\n",
      " |  \n",
      " |  __gt__(self, value, /)\n",
      " |      Return self>value.\n",
      " |  \n",
      " |  __init__(self, /, *args, **kwargs)\n",
      " |      Initialize self.  See help(type(self)) for accurate signature.\n",
      " |  \n",
      " |  __ior__(self, value, /)\n",
      " |      Return self|=value.\n",
      " |  \n",
      " |  __iter__(self, /)\n",
      " |      Implement iter(self).\n",
      " |  \n",
      " |  __le__(self, value, /)\n",
      " |      Return self<=value.\n",
      " |  \n",
      " |  __len__(self, /)\n",
      " |      Return len(self).\n",
      " |  \n",
      " |  __lt__(self, value, /)\n",
      " |      Return self<value.\n",
      " |  \n",
      " |  __ne__(self, value, /)\n",
      " |      Return self!=value.\n",
      " |  \n",
      " |  __or__(self, value, /)\n",
      " |      Return self|value.\n",
      " |  \n",
      " |  __repr__(self, /)\n",
      " |      Return repr(self).\n",
      " |  \n",
      " |  __reversed__(self, /)\n",
      " |      Return a reverse iterator over the dict keys.\n",
      " |  \n",
      " |  __ror__(self, value, /)\n",
      " |      Return value|self.\n",
      " |  \n",
      " |  __setitem__(self, key, value, /)\n",
      " |      Set self[key] to value.\n",
      " |  \n",
      " |  __sizeof__(...)\n",
      " |      D.__sizeof__() -> size of D in memory, in bytes\n",
      " |  \n",
      " |  clear(...)\n",
      " |      D.clear() -> None.  Remove all items from D.\n",
      " |  \n",
      " |  copy(...)\n",
      " |      D.copy() -> a shallow copy of D\n",
      " |  \n",
      " |  get(self, key, default=None, /)\n",
      " |      Return the value for key if key is in the dictionary, else default.\n",
      " |  \n",
      " |  items(...)\n",
      " |      D.items() -> a set-like object providing a view on D's items\n",
      " |  \n",
      " |  keys(...)\n",
      " |      D.keys() -> a set-like object providing a view on D's keys\n",
      " |  \n",
      " |  pop(...)\n",
      " |      D.pop(k[,d]) -> v, remove specified key and return the corresponding value.\n",
      " |      \n",
      " |      If key is not found, default is returned if given, otherwise KeyError is raised\n",
      " |  \n",
      " |  popitem(self, /)\n",
      " |      Remove and return a (key, value) pair as a 2-tuple.\n",
      " |      \n",
      " |      Pairs are returned in LIFO (last-in, first-out) order.\n",
      " |      Raises KeyError if the dict is empty.\n",
      " |  \n",
      " |  setdefault(self, key, default=None, /)\n",
      " |      Insert key with a value of default if key is not in the dictionary.\n",
      " |      \n",
      " |      Return the value for key if key is in the dictionary, else default.\n",
      " |  \n",
      " |  update(...)\n",
      " |      D.update([E, ]**F) -> None.  Update D from dict/iterable E and F.\n",
      " |      If E is present and has a .keys() method, then does:  for k in E: D[k] = E[k]\n",
      " |      If E is present and lacks a .keys() method, then does:  for k, v in E: D[k] = v\n",
      " |      In either case, this is followed by: for k in F:  D[k] = F[k]\n",
      " |  \n",
      " |  values(...)\n",
      " |      D.values() -> an object providing a view on D's values\n",
      " |  \n",
      " |  ----------------------------------------------------------------------\n",
      " |  Class methods defined here:\n",
      " |  \n",
      " |  __class_getitem__(...) from builtins.type\n",
      " |      See PEP 585\n",
      " |  \n",
      " |  fromkeys(iterable, value=None, /) from builtins.type\n",
      " |      Create a new dictionary with keys from iterable and values set to value.\n",
      " |  \n",
      " |  ----------------------------------------------------------------------\n",
      " |  Static methods defined here:\n",
      " |  \n",
      " |  __new__(*args, **kwargs) from builtins.type\n",
      " |      Create and return a new object.  See help(type) for accurate signature.\n",
      " |  \n",
      " |  ----------------------------------------------------------------------\n",
      " |  Data and other attributes defined here:\n",
      " |  \n",
      " |  __hash__ = None\n",
      "\n"
     ]
    }
   ],
   "source": [
    "help(simulate)"
   ]
  },
  {
   "cell_type": "markdown",
   "metadata": {},
   "source": [
    "#### Computing actual market share"
   ]
  },
  {
   "cell_type": "code",
   "execution_count": 78,
   "metadata": {},
   "outputs": [],
   "source": [
    "#actual market share:\n",
    "\n",
    "# weighted market shares using actual choices\n",
    "mask_choice = {\"females_44_less\":{'walk': len(df[(df['age']<=44)&(df['female']==1)&(df['travel_mode']==1)]),\n",
    "                                  'cycling':len(df[(df['age']<=44)&(df['female']==1)&(df['travel_mode']==2)]),\n",
    "                                  'pt':len(df[(df['age']<=44)&(df['female']==1)&(df['travel_mode']==3)]),\n",
    "                                  'driving':len(df[(df['age']<=44)&(df['female']==1)&(df['travel_mode']==4)])},\n",
    "              \"females_45_more\": {'walk': len(df[(df['age']>=45)&(df['female']==1)&(df['travel_mode']==1)]),\n",
    "                                  'cycling':len(df[(df['age']>=45)&(df['female']==1)&(df['travel_mode']==2)]),\n",
    "                                  'pt':len(df[(df['age']>=45)&(df['female']==1)&(df['travel_mode']==3)]),\n",
    "                                  'driving':len(df[(df['age']>=45)&(df['female']==1)&(df['travel_mode']==4)])},\n",
    "              \"males_44_less\": {'walk': len(df[(df['age']<=44)&(df['female']==0)&(df['travel_mode']==1)]),\n",
    "                                  'cycling':len(df[(df['age']<=44)&(df['female']==0)&(df['travel_mode']==2)]),\n",
    "                                  'pt':len(df[(df['age']<=44)&(df['female']==0)&(df['travel_mode']==3)]),\n",
    "                                  'driving':len(df[(df['age']<=44)&(df['female']==0)&(df['travel_mode']==4)])},\n",
    "              \"males_45_more\": {'walk': len(df[(df['age']>=45)&(df['female']==0)&(df['travel_mode']==1)]),\n",
    "                                  'cycling':len(df[(df['age']>=45)&(df['female']==0)&(df['travel_mode']==2)]),\n",
    "                                  'pt':len(df[(df['age']>=45)&(df['female']==0)&(df['travel_mode']==3)]),\n",
    "                                  'driving':len(df[(df['age']>=45)&(df['female']==0)&(df['travel_mode']==4)])}}\n",
    "\n",
    "market_share_walk_weighted = sum([weights[k] * v['walk'] for k, v in mask_choice.items()])/total_sample\n",
    "market_share_cycling_weighted = sum([weights[k] * v['cycling'] for k, v in mask_choice.items()])/total_sample\n",
    "market_share_pt_weighted = sum([weights[k] * v['pt'] for k, v in mask_choice.items()])/total_sample\n",
    "market_share_driving_weighted = sum([weights[k] * v['driving'] for k, v in mask_choice.items()])/total_sample"
   ]
  },
  {
   "cell_type": "code",
   "execution_count": 79,
   "metadata": {},
   "outputs": [
    {
     "name": "stdout",
     "output_type": "stream",
     "text": [
      "Weighted market share of walk: 18.1%\n",
      "Weighted market share of cycling: 3.0%\n",
      "Weighted market share of pt: 35.5%\n",
      "Weighted market share of driving: 43.4%\n"
     ]
    }
   ],
   "source": [
    "print(f\"Weighted market share of walk: {100*market_share_walk_weighted:.1f}%\")\n",
    "print(f\"Weighted market share of cycling: {100*market_share_cycling_weighted:.1f}%\")\n",
    "print(f\"Weighted market share of pt: {100*market_share_pt_weighted:.1f}%\")\n",
    "print(f\"Weighted market share of driving: {100*market_share_driving_weighted:.1f}%\")"
   ]
  },
  {
   "cell_type": "markdown",
   "metadata": {},
   "source": [
    "### Forecasting"
   ]
  },
  {
   "cell_type": "markdown",
   "metadata": {},
   "source": [
    "We consider two scenarios:\n",
    "1. An increase of 1.50 GBP for car users\n",
    "2. A decrease of the public transport charge of 20%\n"
   ]
  },
  {
   "cell_type": "markdown",
   "metadata": {},
   "source": [
    "#### Predicted market share in both cases:"
   ]
  },
  {
   "cell_type": "code",
   "execution_count": 80,
   "metadata": {},
   "outputs": [
    {
     "name": "stderr",
     "output_type": "stream",
     "text": [
      "The sum of the weights (4939.940013322009) is different from the sample size (5000). Multiply the weights by 1.0121580396757899 to reconcile the two.\n"
     ]
    },
    {
     "name": "stdout",
     "output_type": "stream",
     "text": [
      "Scenario 1: increase car cost by 1.5 pounds\n",
      "Market share of walk: 18.41%\n",
      "Market share of cycling: 3.06%\n",
      "Market share of pt: 38.20%\n",
      "Market share of driving: 39.13%\n"
     ]
    }
   ],
   "source": [
    "#predicted market share in case of increase of car costs:\n",
    "\n",
    "V4_s1 = (BETA_COST_DRIVE * (cost_driving_total+1.5) + BETA_TIME_DRIVE * dur_driving)\n",
    "V_s1 = {1: V1, 2: V2, 3: V3, 4: V4_s1}\n",
    "prob_walk = models.cnl(V_s1, None, nests, 1)\n",
    "prob_cycling = models.cnl(V_s1, None, nests, 2)\n",
    "prob_pt = models.cnl(V_s1, None, nests, 3)\n",
    "prob_driving_scenario1 = models.cnl(V_s1, None, nests, 4)\n",
    "simulate = {\n",
    "    'weight': weight,\n",
    "    'prob.walk': prob_walk,\n",
    "    'prob.cycling': prob_cycling,\n",
    "    'prob.pt': prob_pt,\n",
    "    'prob.driving': prob_driving_scenario1\n",
    "}\n",
    "\n",
    "biosim_s1 = bio.BIOGEME(database, simulate) #using database defined in market share\n",
    "simulated_values_s1 = biosim_s1.simulate(results_model_4_cross.getBetaValues())\n",
    "\n",
    "simulated_values_s1['weighted walk'] = simulated_values_s1['weight'] * simulated_values_s1['prob.walk']\n",
    "simulated_values_s1['weighted cycling'] = simulated_values_s1['weight'] * simulated_values_s1['prob.cycling']\n",
    "simulated_values_s1['weighted pt'] = simulated_values_s1['weight'] * simulated_values_s1['prob.pt']\n",
    "simulated_values_s1['weighted driving'] = simulated_values_s1['weight'] * simulated_values_s1['prob.driving']\n",
    "\n",
    "market_share_walk_s1 = simulated_values_s1['weighted walk'].mean()\n",
    "market_share_cycling_s1 = simulated_values_s1['weighted cycling'].mean()\n",
    "market_share_pt_s1 = simulated_values_s1['weighted pt'].mean()\n",
    "market_share_driving_s1 = simulated_values_s1['weighted driving'].mean()\n",
    "\n",
    "print('Scenario 1: increase car cost by 1.5 pounds')\n",
    "print(f\"Market share of walk: {100*market_share_walk_s1:.2f}%\")\n",
    "print(f\"Market share of cycling: {100*market_share_cycling_s1:.2f}%\")\n",
    "print(f\"Market share of pt: {100*market_share_pt_s1:.2f}%\")\n",
    "print(f\"Market share of driving: {100*market_share_driving_s1:.2f}%\")"
   ]
  },
  {
   "cell_type": "code",
   "execution_count": 81,
   "metadata": {},
   "outputs": [
    {
     "name": "stderr",
     "output_type": "stream",
     "text": [
      "The sum of the weights (4939.940013322009) is different from the sample size (5000). Multiply the weights by 1.0121580396757899 to reconcile the two.\n"
     ]
    },
    {
     "name": "stdout",
     "output_type": "stream",
     "text": [
      "Scenario 2: decrease public transport costs by 20%\n",
      "Market share of walk: 17.27%\n",
      "Market share of cycling: 2.70%\n",
      "Market share of pt: 39.48%\n",
      "Market share of driving: 39.35%\n"
     ]
    }
   ],
   "source": [
    "#predicted market share in case of decrease in public transport\n",
    "\n",
    "V3_s2 = ASC_PT * car_available + ASC_PT_NOCAR * (1 - car_available) + BETA_COST_PT * cost_transit*0.08 + BETA_TIME_PT * dur_pt_total\n",
    "V_s2 = {1: V1, 2: V2, 3: V3_s2, 4: V4}\n",
    "prob_walk = models.cnl(V_s2, None, nests, 1)\n",
    "prob_cycling = models.cnl(V_s2, None, nests, 2)\n",
    "prob_pt = models.cnl(V_s2, None, nests, 3)\n",
    "prob_driving_scenario1 = models.cnl(V_s2, None, nests, 4)\n",
    "simulate = {\n",
    "    'weight': weight,\n",
    "    'prob.walk': prob_walk,\n",
    "    'prob.cycling': prob_cycling,\n",
    "    'prob.pt': prob_pt,\n",
    "    'prob.driving': prob_driving_scenario1\n",
    "}\n",
    "\n",
    "biosim_s2 = bio.BIOGEME(database, simulate) #using database defined in market share\n",
    "simulated_values_s2 = biosim_s2.simulate(results_model_4_cross.getBetaValues())\n",
    "\n",
    "simulated_values_s2['weighted walk'] = simulated_values_s2['weight'] * simulated_values_s2['prob.walk']\n",
    "simulated_values_s2['weighted cycling'] = simulated_values_s2['weight'] * simulated_values_s2['prob.cycling']\n",
    "simulated_values_s2['weighted pt'] = simulated_values_s2['weight'] * simulated_values_s2['prob.pt']\n",
    "simulated_values_s2['weighted driving'] = simulated_values_s2['weight'] * simulated_values_s2['prob.driving']\n",
    "\n",
    "market_share_walk_s2 = simulated_values_s2['weighted walk'].mean()\n",
    "market_share_cycling_s2 = simulated_values_s2['weighted cycling'].mean()\n",
    "market_share_pt_s2 = simulated_values_s2['weighted pt'].mean()\n",
    "market_share_driving_s2 = simulated_values_s2['weighted driving'].mean()\n",
    "\n",
    "print('Scenario 2: decrease public transport costs by 20%')\n",
    "print(f\"Market share of walk: {100*market_share_walk_s2:.2f}%\")\n",
    "print(f\"Market share of cycling: {100*market_share_cycling_s2:.2f}%\")\n",
    "print(f\"Market share of pt: {100*market_share_pt_s2:.2f}%\")\n",
    "print(f\"Market share of driving: {100*market_share_driving_s2:.2f}%\")"
   ]
  },
  {
   "cell_type": "markdown",
   "metadata": {},
   "source": [
    "When wanting to decrease the share of car, we should consider the first scenario, as the simulated market share of driving is **39.13%**. In the second scenario, the car market share is **39.35%**, thus higher."
   ]
  },
  {
   "cell_type": "markdown",
   "metadata": {},
   "source": [
    "### Highest pt revenue \n",
    "\n",
    "We want to check in which scenario the public transportation revenue is the highest. To do so, we need to compute the revenue in all 3 cases (no changes, increase in car costs, decrease in pt costs)."
   ]
  },
  {
   "cell_type": "code",
   "execution_count": 82,
   "metadata": {},
   "outputs": [],
   "source": [
    "database = db.Database('LPMC', df)\n",
    "weight = Variable('weight')"
   ]
  },
  {
   "cell_type": "code",
   "execution_count": 83,
   "metadata": {},
   "outputs": [
    {
     "name": "stderr",
     "output_type": "stream",
     "text": [
      "The sum of the weights (4939.940013322009) is different from the sample size (5000). Multiply the weights by 1.0121580396757899 to reconcile the two.\n"
     ]
    },
    {
     "name": "stdout",
     "output_type": "stream",
     "text": [
      "Public transport revenues (no changes in policy): 3411.264959398408\n"
     ]
    }
   ],
   "source": [
    "#no change in policy\n",
    "\n",
    "prob_walk = models.cnl(V, None, nests, 1)\n",
    "prob_cycling = models.cnl(V, None, nests, 2)\n",
    "prob_pt = models.cnl(V, None, nests, 3)\n",
    "prob_driving_scenario1 = models.cnl(V, None, nests, 4)\n",
    "\n",
    "simulate = {\n",
    "    'weight': weight,\n",
    "    'revenues PT': prob_pt * cost_transit\n",
    "\n",
    "}\n",
    "\n",
    "biosim = bio.BIOGEME(database, simulate)\n",
    "simulated_values = biosim.simulate(results_model_4_cross.getBetaValues())\n",
    "\n",
    "print(f\"Public transport revenues (no changes in policy): {simulated_values['revenues PT'].sum()}\")\n"
   ]
  },
  {
   "cell_type": "code",
   "execution_count": 84,
   "metadata": {},
   "outputs": [
    {
     "name": "stderr",
     "output_type": "stream",
     "text": [
      "The sum of the weights (4939.940013322009) is different from the sample size (5000). Multiply the weights by 1.0121580396757899 to reconcile the two.\n"
     ]
    },
    {
     "name": "stdout",
     "output_type": "stream",
     "text": [
      "Public transport revenues (scenario 1 policy): 3637.095924512273\n"
     ]
    }
   ],
   "source": [
    "#scenario 1 (increase in car costs)\n",
    "\n",
    "prob_walk = models.cnl(V_s1, None, nests, 1)\n",
    "prob_cycling = models.cnl(V_s1, None, nests, 2)\n",
    "prob_pt = models.cnl(V_s1, None, nests, 3)\n",
    "prob_driving_scenario1 = models.cnl(V_s1, None, nests, 4)\n",
    "\n",
    "simulate = {\n",
    "    'weight': weight,\n",
    "    'revenues PT': prob_pt * cost_transit\n",
    "\n",
    "}\n",
    "\n",
    "biosim = bio.BIOGEME(database, simulate)\n",
    "simulated_values = biosim.simulate(results_model_4_cross.getBetaValues())\n",
    "\n",
    "print(f\"Public transport revenues (scenario 1 policy): {simulated_values['revenues PT'].sum()}\")"
   ]
  },
  {
   "cell_type": "code",
   "execution_count": 85,
   "metadata": {},
   "outputs": [
    {
     "name": "stderr",
     "output_type": "stream",
     "text": [
      "The sum of the weights (4939.940013322009) is different from the sample size (5000). Multiply the weights by 1.0121580396757899 to reconcile the two.\n"
     ]
    },
    {
     "name": "stdout",
     "output_type": "stream",
     "text": [
      "Public transport revenues (scenario 2 policy): 4013.980805376355\n"
     ]
    }
   ],
   "source": [
    "#scenario 2 (decrease in pt costs)\n",
    "\n",
    "prob_walk = models.cnl(V_s2, None, nests, 1)\n",
    "prob_cycling = models.cnl(V_s2, None, nests, 2)\n",
    "prob_pt = models.cnl(V_s2, None, nests, 3)\n",
    "prob_driving_scenario1 = models.cnl(V_s2, None, nests, 4)\n",
    "\n",
    "simulate = {\n",
    "    'weight': weight,\n",
    "    'revenues PT': prob_pt * cost_transit\n",
    "\n",
    "}\n",
    "\n",
    "biosim = bio.BIOGEME(database, simulate)\n",
    "simulated_values = biosim.simulate(results_model_4_cross.getBetaValues())\n",
    "\n",
    "print(f\"Public transport revenues (scenario 2 policy): {simulated_values['revenues PT'].sum()}\")"
   ]
  },
  {
   "cell_type": "markdown",
   "metadata": {},
   "source": [
    "The **second scenario** gives the highest revenues for public transport."
   ]
  },
  {
   "cell_type": "markdown",
   "metadata": {},
   "source": [
    "### Average value of time"
   ]
  },
  {
   "cell_type": "markdown",
   "metadata": {},
   "source": [
    "We want to compute the average VOT for both car and public transportation (in GBP/hour). To do so, we use the following formula:\n",
    "\n",
    "$$ \\text{(VOT)}_\\text{i} = \\frac{\\partial  \\text{(Utility)}_i}{\\partial \\text{(duration)}_i} : \\frac{\\partial  \\text{(Utility)}_i}{\\partial \\text{(cost)}_i} , i \\in \\{car,pt\\} $$\n"
   ]
  },
  {
   "cell_type": "code",
   "execution_count": 86,
   "metadata": {},
   "outputs": [
    {
     "ename": "NameError",
     "evalue": "name 'vot_car' is not defined",
     "output_type": "error",
     "traceback": [
      "\u001b[1;31m---------------------------------------------------------------------------\u001b[0m",
      "\u001b[1;31mNameError\u001b[0m                                 Traceback (most recent call last)",
      "Cell \u001b[1;32mIn[86], line 12\u001b[0m\n\u001b[0;32m      6\u001b[0m vot_pt \u001b[38;5;241m=\u001b[39m Derive(V_pt, \u001b[38;5;124m'\u001b[39m\u001b[38;5;124mdur_pt_total\u001b[39m\u001b[38;5;124m'\u001b[39m) \u001b[38;5;241m/\u001b[39m Derive(V_pt, \u001b[38;5;124m'\u001b[39m\u001b[38;5;124mcost_transit\u001b[39m\u001b[38;5;124m'\u001b[39m)\n\u001b[0;32m      7\u001b[0m vot_driving \u001b[38;5;241m=\u001b[39m Derive(V_driving, \u001b[38;5;124m'\u001b[39m\u001b[38;5;124mdur_driving\u001b[39m\u001b[38;5;124m'\u001b[39m) \u001b[38;5;241m/\u001b[39m Derive(V_driving, \u001b[38;5;124m'\u001b[39m\u001b[38;5;124mcost_driving_total\u001b[39m\u001b[38;5;124m'\u001b[39m)\n\u001b[0;32m      9\u001b[0m simulate \u001b[38;5;241m=\u001b[39m {\n\u001b[0;32m     10\u001b[0m     \u001b[38;5;124m'\u001b[39m\u001b[38;5;124mweight\u001b[39m\u001b[38;5;124m'\u001b[39m: weight,\n\u001b[0;32m     11\u001b[0m     \u001b[38;5;124m'\u001b[39m\u001b[38;5;124mWTP PT time\u001b[39m\u001b[38;5;124m'\u001b[39m: vot_pt,\n\u001b[1;32m---> 12\u001b[0m     \u001b[38;5;124m'\u001b[39m\u001b[38;5;124mWTP CAR time\u001b[39m\u001b[38;5;124m'\u001b[39m: \u001b[43mvot_car\u001b[49m,\n\u001b[0;32m     13\u001b[0m }\n\u001b[0;32m     15\u001b[0m biosim \u001b[38;5;241m=\u001b[39m bio\u001b[38;5;241m.\u001b[39mBIOGEME(database, simulate)\n\u001b[0;32m     16\u001b[0m simulated_values \u001b[38;5;241m=\u001b[39m biosim\u001b[38;5;241m.\u001b[39msimulate(results_model_4_cross\u001b[38;5;241m.\u001b[39mgetBetaValues())\n",
      "\u001b[1;31mNameError\u001b[0m: name 'vot_car' is not defined"
     ]
    }
   ],
   "source": [
    "V_pt = models.cnl(V, None, nests, 3)\n",
    "V_driving = models.cnl(V, None, nests, 4)\n",
    "\n",
    "#idk why it doesn't work without defining both of the utilities upper ????\n",
    "\n",
    "vot_pt = Derive(V_pt, 'dur_pt_total') / Derive(V_pt, 'cost_transit')\n",
    "vot_driving = Derive(V_driving, 'dur_driving') / Derive(V_driving, 'cost_driving_total')\n",
    "\n",
    "simulate = {\n",
    "    'weight': weight,\n",
    "    'WTP PT time': vot_pt,\n",
    "    'WTP CAR time': vot_car,\n",
    "}\n",
    "\n",
    "biosim = bio.BIOGEME(database, simulate)\n",
    "simulated_values = biosim.simulate(results_model_4_cross.getBetaValues())\n",
    "\n"
   ]
  },
  {
   "cell_type": "code",
   "execution_count": null,
   "metadata": {},
   "outputs": [],
   "source": [
    "print(f\"Average value of time for public transport: {(simulated_values['weight']*simulated_values['WTP PT time']).mean()}  GBP/hour\")\n",
    "print(f\"Average value of time for car: {(simulated_values['weight']*simulated_values['WTP CAR time']).mean()} GBP/hour\")"
   ]
  },
  {
   "cell_type": "markdown",
   "metadata": {},
   "source": [
    "### Direct and cross aggregate elasticities"
   ]
  },
  {
   "cell_type": "markdown",
   "metadata": {},
   "source": [
    "Now we need to compute the direct and cross elasticites of car costs and public transport costs. \n",
    "\n",
    "The **direct price elasticity** for the car is the percent change in pt change resulting from a 1% change in car costs. The formula is given by:\n",
    "\n",
    "$$ E^{car}_{pt} =  \\frac{(cost_{transit})}{(cost_{driving\\total})} \\cdot \\frac{\\partial  (cost_{driving\\total})}{\\partial (cost_{transit})}$$\n",
    "\n",
    "The **cross price elasticity** is given by the following formula:\n",
    "\n"
   ]
  },
  {
   "cell_type": "code",
   "execution_count": null,
   "metadata": {},
   "outputs": [],
   "source": [
    "prob_pt = models.cnl(V, None, nests, 3)\n",
    "prob_driving = models.cnl(V, None, nests, 4)\n",
    "\n",
    "#direct elasticities \n",
    "\n",
    "direct_elas_pt_cost = Derive(prob_pt, 'cost_transit') * cost_transit / prob_pt\n",
    "direct_elas_driving_cost = Derive(prob_driving, 'cost_driving_total') * cost_driving_total / prob_driving\n",
    "\n",
    "simulate = {\n",
    "    'weight': weight,\n",
    "    'prob.driving': prob_driving,\n",
    "    'prob.pt': prob_pt,\n",
    "    'direct_elas_pt_cost': direct_elas_pt_cost,\n",
    "    'direct_elas_driving_cost': direct_elas_driving_cost\n",
    "}\n",
    "\n",
    "biosim = bio.BIOGEME(database, simulate)\n",
    "simulated_values = biosim.simulate(results_model_4_cross.getBetaValues())"
   ]
  },
  {
   "cell_type": "code",
   "execution_count": null,
   "metadata": {},
   "outputs": [],
   "source": [
    "simulated_values['numerator_pt_cost'] = simulated_values['weight'] * simulated_values['prob.pt'] * simulated_values['direct_elas_pt_cost']\n",
    "simulated_values['numerator_driving_cost'] = simulated_values['weight'] * simulated_values['prob.driving'] * simulated_values['direct_elas_driving_cost']\n",
    "simulated_values['denominator_pt_cost'] = simulated_values['weight'] * simulated_values['prob.pt']\n",
    "simulated_values['denominator_driving_cost'] = simulated_values['weight'] * simulated_values['prob.driving']"
   ]
  },
  {
   "cell_type": "code",
   "execution_count": null,
   "metadata": {
    "scrolled": true
   },
   "outputs": [],
   "source": [
    "#aggregate elasticities\n",
    "\n",
    "agg_elast_pt_cost = simulated_values['numerator_pt_cost'].sum()/simulated_values['denominator_pt_cost'].sum()\n",
    "agg_elast_driving_cost = simulated_values['numerator_driving_cost'].sum()/simulated_values['denominator_driving_cost'].sum()\n",
    "\n",
    "print(f\"Elasticity of public transport cost: {agg_elast_pt_cost}\")\n",
    "print(f\"Elasticity of public driving cost: {agg_elast_driving_cost}\")"
   ]
  },
  {
   "cell_type": "code",
   "execution_count": null,
   "metadata": {},
   "outputs": [],
   "source": []
  }
 ],
 "metadata": {
  "kernelspec": {
   "display_name": "Python 3 (ipykernel)",
   "language": "python",
   "name": "python3"
  },
  "language_info": {
   "codemirror_mode": {
    "name": "ipython",
    "version": 3
   },
   "file_extension": ".py",
   "mimetype": "text/x-python",
   "name": "python",
   "nbconvert_exporter": "python",
   "pygments_lexer": "ipython3",
   "version": "3.9.13"
  }
 },
 "nbformat": 4,
 "nbformat_minor": 2
}
