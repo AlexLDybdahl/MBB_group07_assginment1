{
 "cells": [
  {
   "cell_type": "markdown",
   "metadata": {},
   "source": [
    "# Assignment - MMB\n",
    "*Alexander Laloi Dybdahl, Valentin Vuillon, Alexia Stéphanie Liviana Paratte*"
   ]
  },
  {
   "cell_type": "code",
   "execution_count": 1,
   "metadata": {},
   "outputs": [],
   "source": [
    "import numpy as np\n",
    "import pandas as pd\n",
    "import biogeme.database as db\n",
    "import biogeme.biogeme as bio\n",
    "from biogeme import models, tools\n",
    "from biogeme.expressions import Beta, DefineVariable, Variable, bioDraws, MonteCarlo, log, Power, exp, Derive\n",
    "import scipy.stats as st\n"
   ]
  },
  {
   "cell_type": "markdown",
   "metadata": {},
   "source": [
    "### Loading data"
   ]
  },
  {
   "cell_type": "code",
   "execution_count": 2,
   "metadata": {},
   "outputs": [],
   "source": [
    "df = pd.read_csv(\"lpmc07.dat\", delimiter='\\t')"
   ]
  },
  {
   "cell_type": "code",
   "execution_count": 18,
   "metadata": {},
   "outputs": [
    {
     "data": {
      "text/plain": [
       "Index(['trip_id', 'household_id', 'person_n', 'trip_n', 'travel_mode',\n",
       "       'purpose', 'fueltype', 'faretype', 'bus_scale', 'survey_year',\n",
       "       'travel_year', 'travel_month', 'travel_date', 'day_of_week',\n",
       "       'start_time', 'age', 'female', 'driving_license', 'car_ownership',\n",
       "       'distance', 'dur_walking', 'dur_cycling', 'dur_pt_access',\n",
       "       'dur_pt_rail', 'dur_pt_bus', 'dur_pt_int', 'pt_interchanges',\n",
       "       'dur_driving', 'cost_transit', 'cost_driving_fuel',\n",
       "       'cost_driving_ccharge', 'driving_traffic_percent', 'dur_pt_total',\n",
       "       'cost_driving_total', 'car_available'],\n",
       "      dtype='object')"
      ]
     },
     "execution_count": 18,
     "metadata": {},
     "output_type": "execute_result"
    }
   ],
   "source": [
    "df.columns"
   ]
  },
  {
   "cell_type": "markdown",
   "metadata": {},
   "source": [
    "## Tasks"
   ]
  },
  {
   "cell_type": "markdown",
   "metadata": {},
   "source": [
    "### Model 0\n",
    "\n",
    "Model 0 includes a general cost parameter and alternative-specific time parameters for each mode of transportation. The utility functions are defined as:\n",
    "\n",
    "- **Walking**:  \n",
    "  $$ U_{\\text{walk}} = \\text{ASC\\_WALK} + \\beta_{\\text{TIME}} \\cdot \\text{dur\\_walking} + \\epsilon_{\\text{walk}} $$\n",
    "\n",
    "- **Cycling**:  \n",
    "  $$ U_{\\text{cycle}} = \\text{ASC\\_BIKE} + \\beta_{\\text{TIME}} \\cdot \\text{dur\\_cycling} + \\epsilon_{\\text{cycle}} $$\n",
    "\n",
    "- **Public Transport**:  \n",
    "  $$ U_{\\text{pt}} = \\text{ASC\\_PT} + \\beta_{\\text{COST}} \\cdot \\text{cost\\_transit} + \\beta_{\\text{TIME}} \\cdot \\text{dur\\_pt\\_total} + \\epsilon_{\\text{pt}} $$\n",
    "\n",
    "- **Driving**:  \n",
    "  $$ U_{\\text{drive}} = \\text{ASC\\_DRIVE} + \\beta_{\\text{COST}} \\cdot \\text{cost\\_driving\\_total} + \\beta_{\\text{TIME}} \\cdot \\text{dur\\_driving} + \\epsilon_{\\text{drive}} $$\n",
    "\n",
    "where:\n",
    "- $ \\beta_{\\text{COST}} $ is the coefficient for travel cost.\n",
    "- $ \\beta_{\\text{TIME}} $ is the coefficient for travel time.\n",
    "- $ \\text{cost}_j $ is the travel cost for mode $ j $.\n",
    "- $ \\text{dur}_j $ is the travel time for mode $ j $.\n",
    "- $ \\epsilon_j $ is the error term, representing unobserved factors affecting the utility of mode $ j $.\n",
    "\n",
    "The probability $ P_j $ of choosing mode $ j $ is given by the softmax function:\n",
    "\n",
    "$$ P_j = \\frac{\\exp(U_j)}{\\sum_{k=1}^{J} \\exp(U_k)} $$\n"
   ]
  },
  {
   "cell_type": "code",
   "execution_count": 3,
   "metadata": {},
   "outputs": [
    {
     "name": "stderr",
     "output_type": "stream",
     "text": [
      "Obsolete syntax. Use generate_html instead of generateHtml\n",
      "Obsolete syntax. Use generate_pickle instead of generatePickle\n"
     ]
    },
    {
     "name": "stdout",
     "output_type": "stream",
     "text": [
      "              Value  Rob. Std err  Rob. t-test  Rob. p-value\n",
      "ASC_BIKE  -2.569395      0.090262   -28.466003           0.0\n",
      "ASC_PT     0.766417      0.047360    16.182870           0.0\n",
      "ASC_WALK   1.256090      0.076712    16.374060           0.0\n",
      "BETA_COST -0.173019      0.014562   -11.881537           0.0\n",
      "BETA_TIME -5.326766      0.189549   -28.102283           0.0\n"
     ]
    }
   ],
   "source": [
    "# Calculate the total public transport duration and total driving cost\n",
    "df['dur_pt_total'] = df['dur_pt_access'] + df['dur_pt_rail'] + df['dur_pt_bus'] + df['dur_pt_int']\n",
    "df['cost_driving_total'] = df['cost_driving_fuel'] + df['cost_driving_ccharge']\n",
    "df['car_available'] = (df['car_ownership'] > 0).astype(int)\n",
    "\n",
    "# Create a Biogeme database\n",
    "database = db.Database('LPMC', df)\n",
    "globals().update(database.variables)\n",
    "\n",
    "# Define parameters for the utility functions\n",
    "ASC_WALK = Beta('ASC_WALK', 0, None, None, 0)\n",
    "ASC_BIKE = Beta('ASC_BIKE', 0, None, None, 0)\n",
    "ASC_PT = Beta('ASC_PT', 0, None, None, 0)\n",
    "\n",
    "BETA_COST = Beta('BETA_COST', 0, None, None, 0)\n",
    "BETA_TIME = Beta('BETA_TIME', 0, None, None, 0)\n",
    "\n",
    "# Define utility functions using Biogeme expressions\n",
    "V1 = ASC_WALK + BETA_TIME * dur_walking\n",
    "V2 = ASC_BIKE + BETA_TIME * dur_cycling\n",
    "V3 = ASC_PT + BETA_COST * cost_transit + BETA_TIME * dur_pt_total\n",
    "V4 = BETA_COST * cost_driving_total + BETA_TIME * dur_driving\n",
    "\n",
    "# Associate utility functions with the numerical codes for the modes\n",
    "V = {1: V1, 2: V2, 3: V3, 4: V4}\n",
    "\n",
    "# Define the model\n",
    "logprob_0 = models.loglogit(V, None, travel_mode)\n",
    "\n",
    "# Estimate the model\n",
    "biogeme_0 = bio.BIOGEME(database, logprob_0)\n",
    "biogeme_0.modelName = 'Model_0'\n",
    "biogeme_0.generateHtml = False  # Disable HTML file generation\n",
    "biogeme_0.generatePickle = False  # Disable PICKLE file generation\n",
    "biogeme_0.save_iterations = False  # Disable ITER file generation\n",
    "results_model_0 = biogeme_0.estimate()\n",
    "\n",
    "# Output\n",
    "print(results_model_0.getEstimatedParameters())"
   ]
  },
  {
   "cell_type": "code",
   "execution_count": 4,
   "metadata": {},
   "outputs": [
    {
     "name": "stdout",
     "output_type": "stream",
     "text": [
      "Number of estimated parameters:\t5\n",
      "Sample size:\t5000\n",
      "Excluded observations:\t0\n",
      "Init log likelihood:\t-6931.472\n",
      "Final log likelihood:\t-4642.324\n",
      "Likelihood ratio test for the init. model:\t4578.295\n",
      "Rho-square for the init. model:\t0.33\n",
      "Rho-square-bar for the init. model:\t0.33\n",
      "Akaike Information Criterion:\t9294.648\n",
      "Bayesian Information Criterion:\t9327.234\n",
      "Final gradient norm:\t2.0414E-04\n",
      "Nbr of threads:\t8\n",
      "\n"
     ]
    }
   ],
   "source": [
    "# Retrieve the general statistics from the results\n",
    "general_stats_model_0 = results_model_0.getGeneralStatistics()\n",
    "print(results_model_0.printGeneralStatistics())\n"
   ]
  },
  {
   "cell_type": "markdown",
   "metadata": {},
   "source": [
    "### Model 1\n",
    "\n",
    "Model 1 includes alternative-specific cost parameters for each mode of transportation. The utility functions are defined as:\n",
    "\n",
    "- **Walking**:  \n",
    "  $$ U_{\\text{walk}} = \\text{ASC\\_WALK} + \\beta_{\\text{TIME\\_WALK}} \\cdot \\text{dur\\_walking} + \\epsilon_{\\text{walk}} $$\n",
    "\n",
    "- **Cycling**:  \n",
    "  $$ U_{\\text{cycle}} = \\text{ASC\\_BIKE} + \\beta_{\\text{TIME\\_BIKE}} \\cdot \\text{dur\\_cycling} + \\epsilon_{\\text{cycle}} $$\n",
    "\n",
    "- **Public Transport**:  \n",
    "  $$ U_{\\text{pt}} = \\text{ASC\\_PT} + \\beta_{\\text{COST}} \\cdot \\text{cost\\_transit} + \\beta_{\\text{TIME\\_PT}} \\cdot \\text{dur\\_pt\\_total} + \\epsilon_{\\text{pt}} $$\n",
    "\n",
    "- **Driving**:  \n",
    "  $$ U_{\\text{drive}} = \\beta_{\\text{COST}} \\cdot \\text{cost\\_driving\\_total} + \\beta_{\\text{TIME\\_DRIVE}} \\cdot \\text{dur\\_driving} + \\epsilon_{\\text{drive}} $$\n",
    "\n",
    "Where:\n",
    "- $ \\text{ASC\\_WALK}, \\text{ASC\\_BIKE}, \\text{ASC\\_PT} $ are the alternative specific constants for walking, cycling, and public transport, respectively.\n",
    "- $ \\beta_{\\text{COST}} $ is the common cost coefficient for all transportation modes.\n",
    "- $ \\beta_{\\text{TIME\\_WALK}}, \\beta_{\\text{TIME\\_BIKE}}, \\beta_{\\text{TIME\\_PT}}, \\beta_{\\text{TIME\\_DRIVE}} $ are the time coefficients for walking, cycling, public transport, and driving, respectively.\n",
    "- $ \\text{cost\\_transit}, \\text{cost\\_driving\\_total} $ are the costs associated with public transport and driving.\n",
    "- $ \\text{dur\\_walking}, \\text{dur\\_cycling}, \\text{dur\\_pt\\_total}, \\text{dur\\_driving} $ are the travel durations for each mode.\n"
   ]
  },
  {
   "cell_type": "code",
   "execution_count": 5,
   "metadata": {
    "scrolled": true
   },
   "outputs": [
    {
     "name": "stderr",
     "output_type": "stream",
     "text": [
      "Obsolete syntax. Use generate_html instead of generateHtml\n",
      "Obsolete syntax. Use generate_pickle instead of generatePickle\n"
     ]
    },
    {
     "name": "stdout",
     "output_type": "stream",
     "text": [
      "                    Value  Rob. Std err  Rob. t-test  Rob. p-value\n",
      "ASC_BIKE        -2.330094      0.157067   -14.835060      0.000000\n",
      "ASC_PT          -0.321680      0.068372    -4.704883      0.000003\n",
      "ASC_WALK         2.078816      0.134682    15.434943      0.000000\n",
      "BETA_COST       -0.163540      0.016154   -10.123734      0.000000\n",
      "BETA_TIME_BIKE  -6.714893      0.589110   -11.398368      0.000000\n",
      "BETA_TIME_DRIVE -5.841121      0.364543   -16.023120      0.000000\n",
      "BETA_TIME_PT    -3.291291      0.235273   -13.989234      0.000000\n",
      "BETA_TIME_WALK  -8.487446      0.409809   -20.710732      0.000000\n"
     ]
    }
   ],
   "source": [
    "\n",
    "# Define additional parameters for the cost for each mode\n",
    "BETA_TIME_WALK = Beta('BETA_TIME_WALK', 0, None, None, 0)\n",
    "BETA_TIME_BIKE = Beta('BETA_TIME_BIKE', 0, None, None, 0)\n",
    "BETA_TIME_PT = Beta('BETA_TIME_PT', 0, None, None, 0)\n",
    "BETA_TIME_DRIVE = Beta('BETA_TIME_DRIVE', 0, None, None, 0)\n",
    "\n",
    "# Define utility functions using Biogeme expressions with alternative-specific cost coefficients\n",
    "V1 = ASC_WALK + BETA_TIME_WALK * dur_walking\n",
    "V2 = ASC_BIKE + BETA_TIME_BIKE * dur_cycling\n",
    "V3 = ASC_PT + BETA_COST * cost_transit + BETA_TIME_PT * dur_pt_total\n",
    "V4 = BETA_COST * cost_driving_total + BETA_TIME_DRIVE * dur_driving\n",
    "\n",
    "# Associate utility functions with the numerical codes for the modes\n",
    "V = {1: V1, 2: V2, 3: V3, 4: V4}\n",
    "\n",
    "# Define the model\n",
    "logprob_1 = models.loglogit(V, None, travel_mode)\n",
    "\n",
    "# Estimate the model\n",
    "biogeme_1 = bio.BIOGEME(database, logprob_1)\n",
    "biogeme_1.modelName = 'Model_1'\n",
    "biogeme_1.generateHtml = False  # Disable HTML file generation\n",
    "biogeme_1.generatePickle = False  # Disable PICKLE file generation\n",
    "biogeme_1.save_iterations = False  # Disable ITER file generation\n",
    "results_model_1 = biogeme_1.estimate()\n",
    "\n",
    "# Output\n",
    "print(results_model_1.getEstimatedParameters())"
   ]
  },
  {
   "cell_type": "markdown",
   "metadata": {},
   "source": [
    "**Alternative Specific Constants (ASCs):**\n",
    "\n",
    "- $ \\text{ASC}_{\\text{bike}}, \\text{ASC}_{\\text{pt}}, \\text{and} \\text{ASC}_{\\text{walk}} $ are statistically significant with near-zero p-values. The constants indicate a baseline aversion to cycling ($ \\text{ASC}_{\\text{bike}} < 0 $) and a preference for walking, driving, and public transport ($ \\text{ASC}_{\\text{walk}}, \\text{ASC}_{\\text{drive}}, \\text{ASC}_{\\text{pt}} > 0 $).\n",
    "\n",
    "**Alternative-Specific Cost Coefficients:**\n",
    "\n",
    "- $ \\beta_{\\text{cost\\_bike}} $ and $ \\beta_{\\text{cost\\_walk}} $ are zero, indicating no significant impact of costs on biking and walking utility.\n",
    "- $ \\beta_{\\text{cost\\_drive}} $ is negative and significant, suggesting higher driving costs reduce its utility.\n",
    "- $ \\beta_{\\text{cost\\_pt}} $ is positive and significant, an unexpected result implying higher public transport costs might correlate with higher utility, potentially reflecting unmodeled factors like income or service quality.\n",
    "\n",
    "**Time Coefficient ($ \\beta_{\\text{time}} $):**\n",
    "\n",
    "- Remains negative and significant, indicating longer travel times decrease the utility of a mode.\n"
   ]
  },
  {
   "cell_type": "markdown",
   "metadata": {},
   "source": [
    "### Comparing $\\text{Model 1}$ and Model 0\n",
    "\n",
    "To compare $\\text{Model 0}$ and $\\text{Model 1}$, you can use a likelihood ratio test. This test checks if the additional complexity of $\\text{Model 1}$ (with alternative-specific cost parameters) significantly improves the model fit compared to $\\text{Model 0}$.\n",
    "\n",
    "- **Null Hypothesis**: $\\text{Model 0}$ is sufficient to explain the data (the additional parameters in $\\text{Model 1}$ do not significantly improve the model).\n",
    "\n",
    "- **Alternative Hypothesis:** $\\text{Model 1}$ provides a significantly better fit than $\\text{Model 0}$.\n",
    "\n",
    "The test statistic is calculated as $2 (LL(\\text{Model 1}) - LL(\\text{Model 0}))$, where LL is the log-likelihood of the respective models. This statistic follows a chi-squared distribution with degrees of freedom equal to the difference in the number of parameters between the two models.\n",
    "\n",
    "Based on the result of this test and considerations of model parsimony and interpretability, you can determine the preferred model ($\\text{Model}_\\text{pref}$). Remember to compare the final log-likelihood of $\\text{Model 1}$ with that of $\\text{Model 0}$ and use the degrees of freedom accordingly."
   ]
  },
  {
   "cell_type": "code",
   "execution_count": 6,
   "metadata": {},
   "outputs": [
    {
     "name": "stdout",
     "output_type": "stream",
     "text": [
      "Log likelihood ratio: 626.285269855598\n",
      "p value: 3.1696293841371207e-134\n",
      "Critical value: 0.7107230213973239\n",
      "Number of estimated parameters:\t8\n",
      "Sample size:\t5000\n",
      "Excluded observations:\t0\n",
      "Init log likelihood:\t-6931.472\n",
      "Final log likelihood:\t-4329.182\n",
      "Likelihood ratio test for the init. model:\t5204.58\n",
      "Rho-square for the init. model:\t0.375\n",
      "Rho-square-bar for the init. model:\t0.374\n",
      "Akaike Information Criterion:\t8674.363\n",
      "Bayesian Information Criterion:\t8726.501\n",
      "Final gradient norm:\t2.5479E-03\n",
      "Nbr of threads:\t8\n",
      "\n"
     ]
    }
   ],
   "source": [
    "LR_test = 2 * (results_model_1.data.logLike - results_model_0.data.logLike)\n",
    "print(\"Log likelihood ratio:\", LR_test)\n",
    "p_val = st.chi2.sf(LR_test, 4)\n",
    "print(\"p value:\", p_val)\n",
    "x_qhi = st.chi2.ppf(0.05, 4)\n",
    "print(\"Critical value:\", x_qhi)\n",
    "\n",
    "# Get general statistics for Model 1\n",
    "general_stats_model_1 = results_model_1.getGeneralStatistics()\n",
    "print(results_model_1.printGeneralStatistics())"
   ]
  },
  {
   "cell_type": "markdown",
   "metadata": {},
   "source": [
    "#### Interpretation of the Likelihood Ratio Test\n",
    "- The LR test statistic follows a chi-squared distribution. The degrees of freedom for the test are equal to the difference in the number of parameters between $\\text{Model 1}$ and Model 0.\n",
    "\n",
    "- In your case, $\\text{Model 1}$ has additional parameters (the alternative-specific cost coefficients) compared to $\\text{Model 0}$. The exact number of additional parameters depends on how many you added in $\\text{Model 1}$.\n",
    "\n",
    "#### Null Hypothesis for the Test\n",
    "- The null hypothesis for the LR test is that the simpler model ($\\text{Model 0}$) is adequate and that the additional parameters in the more complex model ($\\text{Model 1}$) do not significantly improve the model fit.\n",
    "\n",
    "#### Test Decision\n",
    "- To make a decision, you compare the LR test statistic to a critical value from the chi-squared distribution at a certain significance level (commonly $0.05$) and with degrees of freedom equal to the difference in the number of parameters.\n",
    "- If the LR test statistic is greater than the critical value, you reject the null hypothesis. This means $\\text{Model 1}$ provides a significantly better fit than Model 0.\n",
    "\n",
    "#### Preferred Model\n",
    "- Based on this test, $\\text{Model 1}$ ($\\text{Model}_\\text{pref}$) would be considered the preferred model over $\\text{Model 0}$, as it significantly improves the fit to the data.\n",
    "- However, it's important to also consider the interpretability and theoretical justification of the additional parameters in $\\text{Model 1}$. Sometimes a more complex model is not preferable if it does not add meaningful explanatory power or if it makes the model less interpretable."
   ]
  },
  {
   "cell_type": "markdown",
   "metadata": {},
   "source": [
    "### Model 2\n",
    "\n",
    "Model 2 introduces interactions with the socio-economic characteristic variable $\\text{car\\_available}$, building upon the specifications from $\\text{Model\\_pref}$. The utility functions are defined as:\n",
    "\n",
    "- **Walking**:  \n",
    "  $$ U_{\\text{walk}} = \\text{ASC\\_WALK} \\cdot \\text{car\\_available} + \\text{ASC\\_WALK\\_NOCAR} \\cdot (1 - \\text{car\\_available}) + \\beta_{\\text{TIME\\_WALK}} \\cdot \\text{dur\\_walking} $$\n",
    "\n",
    "- **Cycling**:  \n",
    "  $$ U_{\\text{cycle}} = \\text{ASC\\_BIKE} \\cdot \\text{car\\_available} + \\text{ASC\\_BIKE\\_NOCAR} \\cdot (1 - \\text{car\\_available}) + \\beta_{\\text{TIME\\_BIKE}} \\cdot \\text{dur\\_cycling} $$\n",
    "\n",
    "- **Public Transport**: \n",
    "  $$ U_{\\text{pt}} = \\text{ASC\\_PT} \\cdot \\text{car\\_available} + \\text{ASC\\_PT\\_NOCAR} \\cdot (1 - \\text{car\\_available}) + \\beta_{\\text{COST}} \\cdot \\text{cost\\_transit} + \\beta_{\\text{TIME\\_PT}} \\cdot \\text{dur\\_pt\\_total} $$\n",
    "\n",
    "- **Driving**:  \n",
    "  $$ U_{\\text{drive}} = \\beta_{\\text{COST}} \\cdot \\text{cost\\_driving\\_total} + \\beta_{\\text{TIME\\_DRIVE}} \\cdot \\text{dur\\_driving} $$\n",
    "\n",
    "Where:\n",
    "- $\\text{ASC\\_WALK}, \\text{ASC\\_BIKE}, \\text{ASC\\_PT}$ are the alternative specific constants.\n",
    "- $\\text{ASC\\_WALK\\_NOCAR}, \\text{ASC\\_BIKE\\_NOCAR}, \\text{ASC\\_PT\\_NOCAR}$ are the constants for when $\\text{car\\_available}$ is 0.\n",
    "- $\\beta_{\\text{COST}}$ is the cost coefficient applicable to public transport and driving.\n",
    "- $\\beta_{\\text{TIME\\_WALK}}, \\beta_{\\text{TIME\\_BIKE}}, \\beta_{\\text{TIME\\_PT}}, \\beta_{\\text{TIME\\_DRIVE}}$ are the time coefficients for each mode.\n",
    "- $\\text{car\\_available}$ is a binary variable indicating car availability.\n"
   ]
  },
  {
   "cell_type": "code",
   "execution_count": 7,
   "metadata": {},
   "outputs": [
    {
     "name": "stderr",
     "output_type": "stream",
     "text": [
      "Obsolete syntax. Use generate_html instead of generateHtml\n",
      "Obsolete syntax. Use generate_pickle instead of generatePickle\n"
     ]
    },
    {
     "name": "stdout",
     "output_type": "stream",
     "text": [
      "                    Value  Rob. Std err  Rob. t-test  Rob. p-value\n",
      "ASC_BIKE        -2.756434      0.172031   -16.022902      0.000000\n",
      "ASC_BIKE_NOCAR  -0.212168      0.212117    -1.000239      0.317195\n",
      "ASC_PT          -1.115912      0.083781   -13.319371      0.000000\n",
      "ASC_PT_NOCAR     2.108649      0.129278    16.310932      0.000000\n",
      "ASC_WALK         1.531068      0.138406    11.062132      0.000000\n",
      "ASC_WALK_NOCAR   4.270330      0.184426    23.154767      0.000000\n",
      "BETA_COST       -0.172165      0.018578    -9.267241      0.000000\n",
      "BETA_TIME_BIKE  -6.823722      0.596936   -11.431239      0.000000\n",
      "BETA_TIME_DRIVE -5.912840      0.375662   -15.739779      0.000000\n",
      "BETA_TIME_PT    -3.215695      0.259893   -12.373141      0.000000\n",
      "BETA_TIME_WALK  -8.443463      0.414100   -20.389902      0.000000\n"
     ]
    }
   ],
   "source": [
    "\n",
    "# Define additional parameters for the utility functions\n",
    "ASC_WALK_NOCAR = Beta('ASC_WALK_NOCAR', 0, None, None, 0)\n",
    "ASC_BIKE_NOCAR = Beta('ASC_BIKE_NOCAR', 0, None, None, 0)\n",
    "ASC_PT_NOCAR = Beta('ASC_PT_NOCAR', 0, None, None, 0)\n",
    "\n",
    "# Utility functions with interactions\n",
    "V1 = ASC_WALK * car_available + ASC_WALK_NOCAR * (1 - car_available) + BETA_TIME_WALK * dur_walking\n",
    "V2 = ASC_BIKE * car_available + ASC_BIKE_NOCAR * (1 - car_available) + BETA_TIME_BIKE * dur_cycling\n",
    "V3 = ASC_PT * car_available + ASC_PT_NOCAR * (1 - car_available) + BETA_COST * cost_transit + BETA_TIME_PT * dur_pt_total\n",
    "V4 = BETA_COST * cost_driving_total + BETA_TIME_DRIVE * dur_driving\n",
    "\n",
    "# Associate utility functions with the numerical codes for the modes\n",
    "V = {1: V1, 2: V2, 3: V3, 4: V4}\n",
    "\n",
    "# Define the model\n",
    "logprob_2 = models.loglogit(V, None, travel_mode)\n",
    "\n",
    "# Estimate the model\n",
    "biogeme_2 = bio.BIOGEME(database, logprob_2)\n",
    "biogeme_2.modelName = 'Model_2'\n",
    "biogeme_2.generateHtml = False  # Disable HTML file generation\n",
    "biogeme_2.generatePickle = False  # Disable PICKLE file generation\n",
    "biogeme_2.save_iterations = False  # Disable ITER file generation\n",
    "results_model_2 = biogeme_2.estimate()\n",
    "\n",
    "# Output\n",
    "print(results_model_2.getEstimatedParameters())\n"
   ]
  },
  {
   "cell_type": "markdown",
   "metadata": {},
   "source": [
    "**Alternative Specific Constants (ASCs):**\n",
    "\n",
    "- $ \\text{ASC}_{\\text{bike}}, \\text{ASC}_{\\text{drive}}, \\text{ASC}_{\\text{pt}}, \\text{and } \\text{ASC}_{\\text{walk}} $ are all statistically significant with p-values close to zero.\n",
    "\n",
    "**Cost Coefficients:**\n",
    "\n",
    "- $ \\beta_{\\text{cost\\_bike}} $ and $ \\beta_{\\text{cost\\_walk}} $ are zero, implying that costs do not significantly influence the utility of biking and walking.\n",
    "- $ \\beta_{\\text{cost\\_drive}} $ is negative and significant, meaning higher driving costs reduce its utility.\n",
    "- $ \\beta_{\\text{cost\\_pt}} $ is positive but not statistically significant, indicating that cost variations in public transport do not substantially affect its utility.\n",
    "\n",
    "**Interaction Terms:**\n",
    "\n",
    "- $ \\beta_{\\text{drive\\_carown}} $ is positive and significant, highlighting that car ownership notably increases the utility of driving.\n",
    "- $ \\beta_{\\text{cost\\_drive\\_carown}} $, while positive, is not statistically significant, suggesting that the interaction effect of driving costs and car ownership on driving utility is indeterminate in this model.\n",
    "\n",
    "**Time Coefficient:**\n",
    "\n",
    "- $ \\beta_{\\text{time}} $ remains negative and significant, reinforcing that longer travel times reduce the utility of all modes.\n",
    "\n",
    "**Interpretation and Implications:**\n",
    "\n",
    "- The negative $ \\text{ASC}_{\\text{drive}} $ reflects a shift in baseline driving preference when considering car ownership, underscored by the significant positive interaction with car ownership.\n",
    "- The positive and significant $ \\beta_{\\text{drive\\_carown}} $ aligns with the intuitive expectation that car ownership increases the utility of driving.\n",
    "- The indistinct impact of $ \\beta_{\\text{cost\\_drive\\_carown}} $ suggests that car owners' sensitivity to driving costs may not differ notably from non-owners in this dataset.\n",
    "- The zero coefficients for $ \\beta_{\\text{cost\\_bike}} $ and $ \\beta_{\\text{cost\\_walk}} $ continue to indicate that cost is not a pivotal factor in the choice to walk or cycle.\n"
   ]
  },
  {
   "cell_type": "code",
   "execution_count": 19,
   "metadata": {},
   "outputs": [
    {
     "ename": "SyntaxError",
     "evalue": "invalid syntax (2749452522.py, line 1)",
     "output_type": "error",
     "traceback": [
      "\u001b[1;36m  Cell \u001b[1;32mIn[19], line 1\u001b[1;36m\u001b[0m\n\u001b[1;33m    Model 2 introduces interactions with the socio-economic characteristic variable $\\text{car\\_available}$, building upon the specifications from $\\text{Model\\_pref}$. The utility functions are defined as:\u001b[0m\n\u001b[1;37m          ^\u001b[0m\n\u001b[1;31mSyntaxError\u001b[0m\u001b[1;31m:\u001b[0m invalid syntax\n"
     ]
    }
   ],
   "source": [
    "Model 2 introduces interactions with the socio-economic characteristic variable $\\text{car\\_available}$, building upon the specifications from $\\text{Model\\_pref}$. The utility functions are defined as:\n",
    "\n",
    "- **Walking**:  \n",
    "  $$ U_{\\text{walk}} = \\text{ASC\\_WALK} \\cdot \\text{car\\_available} + \\text{ASC\\_WALK\\_NOCAR} \\cdot (1 - \\text{car\\_available}) + \\beta_{\\text{TIME\\_WALK}} \\cdot \\text{dur\\_walking} $$\n",
    "\n",
    "- **Cycling**:  \n",
    "  $$ U_{\\text{cycle}} = \\text{ASC\\_BIKE} \\cdot \\text{car\\_available} + \\text{ASC\\_BIKE\\_NOCAR} \\cdot (1 - \\text{car\\_available}) + \\beta_{\\text{TIME\\_BIKE}} \\cdot \\text{dur\\_cycling} $$\n",
    "\n",
    "- **Public Transport**: \n",
    "  $$ U_{\\text{pt}} = \\text{ASC\\_PT} \\cdot \\text{car\\_available} + \\text{ASC\\_PT\\_NOCAR} \\cdot (1 - \\text{car\\_available}) + \\beta_{\\text{COST}} \\cdot \\text{cost\\_transit} + \\beta_{\\text{TIME\\_PT}} \\cdot \\text{dur\\_pt\\_total} $$\n",
    "\n",
    "- **Driving**:  \n",
    "  $$ U_{\\text{drive}} = \\beta_{\\text{COST}} \\cdot \\text{cost\\_driving\\_total} + \\beta_{\\text{TIME\\_DRIVE}} \\cdot \\text{dur\\_driving} $$\n",
    "\n",
    "Where:\n",
    "- $\\text{ASC\\_WALK}, \\text{ASC\\_BIKE}, \\text{ASC\\_PT}$ are the alternative specific constants.\n",
    "- $\\text{ASC\\_WALK\\_NOCAR}, \\text{ASC\\_BIKE\\_NOCAR}, \\text{ASC\\_PT\\_NOCAR}$ are the constants for when $\\text{car\\_available}$ is 0.\n",
    "- $\\beta_{\\text{COST}}$ is the cost coefficient applicable to public transport and driving.\n",
    "- $\\beta_{\\text{TIME\\_WALK}}, \\beta_{\\text{TIME\\_BIKE}}, \\beta_{\\text{TIME\\_PT}}, \\beta_{\\text{TIME\\_DRIVE}}$ are the time coefficients for each mode.\n",
    "- $\\text{car\\_available}$ is a binary variable indicating car availability."
   ]
  },
  {
   "cell_type": "markdown",
   "metadata": {},
   "source": [
    "### Comparing Model 2 and $\\text{Model 1}$\n",
    "\n",
    "**Model Comparison ($\\text{Model}_\\text{pref}$ vs. $\\text{Model 2}$):**\n",
    "To compare $\\text{Model 2}$ with $\\text{Model}_\\text{pref}$, you can use a likelihood ratio test:\n",
    "\n",
    "- **Null Hypothesis:** $\\text{Model}_\\text{pref}$ is sufficient, and the additional interaction terms in $\\text{Model 2}$ do not significantly improve the model.\n",
    "- **Alternative Hypothesis:** $\\text{Model 2}$ provides a significantly better fit than $\\text{Model}_\\text{pref}$.\n",
    "\n",
    "Calculate the LR test statistic and compare it to a chi-squared distribution with degrees of freedom equal to the difference in the number of parameters between the two models. The decision on the preferred model should consider both statistical significance and the interpretability of the model."
   ]
  },
  {
   "cell_type": "code",
   "execution_count": 8,
   "metadata": {},
   "outputs": [
    {
     "name": "stdout",
     "output_type": "stream",
     "text": [
      "Log likelihood ratio test: 1230.4890522020705\n",
      "Critical value: 6.348882552082338e-268\n",
      "Number of estimated parameters:\t11\n",
      "Sample size:\t5000\n",
      "Excluded observations:\t0\n",
      "Init log likelihood:\t-6931.472\n",
      "Final log likelihood:\t-3713.937\n",
      "Likelihood ratio test for the init. model:\t6435.07\n",
      "Rho-square for the init. model:\t0.464\n",
      "Rho-square-bar for the init. model:\t0.463\n",
      "Akaike Information Criterion:\t7449.874\n",
      "Bayesian Information Criterion:\t7521.563\n",
      "Final gradient norm:\t7.1265E-04\n",
      "Nbr of threads:\t8\n",
      "\n"
     ]
    }
   ],
   "source": [
    "LR_test = 2 * (results_model_2.data.logLike - results_model_1.data.logLike)\n",
    "print(\"Log likelihood ratio test:\", LR_test)\n",
    "x_qhi = st.chi2.sf(LR_test, 2)\n",
    "print(\"Critical value:\", x_qhi)\n",
    "\n",
    "# Get general statistics for Model 2\n",
    "general_stats_model_2 = results_model_2.getGeneralStatistics()\n",
    "print(results_model_2.printGeneralStatistics())"
   ]
  },
  {
   "cell_type": "markdown",
   "metadata": {},
   "source": [
    "\n",
    "- Calculated LR test statistic:\n",
    "- **Interpretation**:\n",
    "  - The high value of the LR test statistic suggests that $\\text{Model 2}$ provides a significantly better fit to the data compared to $\\text{Model 1}$.\n",
    "- **Test Decision**:\n",
    "  - With a large LR statistic, the null hypothesis (that $\\text{Model 1}$ is sufficient) is likely rejected, indicating a preference for $\\text{Model 2}$.\n",
    "- **Conclusion**:\n",
    "  - $\\text{Model 2}$, with its additional parameters and interactions, is the preferred model over $\\text{Model 1}$, given its significantly better fit to the data.\n"
   ]
  },
  {
   "cell_type": "markdown",
   "metadata": {},
   "source": [
    "### Model 3\n",
    "\n",
    "Model 3 integrates a non-linear transformation (specifically, a boxcox transformation) for travel durations in its utility functions. The utility functions are now defined as:\n",
    "\n",
    "- **Walking**:  \n",
    "  $$ U_{\\text{walk}} = \\text{ASC\\_WALK} \\cdot \\text{car\\_available} + \\text{ASC\\_WALK\\_NOCAR} \\cdot (1 - \\text{car\\_available}) + \\beta_{\\text{TIME\\_WALK}} \\cdot \\text{dur\\_walking}(\\lambda) + \\epsilon_{walk} $$\n",
    "\n",
    "- **Cycling**:  \n",
    "  $$ U_{\\text{cycle}} = \\text{ASC\\_BIKE} \\cdot \\text{car\\_available} + \\text{ASC\\_BIKE\\_NOCAR} \\cdot (1 - \\text{car\\_available}) + \\beta_{\\text{TIME\\_BIKE}} \\cdot \\text{dur\\_cycling}(\\lambda) + \\epsilon_{cycle} $$\n",
    "\n",
    "- **Public Transport**: \n",
    "  $$ U_{\\text{pt}} = \\text{ASC\\_PT} \\cdot \\text{car\\_available} + \\text{ASC\\_PT\\_NOCAR} \\cdot (1 - \\text{car\\_available}) + \\beta_{\\text{COST}} \\cdot \\text{cost\\_transit} + \\beta_{\\text{TIME\\_PT}} \\cdot \\text{dur\\_pt\\_total}(\\lambda) + \\epsilon_{pt} $$\n",
    "\n",
    "- **Driving**:  \n",
    "  $$ U_{\\text{drive}} = \\beta_{\\text{COST}} \\cdot \\text{cost\\_driving\\_total} + \\beta_{\\text{TIME\\_DRIVE}} \\cdot \\text{dur\\_driving}(\\lambda) + \\epsilon_{driving} $$\n",
    "\n",
    "Where:\n",
    "- $dur_i(\\lambda)= \n",
    "    \\begin{cases}\n",
    "        \\frac{dur_i^{\\lambda}-1}{\\lambda},& \\text{if } \\lambda \\neq 0\\\\\n",
    "        \\ln dur_i,              & \\lambda = 0\n",
    "    \\end{cases}$ \n",
    "    with $i \\in \\{$walk, cycle, pt\\_total, drive$\\}$\n",
    "- $\\text{ASC\\_WALK}, \\text{ASC\\_BIKE}, \\text{ASC\\_PT}$ are the alternative specific constants.\n",
    "- $\\text{ASC\\_WALK\\_NOCAR}, \\text{ASC\\_BIKE\\_NOCAR}, \\text{ASC\\_PT\\_NOCAR}$ are constants for when $\\text{car\\_available}$ is 0.\n",
    "- $\\beta_{\\text{COST}}$ is the cost coefficient applicable to public transport and driving.\n",
    "- $\\beta_{\\text{TIME\\_WALK}}, \\beta_{\\text{TIME\\_BIKE}}, \\beta_{\\text{TIME\\_PT}}, \\beta_{\\text{TIME\\_DRIVE}}$ are the coefficients for the logarithmic transformation of the travel durations for each mode.\n",
    "- $\\text{car\\_available}$ is a binary variable indicating car availability.\n"
   ]
  },
  {
   "cell_type": "code",
   "execution_count": 9,
   "metadata": {
    "scrolled": false
   },
   "outputs": [
    {
     "name": "stderr",
     "output_type": "stream",
     "text": [
      "It is advised to set the bounds on parameter lambda_boxcox. A value of -10 and 10 should be appropriate: Beta(\"lambda_boxcox\", 1, -10, 10, 0)\n",
      "It is advised to set the bounds on parameter lambda_boxcox. A value of -10 and 10 should be appropriate: Beta(\"lambda_boxcox\", 1, -10, 10, 0)\n",
      "It is advised to set the bounds on parameter lambda_boxcox. A value of -10 and 10 should be appropriate: Beta(\"lambda_boxcox\", 1, -10, 10, 0)\n",
      "It is advised to set the bounds on parameter lambda_boxcox. A value of -10 and 10 should be appropriate: Beta(\"lambda_boxcox\", 1, -10, 10, 0)\n",
      "Obsolete syntax. Use generate_html instead of generateHtml\n",
      "Obsolete syntax. Use generate_pickle instead of generatePickle\n"
     ]
    },
    {
     "name": "stdout",
     "output_type": "stream",
     "text": [
      "                    Value  Rob. Std err  Rob. t-test  Rob. p-value\n",
      "ASC_BIKE        -3.554901      0.267075   -13.310471  0.000000e+00\n",
      "ASC_BIKE_NOCAR  -1.043633      0.308036    -3.388025  7.039794e-04\n",
      "ASC_PT           0.960025      0.138845     6.914347  4.700240e-12\n",
      "ASC_PT_NOCAR     4.149450      0.181947    22.805847  0.000000e+00\n",
      "ASC_WALK        -0.789252      0.243585    -3.240147  1.194680e-03\n",
      "ASC_WALK_NOCAR   1.851213      0.263292     7.031017  2.050360e-12\n",
      "BETA_COST       -0.165091      0.018022    -9.160703  0.000000e+00\n",
      "BETA_TIME_BIKE  -3.907777      0.360839   -10.829709  0.000000e+00\n",
      "BETA_TIME_DRIVE -3.380950      0.303389   -11.143960  0.000000e+00\n",
      "BETA_TIME_PT    -2.516708      0.205354   -12.255444  0.000000e+00\n",
      "BETA_TIME_WALK  -5.690655      0.304760   -18.672587  0.000000e+00\n",
      "lambda_boxcox    0.366260      0.056974     6.428515  1.288565e-10\n"
     ]
    }
   ],
   "source": [
    "\n",
    "# Define boxcox parameters\n",
    "lambda_boxcox = Beta('lambda_boxcox', 1, None, None, 0)\n",
    "boxcox_time_1 = models.boxcox(dur_walking, lambda_boxcox)\n",
    "boxcox_time_2 = models.boxcox(dur_cycling, lambda_boxcox)\n",
    "boxcox_time_3 = models.boxcox(dur_pt_total, lambda_boxcox)\n",
    "boxcox_time_4 = models.boxcox(dur_driving, lambda_boxcox)\n",
    "\n",
    "# Define utility function\n",
    "V1_boxcox = ASC_WALK * car_available + ASC_WALK_NOCAR * (1 - car_available) + BETA_TIME_WALK * boxcox_time_1\n",
    "V2_boxcox = ASC_BIKE * car_available + ASC_BIKE_NOCAR * (1 - car_available) + BETA_TIME_BIKE * boxcox_time_2\n",
    "V3_boxcox = ASC_PT * car_available + ASC_PT_NOCAR * (1 - car_available) + BETA_COST * cost_transit + BETA_TIME_PT * boxcox_time_3\n",
    "V4_boxcox = BETA_COST * cost_driving_total + BETA_TIME_DRIVE * boxcox_time_4\n",
    "\n",
    "V_boxcox = {1: V1_boxcox, 2: V2_boxcox, 3: V3_boxcox, 4: V4_boxcox}\n",
    "\n",
    "# Define the model\n",
    "logprob_3 = models.loglogit(V_boxcox, None, travel_mode)\n",
    "\n",
    "# Estimate the model\n",
    "biogeme_3 = bio.BIOGEME(database, logprob_3)\n",
    "biogeme_3.modelName = 'Model_3'\n",
    "biogeme_3.generateHtml = False  # Disable HTML file generation\n",
    "biogeme_3.generatePickle = False  # Disable PICKLE file generation\n",
    "biogeme_3.save_iterations = False  # Disable ITER file generation\n",
    "results_model_3 = biogeme_3.estimate()\n",
    "\n",
    "# Output\n",
    "print(results_model_3.getEstimatedParameters())\n",
    "\n"
   ]
  },
  {
   "cell_type": "code",
   "execution_count": 10,
   "metadata": {
    "scrolled": true
   },
   "outputs": [
    {
     "name": "stdout",
     "output_type": "stream",
     "text": [
      "Number of estimated parameters:\t12\n",
      "Sample size:\t5000\n",
      "Excluded observations:\t0\n",
      "Init log likelihood:\t-6931.472\n",
      "Final log likelihood:\t-3661.787\n",
      "Likelihood ratio test for the init. model:\t6539.369\n",
      "Rho-square for the init. model:\t0.472\n",
      "Rho-square-bar for the init. model:\t0.47\n",
      "Akaike Information Criterion:\t7347.575\n",
      "Bayesian Information Criterion:\t7425.781\n",
      "Final gradient norm:\t4.7343E-03\n",
      "Nbr of threads:\t8\n",
      "\n"
     ]
    }
   ],
   "source": [
    "# Get general statistics for Model 3\n",
    "general_stats_model_3 = results_model_3.printGeneralStatistics()\n",
    "print(general_stats_model_3)"
   ]
  },
  {
   "cell_type": "markdown",
   "metadata": {},
   "source": [
    "### Model 4\n",
    "\n",
    "#### Nesting"
   ]
  },
  {
   "cell_type": "code",
   "execution_count": 11,
   "metadata": {},
   "outputs": [
    {
     "name": "stderr",
     "output_type": "stream",
     "text": [
      "Obsolete syntax. Use generate_html instead of generateHtml\n",
      "Obsolete syntax. Use generate_pickle instead of generatePickle\n"
     ]
    },
    {
     "name": "stdout",
     "output_type": "stream",
     "text": [
      "                    Value  Active bound  Rob. Std err  Rob. t-test  \\\n",
      "ASC_BIKE        -2.756359           0.0      1.337969    -2.060106   \n",
      "ASC_BIKE_NOCAR  -0.212104           0.0      0.919235    -0.230739   \n",
      "ASC_PT          -1.115927           0.0      0.539788    -2.067344   \n",
      "ASC_PT_NOCAR     2.108622           0.0      1.058003     1.993021   \n",
      "ASC_WALK         1.531152           0.0      0.384378     3.983451   \n",
      "ASC_WALK_NOCAR   4.270413           0.0      1.237604     3.450547   \n",
      "BETA_COST       -0.172168           0.0      0.089838    -1.916418   \n",
      "BETA_TIME_BIKE  -6.823696           0.0      1.933551    -3.529100   \n",
      "BETA_TIME_DRIVE -5.912480           0.0      2.764665    -2.138589   \n",
      "BETA_TIME_PT    -3.215450           0.0      1.519538    -2.116071   \n",
      "BETA_TIME_WALK  -8.443604           0.0      1.859213    -4.541494   \n",
      "MOTOR            1.000000           1.0      0.495176     2.019485   \n",
      "PRIVATIZED       1.000000           1.0      0.503879     1.984604   \n",
      "\n",
      "                 Rob. p-value  \n",
      "ASC_BIKE             0.039388  \n",
      "ASC_BIKE_NOCAR       0.817517  \n",
      "ASC_PT               0.038702  \n",
      "ASC_PT_NOCAR         0.046259  \n",
      "ASC_WALK             0.000068  \n",
      "ASC_WALK_NOCAR       0.000559  \n",
      "BETA_COST            0.055312  \n",
      "BETA_TIME_BIKE       0.000417  \n",
      "BETA_TIME_DRIVE      0.032469  \n",
      "BETA_TIME_PT         0.034339  \n",
      "BETA_TIME_WALK       0.000006  \n",
      "MOTOR                0.043437  \n",
      "PRIVATIZED           0.047189  \n"
     ]
    }
   ],
   "source": [
    "\n",
    "# Define nest coefficients\n",
    "MOTOR = Beta('MOTOR', 1, 1, None, 0)  # Nest parameter for motorized transport\n",
    "PRIVATIZED = Beta('PRIVATIZED', 1, 1, None, 0)  # Nest parameter for non-motorized transport\n",
    "\n",
    "# Define nests\n",
    "nest_motorized = MOTOR, {1: 0,\n",
    "                         2: 0,\n",
    "                         3: 1,\n",
    "                         4: 1}\n",
    "nest_privatized = PRIVATIZED, {1: 1,\n",
    "                               2: 1,\n",
    "                               3: 0,\n",
    "                               4: 0}\n",
    "\n",
    "# Combine nests into a list\n",
    "nests = nest_motorized, nest_privatized\n",
    "\n",
    "# Define the cross-nested logit model\n",
    "nested_logit = models.logcnl(V, None, nests, travel_mode)\n",
    "\n",
    "# Estimate the model\n",
    "biogeme_4_nest = bio.BIOGEME(database, nested_logit)\n",
    "biogeme_4_nest.modelName = 'Model_4_crossnest'\n",
    "biogeme_4_nest.generateHtml = False  # Disable HTML file generation\n",
    "biogeme_4_nest.generatePickle = False  # Disable PICKLE file generation\n",
    "biogeme_4_nest.save_iterations = False  # Disable ITER file generation\n",
    "results_model_4 = biogeme_4_nest.estimate()\n",
    "\n",
    "# Print the estimation results\n",
    "print(results_model_4.getEstimatedParameters())"
   ]
  },
  {
   "cell_type": "code",
   "execution_count": 12,
   "metadata": {},
   "outputs": [
    {
     "name": "stdout",
     "output_type": "stream",
     "text": [
      "Number of estimated parameters:\t13\n",
      "Number of free parameters:\t11\n",
      "Sample size:\t5000\n",
      "Excluded observations:\t0\n",
      "Init log likelihood:\t-6931.472\n",
      "Final log likelihood:\t-3713.937\n",
      "Likelihood ratio test for the init. model:\t6435.07\n",
      "Rho-square for the init. model:\t0.464\n",
      "Rho-square-bar for the init. model:\t0.462\n",
      "Akaike Information Criterion:\t7453.874\n",
      "Bayesian Information Criterion:\t7538.598\n",
      "Final gradient norm:\t6.1511E+01\n",
      "Nbr of threads:\t8\n",
      "\n"
     ]
    }
   ],
   "source": [
    "general_stats_model_4 = results_model_4.getGeneralStatistics()\n",
    "print(results_model_4.printGeneralStatistics())"
   ]
  },
  {
   "cell_type": "code",
   "execution_count": 13,
   "metadata": {},
   "outputs": [
    {
     "name": "stdout",
     "output_type": "stream",
     "text": [
      "Log likelihood ratio test: -1.5599962353007868e-06\n",
      "Critical value: 0.7107230213973239\n"
     ]
    }
   ],
   "source": [
    "LR_test = 2 * (results_model_4.data.logLike - results_model_2.data.logLike)\n",
    "print(\"Log likelihood ratio test:\", LR_test)\n",
    "x_qhi = st.chi2.sf(LR_test, 4)\n",
    "x_qhi = st.chi2.ppf(0.05, 4)\n",
    "print(\"Critical value:\", x_qhi)\n"
   ]
  },
  {
   "cell_type": "markdown",
   "metadata": {},
   "source": [
    "#### Cross nesting (final model)"
   ]
  },
  {
   "cell_type": "code",
   "execution_count": 14,
   "metadata": {},
   "outputs": [
    {
     "name": "stderr",
     "output_type": "stream",
     "text": [
      "Obsolete syntax. Use generate_html instead of generateHtml\n",
      "Obsolete syntax. Use generate_pickle instead of generatePickle\n"
     ]
    },
    {
     "name": "stdout",
     "output_type": "stream",
     "text": [
      "                    Value  Active bound  Rob. Std err  Rob. t-test  \\\n",
      "ASC_BIKE        -2.818309           0.0      0.341293    -8.257751   \n",
      "ASC_BIKE_NOCAR  -0.795910           0.0      0.221952    -3.585954   \n",
      "ASC_PT          -0.772469           0.0      0.048963   -15.776632   \n",
      "ASC_PT_NOCAR     1.346258           0.0      0.186178     7.231026   \n",
      "ASC_WALK         1.421322           0.0      0.196798     7.222249   \n",
      "ASC_WALK_NOCAR   3.650459           0.0      0.342229    10.666717   \n",
      "BETA_COST       -0.109882           0.0      0.016000    -6.867532   \n",
      "BETA_TIME_BIKE  -4.878199           0.0      0.603889    -8.077975   \n",
      "BETA_TIME_DRIVE -3.406401           0.0      0.467079    -7.292991   \n",
      "BETA_TIME_PT    -1.746432           0.0      0.305824    -5.710577   \n",
      "BETA_TIME_WALK  -7.724917           0.0      0.709253   -10.891619   \n",
      "MOTOR            3.042011           0.0      0.783938     3.880422   \n",
      "PRIVATIZED       1.000000           1.0      0.110539     9.046599   \n",
      "\n",
      "                 Rob. p-value  \n",
      "ASC_BIKE         2.220446e-16  \n",
      "ASC_BIKE_NOCAR   3.358480e-04  \n",
      "ASC_PT           0.000000e+00  \n",
      "ASC_PT_NOCAR     4.793943e-13  \n",
      "ASC_WALK         5.113687e-13  \n",
      "ASC_WALK_NOCAR   0.000000e+00  \n",
      "BETA_COST        6.532108e-12  \n",
      "BETA_TIME_BIKE   6.661338e-16  \n",
      "BETA_TIME_DRIVE  3.030909e-13  \n",
      "BETA_TIME_PT     1.125937e-08  \n",
      "BETA_TIME_WALK   0.000000e+00  \n",
      "MOTOR            1.042753e-04  \n",
      "PRIVATIZED       0.000000e+00  \n"
     ]
    }
   ],
   "source": [
    "\n",
    "# Define nest coefficients\n",
    "MOTOR = Beta('MOTOR', 1, 1, None, 0)  # Nest parameter for motorized transport\n",
    "PRIVATIZED = Beta('PRIVATIZED', 1, 1, None, 0)  # Nest parameter for non-motorized transport\n",
    "\n",
    "# Define nests\n",
    "alpha = 0.5\n",
    "nest_motorized = MOTOR, {1: 0,\n",
    "                         2: 0,\n",
    "                         3: 1,\n",
    "                         4: 1 - alpha}\n",
    "nest_privatized = PRIVATIZED, {1: 1,\n",
    "                               2: 1,\n",
    "                               3: 0,\n",
    "                               4: alpha}\n",
    "\n",
    "# Combine nests into a list\n",
    "nests = nest_motorized, nest_privatized\n",
    "\n",
    "# Define the cross-nested logit model\n",
    "crossnested_logit = models.logcnl(V, None, nests, travel_mode)\n",
    "\n",
    "# Estimate the model\n",
    "biogeme_4_crossnest = bio.BIOGEME(database, crossnested_logit)\n",
    "biogeme_4_crossnest.modelName = 'Model_4_crossnest'\n",
    "biogeme_4_crossnest.generateHtml = False  # Disable HTML file generation\n",
    "biogeme_4_crossnest.generatePickle = False  # Disable PICKLE file generation\n",
    "biogeme_4_crossnest.save_iterations = False  # Disable ITER file generation\n",
    "results_model_4_cross = biogeme_4_crossnest.estimate()\n",
    "\n",
    "# Print the estimation results\n",
    "print(results_model_4_cross.getEstimatedParameters())"
   ]
  },
  {
   "cell_type": "code",
   "execution_count": 15,
   "metadata": {},
   "outputs": [
    {
     "name": "stdout",
     "output_type": "stream",
     "text": [
      "Number of estimated parameters:\t13\n",
      "Number of free parameters:\t12\n",
      "Sample size:\t5000\n",
      "Excluded observations:\t0\n",
      "Init log likelihood:\t-6931.472\n",
      "Final log likelihood:\t-3704.091\n",
      "Likelihood ratio test for the init. model:\t6454.762\n",
      "Rho-square for the init. model:\t0.466\n",
      "Rho-square-bar for the init. model:\t0.464\n",
      "Akaike Information Criterion:\t7434.181\n",
      "Bayesian Information Criterion:\t7518.905\n",
      "Final gradient norm:\t2.9799E+01\n",
      "Nbr of threads:\t8\n",
      "\n"
     ]
    }
   ],
   "source": [
    "general_stats_model_4_cross = results_model_4_cross.getGeneralStatistics()\n",
    "print(results_model_4_cross.printGeneralStatistics())"
   ]
  },
  {
   "cell_type": "code",
   "execution_count": 16,
   "metadata": {},
   "outputs": [
    {
     "name": "stdout",
     "output_type": "stream",
     "text": [
      "Log likelihood ratio test: 19.692802102445967\n",
      "p value: 0.0005741799399085548\n",
      "Critical value: 0.7107230213973239\n"
     ]
    }
   ],
   "source": [
    "LR_test = 2 * (results_model_4_cross.data.logLike - results_model_2.data.logLike)\n",
    "print(\"Log likelihood ratio test:\", LR_test)\n",
    "p_val = st.chi2.sf(LR_test, 4)\n",
    "print(\"p value:\", p_val)\n",
    "x_qhi = st.chi2.ppf(0.05, 4)\n",
    "print(\"Critical value:\", x_qhi)\n"
   ]
  },
  {
   "cell_type": "markdown",
   "metadata": {},
   "source": [
    "### Market share\n",
    "\n"
   ]
  },
  {
   "cell_type": "markdown",
   "metadata": {},
   "source": [
    "#### Computing simulated market share"
   ]
  },
  {
   "cell_type": "code",
   "execution_count": 93,
   "metadata": {},
   "outputs": [],
   "source": [
    "# size and weight of each strata\n",
    "strata = {\"females_44_less\": len(df[(df['age']<=44)&(df['female']==1)]),\n",
    "         \"females_45_more\": len(df[(df['age']>=45)&(df['female']==1)]),\n",
    "         \"males_44_less\": len(df[(df['age']<=44)&(df['female']==0)]),\n",
    "         \"males_45_more\": len(df[(df['age']>=45)&(df['female']==0)])}\n",
    "\n",
    "total = {\"females_44_less\": 2841376,\n",
    "         \"females_45_more\": 1519948,\n",
    "         \"males_44_less\": 2926408,\n",
    "         \"males_45_more\": 1379198}\n",
    "\n",
    "total_population = sum(total.values())\n",
    "total_sample = sum(strata.values())\n",
    "\n",
    "weights = {k: total[k] * total_sample / (v * total_population) for k, v in strata.items()}\n",
    "# k= type of people (female/man and age), v = number of the type k"
   ]
  },
  {
   "cell_type": "code",
   "execution_count": 94,
   "metadata": {
    "scrolled": true
   },
   "outputs": [
    {
     "data": {
      "text/plain": [
       "{'females_44_less': 1623,\n",
       " 'females_45_more': 965,\n",
       " 'males_44_less': 1517,\n",
       " 'males_45_more': 895}"
      ]
     },
     "execution_count": 94,
     "metadata": {},
     "output_type": "execute_result"
    }
   ],
   "source": [
    "strata"
   ]
  },
  {
   "cell_type": "code",
   "execution_count": 95,
   "metadata": {},
   "outputs": [
    {
     "data": {
      "text/plain": [
       "{'females_44_less': 1.0099849525473574,\n",
       " 'females_45_more': 0.9086698794546592,\n",
       " 'males_44_less': 1.1128945356168978,\n",
       " 'males_45_more': 0.889013383029116}"
      ]
     },
     "execution_count": 95,
     "metadata": {},
     "output_type": "execute_result"
    }
   ],
   "source": [
    "weights"
   ]
  },
  {
   "cell_type": "code",
   "execution_count": 96,
   "metadata": {},
   "outputs": [
    {
     "name": "stderr",
     "output_type": "stream",
     "text": [
      "C:\\Users\\Alexander\\AppData\\Local\\Temp\\ipykernel_15920\\1433649319.py:8: FutureWarning: Setting an item of incompatible dtype is deprecated and will raise in a future error of pandas. Value '1.0099849525473574' has dtype incompatible with int64, please explicitly cast to a compatible dtype first.\n",
      "  df.loc[v, 'weight'] = weights[k]\n"
     ]
    }
   ],
   "source": [
    "# insert weight as a new column\n",
    "mask_ = {\"females_44_less\": (df['age']<=40)&(df['female']==1),\n",
    "         \"females_45_more\": (df['age']>=41)&(df['female']==1),\n",
    "         \"males_44_less\": (df['age']<=40)&(df['female']==0),\n",
    "         \"males_45_more\": (df['age']>=41)&(df['female']==0)}\n",
    "df['weight'] = 0\n",
    "for k, v in mask_.items():\n",
    "    df.loc[v, 'weight'] = weights[k]"
   ]
  },
  {
   "cell_type": "code",
   "execution_count": 97,
   "metadata": {
    "scrolled": true
   },
   "outputs": [
    {
     "name": "stderr",
     "output_type": "stream",
     "text": [
      "The sum of the weights (4939.940013322009) is different from the sample size (5000). Multiply the weights by 1.0121580396757899 to reconcile the two.\n"
     ]
    },
    {
     "data": {
      "text/html": [
       "<div>\n",
       "<style scoped>\n",
       "    .dataframe tbody tr th:only-of-type {\n",
       "        vertical-align: middle;\n",
       "    }\n",
       "\n",
       "    .dataframe tbody tr th {\n",
       "        vertical-align: top;\n",
       "    }\n",
       "\n",
       "    .dataframe thead th {\n",
       "        text-align: right;\n",
       "    }\n",
       "</style>\n",
       "<table border=\"1\" class=\"dataframe\">\n",
       "  <thead>\n",
       "    <tr style=\"text-align: right;\">\n",
       "      <th></th>\n",
       "      <th>weight</th>\n",
       "      <th>prob.walk</th>\n",
       "      <th>prob.cycling</th>\n",
       "      <th>prob.pt</th>\n",
       "      <th>prob.driving</th>\n",
       "    </tr>\n",
       "  </thead>\n",
       "  <tbody>\n",
       "    <tr>\n",
       "      <th>0</th>\n",
       "      <td>0.908670</td>\n",
       "      <td>9.944214e-03</td>\n",
       "      <td>0.027591</td>\n",
       "      <td>0.213024</td>\n",
       "      <td>0.749441</td>\n",
       "    </tr>\n",
       "    <tr>\n",
       "      <th>1</th>\n",
       "      <td>0.908670</td>\n",
       "      <td>5.801423e-01</td>\n",
       "      <td>0.021149</td>\n",
       "      <td>0.071568</td>\n",
       "      <td>0.327141</td>\n",
       "    </tr>\n",
       "    <tr>\n",
       "      <th>2</th>\n",
       "      <td>0.889013</td>\n",
       "      <td>1.083794e-05</td>\n",
       "      <td>0.013711</td>\n",
       "      <td>0.246321</td>\n",
       "      <td>0.739956</td>\n",
       "    </tr>\n",
       "    <tr>\n",
       "      <th>3</th>\n",
       "      <td>0.889013</td>\n",
       "      <td>1.248762e-08</td>\n",
       "      <td>0.008533</td>\n",
       "      <td>0.960095</td>\n",
       "      <td>0.031372</td>\n",
       "    </tr>\n",
       "    <tr>\n",
       "      <th>4</th>\n",
       "      <td>0.889013</td>\n",
       "      <td>4.333659e-06</td>\n",
       "      <td>0.011949</td>\n",
       "      <td>0.347323</td>\n",
       "      <td>0.640724</td>\n",
       "    </tr>\n",
       "    <tr>\n",
       "      <th>...</th>\n",
       "      <td>...</td>\n",
       "      <td>...</td>\n",
       "      <td>...</td>\n",
       "      <td>...</td>\n",
       "      <td>...</td>\n",
       "    </tr>\n",
       "    <tr>\n",
       "      <th>4995</th>\n",
       "      <td>0.889013</td>\n",
       "      <td>7.867356e-04</td>\n",
       "      <td>0.018227</td>\n",
       "      <td>0.296338</td>\n",
       "      <td>0.684648</td>\n",
       "    </tr>\n",
       "    <tr>\n",
       "      <th>4996</th>\n",
       "      <td>1.112895</td>\n",
       "      <td>5.085620e-07</td>\n",
       "      <td>0.012142</td>\n",
       "      <td>0.740644</td>\n",
       "      <td>0.247214</td>\n",
       "    </tr>\n",
       "    <tr>\n",
       "      <th>4997</th>\n",
       "      <td>1.112895</td>\n",
       "      <td>9.108640e-02</td>\n",
       "      <td>0.040436</td>\n",
       "      <td>0.106293</td>\n",
       "      <td>0.762185</td>\n",
       "    </tr>\n",
       "    <tr>\n",
       "      <th>4998</th>\n",
       "      <td>1.112895</td>\n",
       "      <td>3.857252e-03</td>\n",
       "      <td>0.039468</td>\n",
       "      <td>0.180142</td>\n",
       "      <td>0.776533</td>\n",
       "    </tr>\n",
       "    <tr>\n",
       "      <th>4999</th>\n",
       "      <td>1.009985</td>\n",
       "      <td>6.143208e-07</td>\n",
       "      <td>0.012816</td>\n",
       "      <td>0.941896</td>\n",
       "      <td>0.045287</td>\n",
       "    </tr>\n",
       "  </tbody>\n",
       "</table>\n",
       "<p>5000 rows × 5 columns</p>\n",
       "</div>"
      ],
      "text/plain": [
       "        weight     prob.walk  prob.cycling   prob.pt  prob.driving\n",
       "0     0.908670  9.944214e-03      0.027591  0.213024      0.749441\n",
       "1     0.908670  5.801423e-01      0.021149  0.071568      0.327141\n",
       "2     0.889013  1.083794e-05      0.013711  0.246321      0.739956\n",
       "3     0.889013  1.248762e-08      0.008533  0.960095      0.031372\n",
       "4     0.889013  4.333659e-06      0.011949  0.347323      0.640724\n",
       "...        ...           ...           ...       ...           ...\n",
       "4995  0.889013  7.867356e-04      0.018227  0.296338      0.684648\n",
       "4996  1.112895  5.085620e-07      0.012142  0.740644      0.247214\n",
       "4997  1.112895  9.108640e-02      0.040436  0.106293      0.762185\n",
       "4998  1.112895  3.857252e-03      0.039468  0.180142      0.776533\n",
       "4999  1.009985  6.143208e-07      0.012816  0.941896      0.045287\n",
       "\n",
       "[5000 rows x 5 columns]"
      ]
     },
     "execution_count": 97,
     "metadata": {},
     "output_type": "execute_result"
    }
   ],
   "source": [
    "# market share simulated\n",
    "database = db.Database('LPMC', df)\n",
    "\n",
    "weight = Variable('weight')\n",
    "prob_walk = models.cnl(V, None, nests, 1)\n",
    "prob_cycling = models.cnl(V, None, nests, 2)\n",
    "prob_pt = models.cnl(V, None, nests, 3)\n",
    "prob_driving = models.cnl(V, None, nests, 4)\n",
    "simulate = {\n",
    "    'weight': weight,\n",
    "    'prob.walk': prob_walk,\n",
    "    'prob.cycling': prob_cycling,\n",
    "    'prob.pt': prob_pt,\n",
    "    'prob.driving': prob_driving\n",
    "}\n",
    "\n",
    "biosim = bio.BIOGEME(database, simulate)\n",
    "simulated_values = biosim.simulate(results_model_4_cross.getBetaValues())\n",
    "simulated_values"
   ]
  },
  {
   "cell_type": "code",
   "execution_count": 98,
   "metadata": {},
   "outputs": [],
   "source": [
    "simulated_values['weighted walk'] = simulated_values['weight'] * simulated_values['prob.walk']\n",
    "simulated_values['weighted cycling'] = simulated_values['weight'] * simulated_values['prob.cycling']\n",
    "simulated_values['weighted pt'] = simulated_values['weight'] * simulated_values['prob.pt']\n",
    "simulated_values['weighted driving'] = simulated_values['weight'] * simulated_values['prob.driving']"
   ]
  },
  {
   "cell_type": "code",
   "execution_count": 99,
   "metadata": {},
   "outputs": [
    {
     "name": "stdout",
     "output_type": "stream",
     "text": [
      "Market share of walk (simulated): 17.7%\n",
      "Market share of cycling(simulated): 2.9%\n",
      "Market share of pt(simulated): 35.2%\n",
      "Market share of driving(simulated): 43.0%\n"
     ]
    }
   ],
   "source": [
    "market_share_walk = simulated_values['weighted walk'].mean()\n",
    "market_share_cycling = simulated_values['weighted cycling'].mean()\n",
    "market_share_pt = simulated_values['weighted pt'].mean()\n",
    "market_share_driving = simulated_values['weighted driving'].mean()\n",
    "\n",
    "print(f\"Market share of walk (simulated): {100*market_share_walk:.1f}%\")\n",
    "print(f\"Market share of cycling(simulated): {100*market_share_cycling:.1f}%\")\n",
    "print(f\"Market share of pt(simulated): {100*market_share_pt:.1f}%\")\n",
    "print(f\"Market share of driving(simulated): {100*market_share_driving:.1f}%\")"
   ]
  },
  {
   "cell_type": "code",
   "execution_count": 100,
   "metadata": {},
   "outputs": [
    {
     "name": "stdout",
     "output_type": "stream",
     "text": [
      "Help on dict object:\n",
      "\n",
      "class dict(object)\n",
      " |  dict() -> new empty dictionary\n",
      " |  dict(mapping) -> new dictionary initialized from a mapping object's\n",
      " |      (key, value) pairs\n",
      " |  dict(iterable) -> new dictionary initialized as if via:\n",
      " |      d = {}\n",
      " |      for k, v in iterable:\n",
      " |          d[k] = v\n",
      " |  dict(**kwargs) -> new dictionary initialized with the name=value pairs\n",
      " |      in the keyword argument list.  For example:  dict(one=1, two=2)\n",
      " |  \n",
      " |  Built-in subclasses:\n",
      " |      StgDict\n",
      " |  \n",
      " |  Methods defined here:\n",
      " |  \n",
      " |  __contains__(self, key, /)\n",
      " |      True if the dictionary has the specified key, else False.\n",
      " |  \n",
      " |  __delitem__(self, key, /)\n",
      " |      Delete self[key].\n",
      " |  \n",
      " |  __eq__(self, value, /)\n",
      " |      Return self==value.\n",
      " |  \n",
      " |  __ge__(self, value, /)\n",
      " |      Return self>=value.\n",
      " |  \n",
      " |  __getattribute__(self, name, /)\n",
      " |      Return getattr(self, name).\n",
      " |  \n",
      " |  __getitem__(...)\n",
      " |      x.__getitem__(y) <==> x[y]\n",
      " |  \n",
      " |  __gt__(self, value, /)\n",
      " |      Return self>value.\n",
      " |  \n",
      " |  __init__(self, /, *args, **kwargs)\n",
      " |      Initialize self.  See help(type(self)) for accurate signature.\n",
      " |  \n",
      " |  __ior__(self, value, /)\n",
      " |      Return self|=value.\n",
      " |  \n",
      " |  __iter__(self, /)\n",
      " |      Implement iter(self).\n",
      " |  \n",
      " |  __le__(self, value, /)\n",
      " |      Return self<=value.\n",
      " |  \n",
      " |  __len__(self, /)\n",
      " |      Return len(self).\n",
      " |  \n",
      " |  __lt__(self, value, /)\n",
      " |      Return self<value.\n",
      " |  \n",
      " |  __ne__(self, value, /)\n",
      " |      Return self!=value.\n",
      " |  \n",
      " |  __or__(self, value, /)\n",
      " |      Return self|value.\n",
      " |  \n",
      " |  __repr__(self, /)\n",
      " |      Return repr(self).\n",
      " |  \n",
      " |  __reversed__(self, /)\n",
      " |      Return a reverse iterator over the dict keys.\n",
      " |  \n",
      " |  __ror__(self, value, /)\n",
      " |      Return value|self.\n",
      " |  \n",
      " |  __setitem__(self, key, value, /)\n",
      " |      Set self[key] to value.\n",
      " |  \n",
      " |  __sizeof__(...)\n",
      " |      D.__sizeof__() -> size of D in memory, in bytes\n",
      " |  \n",
      " |  clear(...)\n",
      " |      D.clear() -> None.  Remove all items from D.\n",
      " |  \n",
      " |  copy(...)\n",
      " |      D.copy() -> a shallow copy of D\n",
      " |  \n",
      " |  get(self, key, default=None, /)\n",
      " |      Return the value for key if key is in the dictionary, else default.\n",
      " |  \n",
      " |  items(...)\n",
      " |      D.items() -> a set-like object providing a view on D's items\n",
      " |  \n",
      " |  keys(...)\n",
      " |      D.keys() -> a set-like object providing a view on D's keys\n",
      " |  \n",
      " |  pop(...)\n",
      " |      D.pop(k[,d]) -> v, remove specified key and return the corresponding value.\n",
      " |      \n",
      " |      If key is not found, default is returned if given, otherwise KeyError is raised\n",
      " |  \n",
      " |  popitem(self, /)\n",
      " |      Remove and return a (key, value) pair as a 2-tuple.\n",
      " |      \n",
      " |      Pairs are returned in LIFO (last-in, first-out) order.\n",
      " |      Raises KeyError if the dict is empty.\n",
      " |  \n",
      " |  setdefault(self, key, default=None, /)\n",
      " |      Insert key with a value of default if key is not in the dictionary.\n",
      " |      \n",
      " |      Return the value for key if key is in the dictionary, else default.\n",
      " |  \n",
      " |  update(...)\n",
      " |      D.update([E, ]**F) -> None.  Update D from dict/iterable E and F.\n",
      " |      If E is present and has a .keys() method, then does:  for k in E: D[k] = E[k]\n",
      " |      If E is present and lacks a .keys() method, then does:  for k, v in E: D[k] = v\n",
      " |      In either case, this is followed by: for k in F:  D[k] = F[k]\n",
      " |  \n",
      " |  values(...)\n",
      " |      D.values() -> an object providing a view on D's values\n",
      " |  \n",
      " |  ----------------------------------------------------------------------\n",
      " |  Class methods defined here:\n",
      " |  \n",
      " |  __class_getitem__(...) from builtins.type\n",
      " |      See PEP 585\n",
      " |  \n",
      " |  fromkeys(iterable, value=None, /) from builtins.type\n",
      " |      Create a new dictionary with keys from iterable and values set to value.\n",
      " |  \n",
      " |  ----------------------------------------------------------------------\n",
      " |  Static methods defined here:\n",
      " |  \n",
      " |  __new__(*args, **kwargs) from builtins.type\n",
      " |      Create and return a new object.  See help(type) for accurate signature.\n",
      " |  \n",
      " |  ----------------------------------------------------------------------\n",
      " |  Data and other attributes defined here:\n",
      " |  \n",
      " |  __hash__ = None\n",
      "\n"
     ]
    }
   ],
   "source": [
    "help(simulate)"
   ]
  },
  {
   "cell_type": "markdown",
   "metadata": {},
   "source": [
    "#### Computing actual market share"
   ]
  },
  {
   "cell_type": "code",
   "execution_count": 101,
   "metadata": {},
   "outputs": [],
   "source": [
    "#actual market share:\n",
    "\n",
    "# weighted market shares using actual choices\n",
    "mask_choice = {\"females_44_less\":{'walk': len(df[(df['age']<=44)&(df['female']==1)&(df['travel_mode']==1)]),\n",
    "                                  'cycling':len(df[(df['age']<=44)&(df['female']==1)&(df['travel_mode']==2)]),\n",
    "                                  'pt':len(df[(df['age']<=44)&(df['female']==1)&(df['travel_mode']==3)]),\n",
    "                                  'driving':len(df[(df['age']<=44)&(df['female']==1)&(df['travel_mode']==4)])},\n",
    "              \"females_45_more\": {'walk': len(df[(df['age']>=45)&(df['female']==1)&(df['travel_mode']==1)]),\n",
    "                                  'cycling':len(df[(df['age']>=45)&(df['female']==1)&(df['travel_mode']==2)]),\n",
    "                                  'pt':len(df[(df['age']>=45)&(df['female']==1)&(df['travel_mode']==3)]),\n",
    "                                  'driving':len(df[(df['age']>=45)&(df['female']==1)&(df['travel_mode']==4)])},\n",
    "              \"males_44_less\": {'walk': len(df[(df['age']<=44)&(df['female']==0)&(df['travel_mode']==1)]),\n",
    "                                  'cycling':len(df[(df['age']<=44)&(df['female']==0)&(df['travel_mode']==2)]),\n",
    "                                  'pt':len(df[(df['age']<=44)&(df['female']==0)&(df['travel_mode']==3)]),\n",
    "                                  'driving':len(df[(df['age']<=44)&(df['female']==0)&(df['travel_mode']==4)])},\n",
    "              \"males_45_more\": {'walk': len(df[(df['age']>=45)&(df['female']==0)&(df['travel_mode']==1)]),\n",
    "                                  'cycling':len(df[(df['age']>=45)&(df['female']==0)&(df['travel_mode']==2)]),\n",
    "                                  'pt':len(df[(df['age']>=45)&(df['female']==0)&(df['travel_mode']==3)]),\n",
    "                                  'driving':len(df[(df['age']>=45)&(df['female']==0)&(df['travel_mode']==4)])}}\n",
    "\n",
    "market_share_walk_weighted = sum([weights[k] * v['walk'] for k, v in mask_choice.items()])/total_sample\n",
    "market_share_cycling_weighted = sum([weights[k] * v['cycling'] for k, v in mask_choice.items()])/total_sample\n",
    "market_share_pt_weighted = sum([weights[k] * v['pt'] for k, v in mask_choice.items()])/total_sample\n",
    "market_share_driving_weighted = sum([weights[k] * v['driving'] for k, v in mask_choice.items()])/total_sample"
   ]
  },
  {
   "cell_type": "code",
   "execution_count": 102,
   "metadata": {},
   "outputs": [
    {
     "name": "stdout",
     "output_type": "stream",
     "text": [
      "Weighted market share of walk: 18.1%\n",
      "Weighted market share of cycling: 3.0%\n",
      "Weighted market share of pt: 35.5%\n",
      "Weighted market share of driving: 43.4%\n"
     ]
    }
   ],
   "source": [
    "print(f\"Weighted market share of walk: {100*market_share_walk_weighted:.1f}%\")\n",
    "print(f\"Weighted market share of cycling: {100*market_share_cycling_weighted:.1f}%\")\n",
    "print(f\"Weighted market share of pt: {100*market_share_pt_weighted:.1f}%\")\n",
    "print(f\"Weighted market share of driving: {100*market_share_driving_weighted:.1f}%\")"
   ]
  },
  {
   "cell_type": "markdown",
   "metadata": {},
   "source": [
    "#### Confidence interval"
   ]
  },
  {
   "cell_type": "markdown",
   "metadata": {},
   "source": [
    "**Microsimulation Process:**\n",
    "\n",
    "1. **Model Estimation:**\n",
    "   - A choice model (like a multinomial logit model) is estimated using observed data.\n",
    "   - The model estimates the probability $ P_n(i \\mid x_n; \\hat{\\theta}) $ that individual $ n $ chooses alternative $ i $ based on their attributes $ x_n $ and the estimated parameters $ \\hat{\\theta} $.\n",
    "\n",
    "2. **Simulation of Choices:**\n",
    "   - For each individual in the sample, the choice model is used to simulate choices.\n",
    "   - This typically involves drawing a random number and comparing it to the cumulative probability distribution of the choices to determine which alternative is selected.\n",
    "   - Each simulation is repeated $ R $ times to capture the variability of choices due to the randomness in the model.\n",
    "\n",
    "3. **Aggregation:**\n",
    "   - The number of times each alternative is chosen across all simulations is counted to calculate the simulated number of individuals $ \\hat{N}(i) $ choosing each alternative.\n",
    "   - Aggregate market shares are then estimated by averaging over all simulations.\n",
    "\n",
    "**Calculation of Aggregate Market Shares:**\n",
    "\n",
    "1. **Number of Individuals Choosing Alternative $ i $:**\n",
    "   - This is calculated as the average number of times alternative $ i $ is chosen across all $ R $ simulations for each individual.\n",
    "   $$ \\hat{N}(i) = \\frac{1}{R} \\sum_{n=1}^{N} \\sum_{r=1}^{R} \\hat{y}_{inr} $$\n",
    "\n",
    "2. **Share of the Population Choosing Alternative $ i $:**\n",
    "   - This is the proportion of the population that is estimated to choose alternative $ i $, averaged over all simulations.\n",
    "   $$ \\hat{W}(i) = \\frac{1}{NR} \\sum_{n=1}^{N} \\sum_{r=1}^{R} \\hat{y}_{inr} $$\n",
    "\n",
    "**Calculation of Confidence Intervals:**\n",
    "\n",
    "To calculate confidence intervals for the simulated market shares:\n",
    "\n",
    "1. **Bootstrap Method:**\n",
    "   - The bootstrap method involves resampling the simulated choice data with replacement and recalculating $ \\hat{N}(i) $ and $ \\hat{W}(i) $ for each resample.\n",
    "   - This process is repeated many times (e.g., 1000 or more) to create an empirical distribution of the market shares.\n",
    "\n",
    "2. **Confidence Interval Estimation:**\n",
    "   - Confidence intervals are then derived from the empirical distribution of the bootstrapped market shares.\n",
    "   - For example, the 95% confidence interval can be estimated using the 2.5th and 97.5th percentiles of the bootstrapped market shares.\n"
   ]
  },
  {
   "cell_type": "code",
   "execution_count": 103,
   "metadata": {},
   "outputs": [
    {
     "name": "stdout",
     "output_type": "stream",
     "text": [
      "Walk market share 95% confidence interval: 17.1% - 18.4%\n",
      "Cycling market share 95% confidence interval: 2.8% - 2.9%\n",
      "Pt market share 95% confidence interval: 34.4% - 36.1%\n",
      "Driving market share 95% confidence interval: 42.2% - 43.7%\n"
     ]
    }
   ],
   "source": [
    "\n",
    "# Number of bootstrap samples\n",
    "n_bootstraps = 1000\n",
    "confidence_level = 0.95\n",
    "\n",
    "# Initialize an array to store the bootstrap market share estimates\n",
    "bootstrap_market_shares = {\n",
    "    'walk': [],\n",
    "    'cycling': [],\n",
    "    'pt': [],\n",
    "    'driving': []\n",
    "}\n",
    "\n",
    "# Perform bootstrapping\n",
    "for i in range(n_bootstraps):\n",
    "    # Sample with replacement from the simulated_values\n",
    "    sample = simulated_values.sample(n=len(simulated_values), replace=True)\n",
    "    \n",
    "    # Calculate weighted market shares for the bootstrap sample\n",
    "    for mode in ['walk', 'cycling', 'pt', 'driving']:\n",
    "        market_share = (sample['weight'] * sample[f'prob.{mode}']).mean()\n",
    "        bootstrap_market_shares[mode].append(market_share)\n",
    "\n",
    "# Calculate the confidence intervals\n",
    "lower_bound = (1 - confidence_level) / 2\n",
    "upper_bound = 1 - lower_bound\n",
    "\n",
    "market_share_confidence_intervals = {}\n",
    "for mode in ['walk', 'cycling', 'pt', 'driving']:\n",
    "    lower = np.percentile(bootstrap_market_shares[mode], lower_bound * 100)\n",
    "    upper = np.percentile(bootstrap_market_shares[mode], upper_bound * 100)\n",
    "    market_share_confidence_intervals[mode] = (lower, upper)\n",
    "\n",
    "# Print the confidence intervals\n",
    "for mode, interval in market_share_confidence_intervals.items():\n",
    "    print(f\"{mode.capitalize()} market share 95% confidence interval: {100*interval[0]:.1f}% - {100*interval[1]:.1f}%\")\n"
   ]
  },
  {
   "cell_type": "markdown",
   "metadata": {},
   "source": [
    "### Forecasting"
   ]
  },
  {
   "cell_type": "markdown",
   "metadata": {},
   "source": [
    "We consider two scenarios:\n",
    "1. An increase of 1.50 GBP for car users\n",
    "2. A decrease of the public transport charge of 20%\n"
   ]
  },
  {
   "cell_type": "markdown",
   "metadata": {},
   "source": [
    "#### Predicted market share in both cases:"
   ]
  },
  {
   "cell_type": "code",
   "execution_count": 104,
   "metadata": {},
   "outputs": [
    {
     "name": "stderr",
     "output_type": "stream",
     "text": [
      "The sum of the weights (4939.940013322009) is different from the sample size (5000). Multiply the weights by 1.0121580396757899 to reconcile the two.\n"
     ]
    },
    {
     "name": "stdout",
     "output_type": "stream",
     "text": [
      "Scenario 1: increase car cost by 1.5 pounds\n",
      "Market share of walk: 18.46%\n",
      "Market share of cycling: 3.08%\n",
      "Market share of pt: 38.81%\n",
      "Market share of driving: 38.45%\n"
     ]
    }
   ],
   "source": [
    "#predicted market share in case of increase of car costs:\n",
    "\n",
    "V4_s1 = (BETA_COST * (cost_driving_total + 1.5) + BETA_TIME_DRIVE * dur_driving)\n",
    "V_s1 = {1: V1, 2: V2, 3: V3, 4: V4_s1}\n",
    "prob_walk = models.cnl(V_s1, None, nests, 1)\n",
    "prob_cycling = models.cnl(V_s1, None, nests, 2)\n",
    "prob_pt = models.cnl(V_s1, None, nests, 3)\n",
    "prob_driving_scenario1 = models.cnl(V_s1, None, nests, 4)\n",
    "simulate = {\n",
    "    'weight': weight,\n",
    "    'prob.walk': prob_walk,\n",
    "    'prob.cycling': prob_cycling,\n",
    "    'prob.pt': prob_pt,\n",
    "    'prob.driving': prob_driving_scenario1\n",
    "}\n",
    "\n",
    "biosim_s1 = bio.BIOGEME(database, simulate) #using database defined in market share\n",
    "simulated_values_s1 = biosim_s1.simulate(results_model_4_cross.getBetaValues())\n",
    "\n",
    "simulated_values_s1['weighted walk'] = simulated_values_s1['weight'] * simulated_values_s1['prob.walk']\n",
    "simulated_values_s1['weighted cycling'] = simulated_values_s1['weight'] * simulated_values_s1['prob.cycling']\n",
    "simulated_values_s1['weighted pt'] = simulated_values_s1['weight'] * simulated_values_s1['prob.pt']\n",
    "simulated_values_s1['weighted driving'] = simulated_values_s1['weight'] * simulated_values_s1['prob.driving']\n",
    "\n",
    "market_share_walk_s1 = simulated_values_s1['weighted walk'].mean()\n",
    "market_share_cycling_s1 = simulated_values_s1['weighted cycling'].mean()\n",
    "market_share_pt_s1 = simulated_values_s1['weighted pt'].mean()\n",
    "market_share_driving_s1 = simulated_values_s1['weighted driving'].mean()\n",
    "\n",
    "print('Scenario 1: increase car cost by 1.5 pounds')\n",
    "print(f\"Market share of walk: {100*market_share_walk_s1:.2f}%\")\n",
    "print(f\"Market share of cycling: {100*market_share_cycling_s1:.2f}%\")\n",
    "print(f\"Market share of pt: {100*market_share_pt_s1:.2f}%\")\n",
    "print(f\"Market share of driving: {100*market_share_driving_s1:.2f}%\")"
   ]
  },
  {
   "cell_type": "code",
   "execution_count": 105,
   "metadata": {},
   "outputs": [
    {
     "name": "stderr",
     "output_type": "stream",
     "text": [
      "The sum of the weights (4939.940013322009) is different from the sample size (5000). Multiply the weights by 1.0121580396757899 to reconcile the two.\n"
     ]
    },
    {
     "name": "stdout",
     "output_type": "stream",
     "text": [
      "Scenario 2: decrease public transport costs by 20%\n",
      "Market share of walk: 17.34%\n",
      "Market share of cycling: 2.73%\n",
      "Market share of pt: 39.03%\n",
      "Market share of driving: 39.69%\n"
     ]
    }
   ],
   "source": [
    "#predicted market share in case of decrease in public transport\n",
    "\n",
    "V3_s2 = ASC_PT * car_available + ASC_PT_NOCAR * (1 - car_available) + BETA_COST * cost_transit*0.08 + BETA_TIME_PT * dur_pt_total\n",
    "V_s2 = {1: V1, 2: V2, 3: V3_s2, 4: V4}\n",
    "prob_walk = models.cnl(V_s2, None, nests, 1)\n",
    "prob_cycling = models.cnl(V_s2, None, nests, 2)\n",
    "prob_pt = models.cnl(V_s2, None, nests, 3)\n",
    "prob_driving_scenario1 = models.cnl(V_s2, None, nests, 4)\n",
    "simulate = {\n",
    "    'weight': weight,\n",
    "    'prob.walk': prob_walk,\n",
    "    'prob.cycling': prob_cycling,\n",
    "    'prob.pt': prob_pt,\n",
    "    'prob.driving': prob_driving_scenario1\n",
    "}\n",
    "\n",
    "biosim_s2 = bio.BIOGEME(database, simulate) #using database defined in market share\n",
    "simulated_values_s2 = biosim_s2.simulate(results_model_4_cross.getBetaValues())\n",
    "\n",
    "simulated_values_s2['weighted walk'] = simulated_values_s2['weight'] * simulated_values_s2['prob.walk']\n",
    "simulated_values_s2['weighted cycling'] = simulated_values_s2['weight'] * simulated_values_s2['prob.cycling']\n",
    "simulated_values_s2['weighted pt'] = simulated_values_s2['weight'] * simulated_values_s2['prob.pt']\n",
    "simulated_values_s2['weighted driving'] = simulated_values_s2['weight'] * simulated_values_s2['prob.driving']\n",
    "\n",
    "market_share_walk_s2 = simulated_values_s2['weighted walk'].mean()\n",
    "market_share_cycling_s2 = simulated_values_s2['weighted cycling'].mean()\n",
    "market_share_pt_s2 = simulated_values_s2['weighted pt'].mean()\n",
    "market_share_driving_s2 = simulated_values_s2['weighted driving'].mean()\n",
    "\n",
    "print('Scenario 2: decrease public transport costs by 20%')\n",
    "print(f\"Market share of walk: {100*market_share_walk_s2:.2f}%\")\n",
    "print(f\"Market share of cycling: {100*market_share_cycling_s2:.2f}%\")\n",
    "print(f\"Market share of pt: {100*market_share_pt_s2:.2f}%\")\n",
    "print(f\"Market share of driving: {100*market_share_driving_s2:.2f}%\")"
   ]
  },
  {
   "cell_type": "markdown",
   "metadata": {},
   "source": [
    "When wanting to decrease the share of car, we should consider the first scenario, as the simulated market share of driving is **39.13%**. In the second scenario, the car market share is **39.35%**, thus higher."
   ]
  },
  {
   "cell_type": "markdown",
   "metadata": {},
   "source": [
    "### Highest pt revenue \n",
    "\n",
    "We want to check in which scenario the public transportation revenue is the highest. To do so, we need to compute the revenue in all 3 cases (no changes, increase in car costs, decrease in pt costs)."
   ]
  },
  {
   "cell_type": "code",
   "execution_count": 106,
   "metadata": {},
   "outputs": [],
   "source": [
    "database = db.Database('LPMC', df)\n",
    "weight = Variable('weight')"
   ]
  },
  {
   "cell_type": "code",
   "execution_count": 107,
   "metadata": {},
   "outputs": [
    {
     "name": "stderr",
     "output_type": "stream",
     "text": [
      "The sum of the weights (4939.940013322009) is different from the sample size (5000). Multiply the weights by 1.0121580396757899 to reconcile the two.\n"
     ]
    },
    {
     "name": "stdout",
     "output_type": "stream",
     "text": [
      "Public transport revenues (no changes in policy): 3439.7365663069395\n"
     ]
    }
   ],
   "source": [
    "#no change in policy\n",
    "\n",
    "prob_walk = models.cnl(V, None, nests, 1)\n",
    "prob_cycling = models.cnl(V, None, nests, 2)\n",
    "prob_pt = models.cnl(V, None, nests, 3)\n",
    "prob_driving_scenario1 = models.cnl(V, None, nests, 4)\n",
    "\n",
    "simulate = {\n",
    "    'weight': weight,\n",
    "    'revenues PT': prob_pt * cost_transit\n",
    "\n",
    "}\n",
    "\n",
    "biosim = bio.BIOGEME(database, simulate)\n",
    "simulated_values = biosim.simulate(results_model_4_cross.getBetaValues())\n",
    "\n",
    "print(f\"Public transport revenues (no changes in policy): {simulated_values['revenues PT'].sum()}\")\n"
   ]
  },
  {
   "cell_type": "code",
   "execution_count": 108,
   "metadata": {},
   "outputs": [
    {
     "name": "stderr",
     "output_type": "stream",
     "text": [
      "The sum of the weights (4939.940013322009) is different from the sample size (5000). Multiply the weights by 1.0121580396757899 to reconcile the two.\n"
     ]
    },
    {
     "name": "stdout",
     "output_type": "stream",
     "text": [
      "Public transport revenues (scenario 1 policy): 3707.2121875182793\n"
     ]
    }
   ],
   "source": [
    "#scenario 1 (increase in car costs)\n",
    "\n",
    "prob_walk = models.cnl(V_s1, None, nests, 1)\n",
    "prob_cycling = models.cnl(V_s1, None, nests, 2)\n",
    "prob_pt = models.cnl(V_s1, None, nests, 3)\n",
    "prob_driving_scenario1 = models.cnl(V_s1, None, nests, 4)\n",
    "\n",
    "simulate = {\n",
    "    'weight': weight,\n",
    "    'revenues PT': prob_pt * cost_transit\n",
    "\n",
    "}\n",
    "\n",
    "biosim = bio.BIOGEME(database, simulate)\n",
    "simulated_values = biosim.simulate(results_model_4_cross.getBetaValues())\n",
    "\n",
    "print(f\"Public transport revenues (scenario 1 policy): {simulated_values['revenues PT'].sum()}\")"
   ]
  },
  {
   "cell_type": "code",
   "execution_count": 109,
   "metadata": {},
   "outputs": [
    {
     "name": "stderr",
     "output_type": "stream",
     "text": [
      "The sum of the weights (4939.940013322009) is different from the sample size (5000). Multiply the weights by 1.0121580396757899 to reconcile the two.\n"
     ]
    },
    {
     "name": "stdout",
     "output_type": "stream",
     "text": [
      "Public transport revenues (scenario 2 policy): 3972.919982635551\n"
     ]
    }
   ],
   "source": [
    "#scenario 2 (decrease in pt costs)\n",
    "\n",
    "prob_walk = models.cnl(V_s2, None, nests, 1)\n",
    "prob_cycling = models.cnl(V_s2, None, nests, 2)\n",
    "prob_pt = models.cnl(V_s2, None, nests, 3)\n",
    "prob_driving_scenario1 = models.cnl(V_s2, None, nests, 4)\n",
    "\n",
    "simulate = {\n",
    "    'weight': weight,\n",
    "    'revenues PT': prob_pt * cost_transit\n",
    "\n",
    "}\n",
    "\n",
    "biosim = bio.BIOGEME(database, simulate)\n",
    "simulated_values = biosim.simulate(results_model_4_cross.getBetaValues())\n",
    "\n",
    "print(f\"Public transport revenues (scenario 2 policy): {simulated_values['revenues PT'].sum()}\")"
   ]
  },
  {
   "cell_type": "markdown",
   "metadata": {},
   "source": [
    "The **second scenario** gives the highest revenues for public transport."
   ]
  },
  {
   "cell_type": "markdown",
   "metadata": {},
   "source": [
    "### Average value of time"
   ]
  },
  {
   "cell_type": "markdown",
   "metadata": {},
   "source": [
    "We want to compute the average VOT for both car and public transportation (in GBP/hour). To do so, we use the following formula:\n",
    "\n",
    "$$ \\text{(VOT)}_\\text{i} = \\frac{\\partial  \\text{(Utility)}_i}{\\partial \\text{(duration)}_i} : \\frac{\\partial  \\text{(Utility)}_i}{\\partial \\text{(cost)}_i} , i \\in \\{car,pt\\} $$\n"
   ]
  },
  {
   "cell_type": "code",
   "execution_count": 110,
   "metadata": {},
   "outputs": [
    {
     "name": "stderr",
     "output_type": "stream",
     "text": [
      "The sum of the weights (4939.940013322009) is different from the sample size (5000). Multiply the weights by 1.0121580396757899 to reconcile the two.\n"
     ]
    }
   ],
   "source": [
    "V_pt = models.cnl(V, None, nests, 3)\n",
    "V_driving = models.cnl(V, None, nests, 4)\n",
    "\n",
    "#idk why it doesn't work without defining both of the utilities upper ????\n",
    "\n",
    "vot_pt = Derive(V_pt, 'dur_pt_total') / Derive(V_pt, 'cost_transit')\n",
    "vot_car = Derive(V_driving, 'dur_driving') / Derive(V_driving, 'cost_driving_total')\n",
    "\n",
    "simulate = {\n",
    "    'weight': weight,\n",
    "    'WTP PT time': vot_pt,\n",
    "    'WTP CAR time': vot_car,\n",
    "}\n",
    "\n",
    "biosim = bio.BIOGEME(database, simulate)\n",
    "simulated_values = biosim.simulate(results_model_4_cross.getBetaValues())\n",
    "\n"
   ]
  },
  {
   "cell_type": "code",
   "execution_count": 111,
   "metadata": {},
   "outputs": [
    {
     "name": "stdout",
     "output_type": "stream",
     "text": [
      "Average value of time for public transport: 15.702796494892324  GBP/hour\n",
      "Average value of time for car: 30.628176945517996 GBP/hour\n"
     ]
    }
   ],
   "source": [
    "print(f\"Average value of time for public transport: {(simulated_values['weight']*simulated_values['WTP PT time']).mean()}  GBP/hour\")\n",
    "print(f\"Average value of time for car: {(simulated_values['weight']*simulated_values['WTP CAR time']).mean()} GBP/hour\")"
   ]
  },
  {
   "cell_type": "markdown",
   "metadata": {},
   "source": [
    "### Direct and cross aggregate elasticities"
   ]
  },
  {
   "cell_type": "markdown",
   "metadata": {},
   "source": [
    "Now we need to compute the direct and cross elasticites of car costs and public transport costs. \n",
    "\n",
    "The **direct price elasticity** for the car is the percent change in pt change resulting from a 1% change in car costs. The formula is given by:\n",
    "\n",
    "$$ E^{car}_{pt} =  \\frac{(cost_{transit})}{(cost_{driving_total})} \\cdot \\frac{\\partial  (cost_{driving_total})}{\\partial (cost_{transit})}$$\n",
    "\n",
    "The **cross price elasticity** is given by the following formula:\n",
    "\n"
   ]
  },
  {
   "cell_type": "code",
   "execution_count": 112,
   "metadata": {},
   "outputs": [
    {
     "name": "stderr",
     "output_type": "stream",
     "text": [
      "The sum of the weights (4939.940013322009) is different from the sample size (5000). Multiply the weights by 1.0121580396757899 to reconcile the two.\n"
     ]
    }
   ],
   "source": [
    "prob_pt = models.cnl(V, None, nests, 3)\n",
    "prob_driving = models.cnl(V, None, nests, 4)\n",
    "\n",
    "#direct elasticities \n",
    "direct_elas_pt_cost = Derive(prob_pt, 'cost_transit') * cost_transit / prob_pt\n",
    "direct_elas_driving_cost = Derive(prob_driving, 'cost_driving_total') * cost_driving_total / prob_driving\n",
    "\n",
    "simulate = {\n",
    "    'weight': weight,\n",
    "    'prob.driving': prob_driving,\n",
    "    'prob.pt': prob_pt,\n",
    "    'direct_elas_pt_cost': direct_elas_pt_cost,\n",
    "    'direct_elas_driving_cost': direct_elas_driving_cost\n",
    "}\n",
    "\n",
    "biosim = bio.BIOGEME(database, simulate)\n",
    "simulated_values = biosim.simulate(results_model_4_cross.getBetaValues())"
   ]
  },
  {
   "cell_type": "code",
   "execution_count": 113,
   "metadata": {},
   "outputs": [],
   "source": [
    "simulated_values['numerator_pt_cost'] = simulated_values['weight'] * simulated_values['prob.pt'] * simulated_values['direct_elas_pt_cost']\n",
    "simulated_values['numerator_driving_cost'] = simulated_values['weight'] * simulated_values['prob.driving'] * simulated_values['direct_elas_driving_cost']\n",
    "simulated_values['denominator_pt_cost'] = simulated_values['weight'] * simulated_values['prob.pt']\n",
    "simulated_values['denominator_driving_cost'] = simulated_values['weight'] * simulated_values['prob.driving']"
   ]
  },
  {
   "cell_type": "code",
   "execution_count": 114,
   "metadata": {
    "scrolled": true
   },
   "outputs": [
    {
     "name": "stdout",
     "output_type": "stream",
     "text": [
      "Elasticity of public transport cost: -0.11245905931957516\n",
      "Elasticity of public driving cost: -0.0719072180238916\n"
     ]
    }
   ],
   "source": [
    "#aggregate elasticities\n",
    "\n",
    "agg_elast_pt_cost = simulated_values['numerator_pt_cost'].sum()/simulated_values['denominator_pt_cost'].sum()\n",
    "agg_elast_driving_cost = simulated_values['numerator_driving_cost'].sum()/simulated_values['denominator_driving_cost'].sum()\n",
    "\n",
    "print(f\"Elasticity of public transport cost: {agg_elast_pt_cost}\")\n",
    "print(f\"Elasticity of public driving cost: {agg_elast_driving_cost}\")"
   ]
  }
 ],
 "metadata": {
  "kernelspec": {
   "display_name": "Python 3 (ipykernel)",
   "language": "python",
   "name": "python3"
  },
  "language_info": {
   "codemirror_mode": {
    "name": "ipython",
    "version": 3
   },
   "file_extension": ".py",
   "mimetype": "text/x-python",
   "name": "python",
   "nbconvert_exporter": "python",
   "pygments_lexer": "ipython3",
   "version": "3.8.18"
  }
 },
 "nbformat": 4,
 "nbformat_minor": 2
}
